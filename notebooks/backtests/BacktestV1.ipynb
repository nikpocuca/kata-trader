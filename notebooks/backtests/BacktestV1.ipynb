{
 "cells": [
  {
   "cell_type": "markdown",
   "metadata": {},
   "source": [
    "# Backtest Version 1 \n",
    "\n",
    "Uses pre-downloaded data on historicals to perform backtesting to now. \n",
    "\n",
    "Assumptions: 4% gain, on a $100 USD per tick loss. \n"
   ]
  },
  {
   "cell_type": "code",
   "execution_count": 18,
   "metadata": {},
   "outputs": [],
   "source": [
    "import QuantLib as ql \n",
    "from src.kata_alpaca_engine.engine_utilities import BackTestData\n",
    "from src.kata_models.GaussianProcessModel import RegressionModel\n",
    "from src.kata_alpaca_engine.ingestion_engine import Redis, RedisTableUtility\n",
    "import plotly.graph_objects as go\n",
    "from datetime import datetime\n",
    "\n"
   ]
  },
  {
   "cell_type": "code",
   "execution_count": 19,
   "metadata": {},
   "outputs": [],
   "source": [
    "connection  = Redis(host='red', port='6379')\n",
    "red_table = RedisTableUtility(connection)"
   ]
  },
  {
   "cell_type": "code",
   "execution_count": 20,
   "metadata": {},
   "outputs": [
    {
     "data": {
      "text/plain": [
       "['2024-07-26', '2024-07-29', '2024-08-01']"
      ]
     },
     "execution_count": 20,
     "metadata": {},
     "output_type": "execute_result"
    }
   ],
   "source": [
    "red_table.get_tags('_NVDA_HISTORICAL')"
   ]
  },
  {
   "cell_type": "code",
   "execution_count": 21,
   "metadata": {},
   "outputs": [],
   "source": [
    "df = red_table.get(key='_NVDA_HISTORICAL', date_key='2024-08-01')"
   ]
  },
  {
   "cell_type": "code",
   "execution_count": 78,
   "metadata": {},
   "outputs": [],
   "source": [
    "btest = BackTestData(df)"
   ]
  },
  {
   "cell_type": "code",
   "execution_count": 113,
   "metadata": {},
   "outputs": [
    {
     "name": "stderr",
     "output_type": "stream",
     "text": [
      "/usr/local/lib/python3.11/dist-packages/sklearn/gaussian_process/_gpr.py:659: ConvergenceWarning:\n",
      "\n",
      "lbfgs failed to converge (status=2):\n",
      "ABNORMAL_TERMINATION_IN_LNSRCH.\n",
      "\n",
      "Increase the number of iterations (max_iter) or scale the data as shown in:\n",
      "    https://scikit-learn.org/stable/modules/preprocessing.html\n",
      "\n"
     ]
    },
    {
     "data": {
      "application/vnd.plotly.v1+json": {
       "config": {
        "plotlyServerURL": "https://plot.ly"
       },
       "data": [
        {
         "marker": {
          "color": "red"
         },
         "mode": "markers",
         "name": "test_data",
         "type": "scatter",
         "x": [
          "2024-02-05T00:00:00",
          "2024-02-06T00:00:00",
          "2024-02-07T00:00:00",
          "2024-02-08T00:00:00",
          "2024-02-09T00:00:00"
         ],
         "y": [
          69.332,
          68.223,
          70.099,
          69.641,
          72.133
         ]
        },
        {
         "line": {
          "color": "black",
          "width": 2
         },
         "mode": "lines",
         "name": "test_fit",
         "type": "scatter",
         "x": [
          "2024-02-05T00:00:00",
          "2024-02-06T00:00:00",
          "2024-02-07T00:00:00",
          "2024-02-08T00:00:00",
          "2024-02-09T00:00:00"
         ],
         "y": [
          66.91892602134885,
          67.43563744305538,
          67.9006905446131,
          68.33161832559472,
          68.73787903004268
         ]
        },
        {
         "line": {
          "color": "black",
          "width": 2
         },
         "mode": "lines",
         "name": "Upper Band",
         "type": "scatter",
         "x": [
          "2024-02-05T00:00:00",
          "2024-02-06T00:00:00",
          "2024-02-07T00:00:00",
          "2024-02-08T00:00:00",
          "2024-02-09T00:00:00"
         ],
         "y": [
          69.3807492427973,
          70.55164869142062,
          71.63904707220571,
          72.66600274754244,
          73.64664997580955
         ]
        },
        {
         "line": {
          "color": "black",
          "width": 2
         },
         "mode": "lines",
         "name": "Lower Band",
         "type": "scatter",
         "x": [
          "2024-02-05T00:00:00",
          "2024-02-06T00:00:00",
          "2024-02-07T00:00:00",
          "2024-02-08T00:00:00",
          "2024-02-09T00:00:00"
         ],
         "y": [
          64.45710279990041,
          64.31962619469014,
          64.16233401702048,
          63.99723390364699,
          63.82910808427581
         ]
        },
        {
         "line": {
          "color": "rgba(0,100,80,0.2)"
         },
         "mode": "lines",
         "name": "Upper Band",
         "showlegend": false,
         "type": "scatter",
         "x": [
          "2024-02-05T00:00:00",
          "2024-02-06T00:00:00",
          "2024-02-07T00:00:00",
          "2024-02-08T00:00:00",
          "2024-02-09T00:00:00"
         ],
         "y": [
          69.3807492427973,
          70.55164869142062,
          71.63904707220571,
          72.66600274754244,
          73.64664997580955
         ]
        },
        {
         "fill": "tonexty",
         "line": {
          "color": "rgba(0,100,80,0.2)"
         },
         "mode": "lines",
         "name": "Lower Band",
         "showlegend": false,
         "type": "scatter",
         "x": [
          "2024-02-05T00:00:00",
          "2024-02-06T00:00:00",
          "2024-02-07T00:00:00",
          "2024-02-08T00:00:00",
          "2024-02-09T00:00:00"
         ],
         "y": [
          64.45710279990041,
          64.31962619469014,
          64.16233401702048,
          63.99723390364699,
          63.82910808427581
         ]
        }
       ],
       "layout": {
        "template": {
         "data": {
          "bar": [
           {
            "error_x": {
             "color": "#2a3f5f"
            },
            "error_y": {
             "color": "#2a3f5f"
            },
            "marker": {
             "line": {
              "color": "#E5ECF6",
              "width": 0.5
             },
             "pattern": {
              "fillmode": "overlay",
              "size": 10,
              "solidity": 0.2
             }
            },
            "type": "bar"
           }
          ],
          "barpolar": [
           {
            "marker": {
             "line": {
              "color": "#E5ECF6",
              "width": 0.5
             },
             "pattern": {
              "fillmode": "overlay",
              "size": 10,
              "solidity": 0.2
             }
            },
            "type": "barpolar"
           }
          ],
          "carpet": [
           {
            "aaxis": {
             "endlinecolor": "#2a3f5f",
             "gridcolor": "white",
             "linecolor": "white",
             "minorgridcolor": "white",
             "startlinecolor": "#2a3f5f"
            },
            "baxis": {
             "endlinecolor": "#2a3f5f",
             "gridcolor": "white",
             "linecolor": "white",
             "minorgridcolor": "white",
             "startlinecolor": "#2a3f5f"
            },
            "type": "carpet"
           }
          ],
          "choropleth": [
           {
            "colorbar": {
             "outlinewidth": 0,
             "ticks": ""
            },
            "type": "choropleth"
           }
          ],
          "contour": [
           {
            "colorbar": {
             "outlinewidth": 0,
             "ticks": ""
            },
            "colorscale": [
             [
              0,
              "#0d0887"
             ],
             [
              0.1111111111111111,
              "#46039f"
             ],
             [
              0.2222222222222222,
              "#7201a8"
             ],
             [
              0.3333333333333333,
              "#9c179e"
             ],
             [
              0.4444444444444444,
              "#bd3786"
             ],
             [
              0.5555555555555556,
              "#d8576b"
             ],
             [
              0.6666666666666666,
              "#ed7953"
             ],
             [
              0.7777777777777778,
              "#fb9f3a"
             ],
             [
              0.8888888888888888,
              "#fdca26"
             ],
             [
              1,
              "#f0f921"
             ]
            ],
            "type": "contour"
           }
          ],
          "contourcarpet": [
           {
            "colorbar": {
             "outlinewidth": 0,
             "ticks": ""
            },
            "type": "contourcarpet"
           }
          ],
          "heatmap": [
           {
            "colorbar": {
             "outlinewidth": 0,
             "ticks": ""
            },
            "colorscale": [
             [
              0,
              "#0d0887"
             ],
             [
              0.1111111111111111,
              "#46039f"
             ],
             [
              0.2222222222222222,
              "#7201a8"
             ],
             [
              0.3333333333333333,
              "#9c179e"
             ],
             [
              0.4444444444444444,
              "#bd3786"
             ],
             [
              0.5555555555555556,
              "#d8576b"
             ],
             [
              0.6666666666666666,
              "#ed7953"
             ],
             [
              0.7777777777777778,
              "#fb9f3a"
             ],
             [
              0.8888888888888888,
              "#fdca26"
             ],
             [
              1,
              "#f0f921"
             ]
            ],
            "type": "heatmap"
           }
          ],
          "heatmapgl": [
           {
            "colorbar": {
             "outlinewidth": 0,
             "ticks": ""
            },
            "colorscale": [
             [
              0,
              "#0d0887"
             ],
             [
              0.1111111111111111,
              "#46039f"
             ],
             [
              0.2222222222222222,
              "#7201a8"
             ],
             [
              0.3333333333333333,
              "#9c179e"
             ],
             [
              0.4444444444444444,
              "#bd3786"
             ],
             [
              0.5555555555555556,
              "#d8576b"
             ],
             [
              0.6666666666666666,
              "#ed7953"
             ],
             [
              0.7777777777777778,
              "#fb9f3a"
             ],
             [
              0.8888888888888888,
              "#fdca26"
             ],
             [
              1,
              "#f0f921"
             ]
            ],
            "type": "heatmapgl"
           }
          ],
          "histogram": [
           {
            "marker": {
             "pattern": {
              "fillmode": "overlay",
              "size": 10,
              "solidity": 0.2
             }
            },
            "type": "histogram"
           }
          ],
          "histogram2d": [
           {
            "colorbar": {
             "outlinewidth": 0,
             "ticks": ""
            },
            "colorscale": [
             [
              0,
              "#0d0887"
             ],
             [
              0.1111111111111111,
              "#46039f"
             ],
             [
              0.2222222222222222,
              "#7201a8"
             ],
             [
              0.3333333333333333,
              "#9c179e"
             ],
             [
              0.4444444444444444,
              "#bd3786"
             ],
             [
              0.5555555555555556,
              "#d8576b"
             ],
             [
              0.6666666666666666,
              "#ed7953"
             ],
             [
              0.7777777777777778,
              "#fb9f3a"
             ],
             [
              0.8888888888888888,
              "#fdca26"
             ],
             [
              1,
              "#f0f921"
             ]
            ],
            "type": "histogram2d"
           }
          ],
          "histogram2dcontour": [
           {
            "colorbar": {
             "outlinewidth": 0,
             "ticks": ""
            },
            "colorscale": [
             [
              0,
              "#0d0887"
             ],
             [
              0.1111111111111111,
              "#46039f"
             ],
             [
              0.2222222222222222,
              "#7201a8"
             ],
             [
              0.3333333333333333,
              "#9c179e"
             ],
             [
              0.4444444444444444,
              "#bd3786"
             ],
             [
              0.5555555555555556,
              "#d8576b"
             ],
             [
              0.6666666666666666,
              "#ed7953"
             ],
             [
              0.7777777777777778,
              "#fb9f3a"
             ],
             [
              0.8888888888888888,
              "#fdca26"
             ],
             [
              1,
              "#f0f921"
             ]
            ],
            "type": "histogram2dcontour"
           }
          ],
          "mesh3d": [
           {
            "colorbar": {
             "outlinewidth": 0,
             "ticks": ""
            },
            "type": "mesh3d"
           }
          ],
          "parcoords": [
           {
            "line": {
             "colorbar": {
              "outlinewidth": 0,
              "ticks": ""
             }
            },
            "type": "parcoords"
           }
          ],
          "pie": [
           {
            "automargin": true,
            "type": "pie"
           }
          ],
          "scatter": [
           {
            "fillpattern": {
             "fillmode": "overlay",
             "size": 10,
             "solidity": 0.2
            },
            "type": "scatter"
           }
          ],
          "scatter3d": [
           {
            "line": {
             "colorbar": {
              "outlinewidth": 0,
              "ticks": ""
             }
            },
            "marker": {
             "colorbar": {
              "outlinewidth": 0,
              "ticks": ""
             }
            },
            "type": "scatter3d"
           }
          ],
          "scattercarpet": [
           {
            "marker": {
             "colorbar": {
              "outlinewidth": 0,
              "ticks": ""
             }
            },
            "type": "scattercarpet"
           }
          ],
          "scattergeo": [
           {
            "marker": {
             "colorbar": {
              "outlinewidth": 0,
              "ticks": ""
             }
            },
            "type": "scattergeo"
           }
          ],
          "scattergl": [
           {
            "marker": {
             "colorbar": {
              "outlinewidth": 0,
              "ticks": ""
             }
            },
            "type": "scattergl"
           }
          ],
          "scattermapbox": [
           {
            "marker": {
             "colorbar": {
              "outlinewidth": 0,
              "ticks": ""
             }
            },
            "type": "scattermapbox"
           }
          ],
          "scatterpolar": [
           {
            "marker": {
             "colorbar": {
              "outlinewidth": 0,
              "ticks": ""
             }
            },
            "type": "scatterpolar"
           }
          ],
          "scatterpolargl": [
           {
            "marker": {
             "colorbar": {
              "outlinewidth": 0,
              "ticks": ""
             }
            },
            "type": "scatterpolargl"
           }
          ],
          "scatterternary": [
           {
            "marker": {
             "colorbar": {
              "outlinewidth": 0,
              "ticks": ""
             }
            },
            "type": "scatterternary"
           }
          ],
          "surface": [
           {
            "colorbar": {
             "outlinewidth": 0,
             "ticks": ""
            },
            "colorscale": [
             [
              0,
              "#0d0887"
             ],
             [
              0.1111111111111111,
              "#46039f"
             ],
             [
              0.2222222222222222,
              "#7201a8"
             ],
             [
              0.3333333333333333,
              "#9c179e"
             ],
             [
              0.4444444444444444,
              "#bd3786"
             ],
             [
              0.5555555555555556,
              "#d8576b"
             ],
             [
              0.6666666666666666,
              "#ed7953"
             ],
             [
              0.7777777777777778,
              "#fb9f3a"
             ],
             [
              0.8888888888888888,
              "#fdca26"
             ],
             [
              1,
              "#f0f921"
             ]
            ],
            "type": "surface"
           }
          ],
          "table": [
           {
            "cells": {
             "fill": {
              "color": "#EBF0F8"
             },
             "line": {
              "color": "white"
             }
            },
            "header": {
             "fill": {
              "color": "#C8D4E3"
             },
             "line": {
              "color": "white"
             }
            },
            "type": "table"
           }
          ]
         },
         "layout": {
          "annotationdefaults": {
           "arrowcolor": "#2a3f5f",
           "arrowhead": 0,
           "arrowwidth": 1
          },
          "autotypenumbers": "strict",
          "coloraxis": {
           "colorbar": {
            "outlinewidth": 0,
            "ticks": ""
           }
          },
          "colorscale": {
           "diverging": [
            [
             0,
             "#8e0152"
            ],
            [
             0.1,
             "#c51b7d"
            ],
            [
             0.2,
             "#de77ae"
            ],
            [
             0.3,
             "#f1b6da"
            ],
            [
             0.4,
             "#fde0ef"
            ],
            [
             0.5,
             "#f7f7f7"
            ],
            [
             0.6,
             "#e6f5d0"
            ],
            [
             0.7,
             "#b8e186"
            ],
            [
             0.8,
             "#7fbc41"
            ],
            [
             0.9,
             "#4d9221"
            ],
            [
             1,
             "#276419"
            ]
           ],
           "sequential": [
            [
             0,
             "#0d0887"
            ],
            [
             0.1111111111111111,
             "#46039f"
            ],
            [
             0.2222222222222222,
             "#7201a8"
            ],
            [
             0.3333333333333333,
             "#9c179e"
            ],
            [
             0.4444444444444444,
             "#bd3786"
            ],
            [
             0.5555555555555556,
             "#d8576b"
            ],
            [
             0.6666666666666666,
             "#ed7953"
            ],
            [
             0.7777777777777778,
             "#fb9f3a"
            ],
            [
             0.8888888888888888,
             "#fdca26"
            ],
            [
             1,
             "#f0f921"
            ]
           ],
           "sequentialminus": [
            [
             0,
             "#0d0887"
            ],
            [
             0.1111111111111111,
             "#46039f"
            ],
            [
             0.2222222222222222,
             "#7201a8"
            ],
            [
             0.3333333333333333,
             "#9c179e"
            ],
            [
             0.4444444444444444,
             "#bd3786"
            ],
            [
             0.5555555555555556,
             "#d8576b"
            ],
            [
             0.6666666666666666,
             "#ed7953"
            ],
            [
             0.7777777777777778,
             "#fb9f3a"
            ],
            [
             0.8888888888888888,
             "#fdca26"
            ],
            [
             1,
             "#f0f921"
            ]
           ]
          },
          "colorway": [
           "#636efa",
           "#EF553B",
           "#00cc96",
           "#ab63fa",
           "#FFA15A",
           "#19d3f3",
           "#FF6692",
           "#B6E880",
           "#FF97FF",
           "#FECB52"
          ],
          "font": {
           "color": "#2a3f5f"
          },
          "geo": {
           "bgcolor": "white",
           "lakecolor": "white",
           "landcolor": "#E5ECF6",
           "showlakes": true,
           "showland": true,
           "subunitcolor": "white"
          },
          "hoverlabel": {
           "align": "left"
          },
          "hovermode": "closest",
          "mapbox": {
           "style": "light"
          },
          "paper_bgcolor": "white",
          "plot_bgcolor": "#E5ECF6",
          "polar": {
           "angularaxis": {
            "gridcolor": "white",
            "linecolor": "white",
            "ticks": ""
           },
           "bgcolor": "#E5ECF6",
           "radialaxis": {
            "gridcolor": "white",
            "linecolor": "white",
            "ticks": ""
           }
          },
          "scene": {
           "xaxis": {
            "backgroundcolor": "#E5ECF6",
            "gridcolor": "white",
            "gridwidth": 2,
            "linecolor": "white",
            "showbackground": true,
            "ticks": "",
            "zerolinecolor": "white"
           },
           "yaxis": {
            "backgroundcolor": "#E5ECF6",
            "gridcolor": "white",
            "gridwidth": 2,
            "linecolor": "white",
            "showbackground": true,
            "ticks": "",
            "zerolinecolor": "white"
           },
           "zaxis": {
            "backgroundcolor": "#E5ECF6",
            "gridcolor": "white",
            "gridwidth": 2,
            "linecolor": "white",
            "showbackground": true,
            "ticks": "",
            "zerolinecolor": "white"
           }
          },
          "shapedefaults": {
           "line": {
            "color": "#2a3f5f"
           }
          },
          "ternary": {
           "aaxis": {
            "gridcolor": "white",
            "linecolor": "white",
            "ticks": ""
           },
           "baxis": {
            "gridcolor": "white",
            "linecolor": "white",
            "ticks": ""
           },
           "bgcolor": "#E5ECF6",
           "caxis": {
            "gridcolor": "white",
            "linecolor": "white",
            "ticks": ""
           }
          },
          "title": {
           "x": 0.05
          },
          "xaxis": {
           "automargin": true,
           "gridcolor": "white",
           "linecolor": "white",
           "ticks": "",
           "title": {
            "standoff": 15
           },
           "zerolinecolor": "white",
           "zerolinewidth": 2
          },
          "yaxis": {
           "automargin": true,
           "gridcolor": "white",
           "linecolor": "white",
           "ticks": "",
           "title": {
            "standoff": 15
           },
           "zerolinecolor": "white",
           "zerolinewidth": 2
          }
         }
        }
       }
      },
      "text/html": [
       "<div>                            <div id=\"da3c731f-512f-498d-b394-78ea2811ceaf\" class=\"plotly-graph-div\" style=\"height:525px; width:100%;\"></div>            <script type=\"text/javascript\">                require([\"plotly\"], function(Plotly) {                    window.PLOTLYENV=window.PLOTLYENV || {};                                    if (document.getElementById(\"da3c731f-512f-498d-b394-78ea2811ceaf\")) {                    Plotly.newPlot(                        \"da3c731f-512f-498d-b394-78ea2811ceaf\",                        [{\"marker\":{\"color\":\"red\"},\"mode\":\"markers\",\"name\":\"test_data\",\"x\":[\"2024-02-05T00:00:00\",\"2024-02-06T00:00:00\",\"2024-02-07T00:00:00\",\"2024-02-08T00:00:00\",\"2024-02-09T00:00:00\"],\"y\":[69.332,68.223,70.099,69.641,72.133],\"type\":\"scatter\"},{\"line\":{\"color\":\"black\",\"width\":2},\"mode\":\"lines\",\"name\":\"test_fit\",\"x\":[\"2024-02-05T00:00:00\",\"2024-02-06T00:00:00\",\"2024-02-07T00:00:00\",\"2024-02-08T00:00:00\",\"2024-02-09T00:00:00\"],\"y\":[66.91892602134885,67.43563744305538,67.9006905446131,68.33161832559472,68.73787903004268],\"type\":\"scatter\"},{\"line\":{\"color\":\"black\",\"width\":2},\"mode\":\"lines\",\"name\":\"Upper Band\",\"x\":[\"2024-02-05T00:00:00\",\"2024-02-06T00:00:00\",\"2024-02-07T00:00:00\",\"2024-02-08T00:00:00\",\"2024-02-09T00:00:00\"],\"y\":[69.3807492427973,70.55164869142062,71.63904707220571,72.66600274754244,73.64664997580955],\"type\":\"scatter\"},{\"line\":{\"color\":\"black\",\"width\":2},\"mode\":\"lines\",\"name\":\"Lower Band\",\"x\":[\"2024-02-05T00:00:00\",\"2024-02-06T00:00:00\",\"2024-02-07T00:00:00\",\"2024-02-08T00:00:00\",\"2024-02-09T00:00:00\"],\"y\":[64.45710279990041,64.31962619469014,64.16233401702048,63.99723390364699,63.82910808427581],\"type\":\"scatter\"},{\"line\":{\"color\":\"rgba(0,100,80,0.2)\"},\"mode\":\"lines\",\"name\":\"Upper Band\",\"showlegend\":false,\"x\":[\"2024-02-05T00:00:00\",\"2024-02-06T00:00:00\",\"2024-02-07T00:00:00\",\"2024-02-08T00:00:00\",\"2024-02-09T00:00:00\"],\"y\":[69.3807492427973,70.55164869142062,71.63904707220571,72.66600274754244,73.64664997580955],\"type\":\"scatter\"},{\"fill\":\"tonexty\",\"line\":{\"color\":\"rgba(0,100,80,0.2)\"},\"mode\":\"lines\",\"name\":\"Lower Band\",\"showlegend\":false,\"x\":[\"2024-02-05T00:00:00\",\"2024-02-06T00:00:00\",\"2024-02-07T00:00:00\",\"2024-02-08T00:00:00\",\"2024-02-09T00:00:00\"],\"y\":[64.45710279990041,64.31962619469014,64.16233401702048,63.99723390364699,63.82910808427581],\"type\":\"scatter\"}],                        {\"template\":{\"data\":{\"histogram2dcontour\":[{\"type\":\"histogram2dcontour\",\"colorbar\":{\"outlinewidth\":0,\"ticks\":\"\"},\"colorscale\":[[0.0,\"#0d0887\"],[0.1111111111111111,\"#46039f\"],[0.2222222222222222,\"#7201a8\"],[0.3333333333333333,\"#9c179e\"],[0.4444444444444444,\"#bd3786\"],[0.5555555555555556,\"#d8576b\"],[0.6666666666666666,\"#ed7953\"],[0.7777777777777778,\"#fb9f3a\"],[0.8888888888888888,\"#fdca26\"],[1.0,\"#f0f921\"]]}],\"choropleth\":[{\"type\":\"choropleth\",\"colorbar\":{\"outlinewidth\":0,\"ticks\":\"\"}}],\"histogram2d\":[{\"type\":\"histogram2d\",\"colorbar\":{\"outlinewidth\":0,\"ticks\":\"\"},\"colorscale\":[[0.0,\"#0d0887\"],[0.1111111111111111,\"#46039f\"],[0.2222222222222222,\"#7201a8\"],[0.3333333333333333,\"#9c179e\"],[0.4444444444444444,\"#bd3786\"],[0.5555555555555556,\"#d8576b\"],[0.6666666666666666,\"#ed7953\"],[0.7777777777777778,\"#fb9f3a\"],[0.8888888888888888,\"#fdca26\"],[1.0,\"#f0f921\"]]}],\"heatmap\":[{\"type\":\"heatmap\",\"colorbar\":{\"outlinewidth\":0,\"ticks\":\"\"},\"colorscale\":[[0.0,\"#0d0887\"],[0.1111111111111111,\"#46039f\"],[0.2222222222222222,\"#7201a8\"],[0.3333333333333333,\"#9c179e\"],[0.4444444444444444,\"#bd3786\"],[0.5555555555555556,\"#d8576b\"],[0.6666666666666666,\"#ed7953\"],[0.7777777777777778,\"#fb9f3a\"],[0.8888888888888888,\"#fdca26\"],[1.0,\"#f0f921\"]]}],\"heatmapgl\":[{\"type\":\"heatmapgl\",\"colorbar\":{\"outlinewidth\":0,\"ticks\":\"\"},\"colorscale\":[[0.0,\"#0d0887\"],[0.1111111111111111,\"#46039f\"],[0.2222222222222222,\"#7201a8\"],[0.3333333333333333,\"#9c179e\"],[0.4444444444444444,\"#bd3786\"],[0.5555555555555556,\"#d8576b\"],[0.6666666666666666,\"#ed7953\"],[0.7777777777777778,\"#fb9f3a\"],[0.8888888888888888,\"#fdca26\"],[1.0,\"#f0f921\"]]}],\"contourcarpet\":[{\"type\":\"contourcarpet\",\"colorbar\":{\"outlinewidth\":0,\"ticks\":\"\"}}],\"contour\":[{\"type\":\"contour\",\"colorbar\":{\"outlinewidth\":0,\"ticks\":\"\"},\"colorscale\":[[0.0,\"#0d0887\"],[0.1111111111111111,\"#46039f\"],[0.2222222222222222,\"#7201a8\"],[0.3333333333333333,\"#9c179e\"],[0.4444444444444444,\"#bd3786\"],[0.5555555555555556,\"#d8576b\"],[0.6666666666666666,\"#ed7953\"],[0.7777777777777778,\"#fb9f3a\"],[0.8888888888888888,\"#fdca26\"],[1.0,\"#f0f921\"]]}],\"surface\":[{\"type\":\"surface\",\"colorbar\":{\"outlinewidth\":0,\"ticks\":\"\"},\"colorscale\":[[0.0,\"#0d0887\"],[0.1111111111111111,\"#46039f\"],[0.2222222222222222,\"#7201a8\"],[0.3333333333333333,\"#9c179e\"],[0.4444444444444444,\"#bd3786\"],[0.5555555555555556,\"#d8576b\"],[0.6666666666666666,\"#ed7953\"],[0.7777777777777778,\"#fb9f3a\"],[0.8888888888888888,\"#fdca26\"],[1.0,\"#f0f921\"]]}],\"mesh3d\":[{\"type\":\"mesh3d\",\"colorbar\":{\"outlinewidth\":0,\"ticks\":\"\"}}],\"scatter\":[{\"fillpattern\":{\"fillmode\":\"overlay\",\"size\":10,\"solidity\":0.2},\"type\":\"scatter\"}],\"parcoords\":[{\"type\":\"parcoords\",\"line\":{\"colorbar\":{\"outlinewidth\":0,\"ticks\":\"\"}}}],\"scatterpolargl\":[{\"type\":\"scatterpolargl\",\"marker\":{\"colorbar\":{\"outlinewidth\":0,\"ticks\":\"\"}}}],\"bar\":[{\"error_x\":{\"color\":\"#2a3f5f\"},\"error_y\":{\"color\":\"#2a3f5f\"},\"marker\":{\"line\":{\"color\":\"#E5ECF6\",\"width\":0.5},\"pattern\":{\"fillmode\":\"overlay\",\"size\":10,\"solidity\":0.2}},\"type\":\"bar\"}],\"scattergeo\":[{\"type\":\"scattergeo\",\"marker\":{\"colorbar\":{\"outlinewidth\":0,\"ticks\":\"\"}}}],\"scatterpolar\":[{\"type\":\"scatterpolar\",\"marker\":{\"colorbar\":{\"outlinewidth\":0,\"ticks\":\"\"}}}],\"histogram\":[{\"marker\":{\"pattern\":{\"fillmode\":\"overlay\",\"size\":10,\"solidity\":0.2}},\"type\":\"histogram\"}],\"scattergl\":[{\"type\":\"scattergl\",\"marker\":{\"colorbar\":{\"outlinewidth\":0,\"ticks\":\"\"}}}],\"scatter3d\":[{\"type\":\"scatter3d\",\"line\":{\"colorbar\":{\"outlinewidth\":0,\"ticks\":\"\"}},\"marker\":{\"colorbar\":{\"outlinewidth\":0,\"ticks\":\"\"}}}],\"scattermapbox\":[{\"type\":\"scattermapbox\",\"marker\":{\"colorbar\":{\"outlinewidth\":0,\"ticks\":\"\"}}}],\"scatterternary\":[{\"type\":\"scatterternary\",\"marker\":{\"colorbar\":{\"outlinewidth\":0,\"ticks\":\"\"}}}],\"scattercarpet\":[{\"type\":\"scattercarpet\",\"marker\":{\"colorbar\":{\"outlinewidth\":0,\"ticks\":\"\"}}}],\"carpet\":[{\"aaxis\":{\"endlinecolor\":\"#2a3f5f\",\"gridcolor\":\"white\",\"linecolor\":\"white\",\"minorgridcolor\":\"white\",\"startlinecolor\":\"#2a3f5f\"},\"baxis\":{\"endlinecolor\":\"#2a3f5f\",\"gridcolor\":\"white\",\"linecolor\":\"white\",\"minorgridcolor\":\"white\",\"startlinecolor\":\"#2a3f5f\"},\"type\":\"carpet\"}],\"table\":[{\"cells\":{\"fill\":{\"color\":\"#EBF0F8\"},\"line\":{\"color\":\"white\"}},\"header\":{\"fill\":{\"color\":\"#C8D4E3\"},\"line\":{\"color\":\"white\"}},\"type\":\"table\"}],\"barpolar\":[{\"marker\":{\"line\":{\"color\":\"#E5ECF6\",\"width\":0.5},\"pattern\":{\"fillmode\":\"overlay\",\"size\":10,\"solidity\":0.2}},\"type\":\"barpolar\"}],\"pie\":[{\"automargin\":true,\"type\":\"pie\"}]},\"layout\":{\"autotypenumbers\":\"strict\",\"colorway\":[\"#636efa\",\"#EF553B\",\"#00cc96\",\"#ab63fa\",\"#FFA15A\",\"#19d3f3\",\"#FF6692\",\"#B6E880\",\"#FF97FF\",\"#FECB52\"],\"font\":{\"color\":\"#2a3f5f\"},\"hovermode\":\"closest\",\"hoverlabel\":{\"align\":\"left\"},\"paper_bgcolor\":\"white\",\"plot_bgcolor\":\"#E5ECF6\",\"polar\":{\"bgcolor\":\"#E5ECF6\",\"angularaxis\":{\"gridcolor\":\"white\",\"linecolor\":\"white\",\"ticks\":\"\"},\"radialaxis\":{\"gridcolor\":\"white\",\"linecolor\":\"white\",\"ticks\":\"\"}},\"ternary\":{\"bgcolor\":\"#E5ECF6\",\"aaxis\":{\"gridcolor\":\"white\",\"linecolor\":\"white\",\"ticks\":\"\"},\"baxis\":{\"gridcolor\":\"white\",\"linecolor\":\"white\",\"ticks\":\"\"},\"caxis\":{\"gridcolor\":\"white\",\"linecolor\":\"white\",\"ticks\":\"\"}},\"coloraxis\":{\"colorbar\":{\"outlinewidth\":0,\"ticks\":\"\"}},\"colorscale\":{\"sequential\":[[0.0,\"#0d0887\"],[0.1111111111111111,\"#46039f\"],[0.2222222222222222,\"#7201a8\"],[0.3333333333333333,\"#9c179e\"],[0.4444444444444444,\"#bd3786\"],[0.5555555555555556,\"#d8576b\"],[0.6666666666666666,\"#ed7953\"],[0.7777777777777778,\"#fb9f3a\"],[0.8888888888888888,\"#fdca26\"],[1.0,\"#f0f921\"]],\"sequentialminus\":[[0.0,\"#0d0887\"],[0.1111111111111111,\"#46039f\"],[0.2222222222222222,\"#7201a8\"],[0.3333333333333333,\"#9c179e\"],[0.4444444444444444,\"#bd3786\"],[0.5555555555555556,\"#d8576b\"],[0.6666666666666666,\"#ed7953\"],[0.7777777777777778,\"#fb9f3a\"],[0.8888888888888888,\"#fdca26\"],[1.0,\"#f0f921\"]],\"diverging\":[[0,\"#8e0152\"],[0.1,\"#c51b7d\"],[0.2,\"#de77ae\"],[0.3,\"#f1b6da\"],[0.4,\"#fde0ef\"],[0.5,\"#f7f7f7\"],[0.6,\"#e6f5d0\"],[0.7,\"#b8e186\"],[0.8,\"#7fbc41\"],[0.9,\"#4d9221\"],[1,\"#276419\"]]},\"xaxis\":{\"gridcolor\":\"white\",\"linecolor\":\"white\",\"ticks\":\"\",\"title\":{\"standoff\":15},\"zerolinecolor\":\"white\",\"automargin\":true,\"zerolinewidth\":2},\"yaxis\":{\"gridcolor\":\"white\",\"linecolor\":\"white\",\"ticks\":\"\",\"title\":{\"standoff\":15},\"zerolinecolor\":\"white\",\"automargin\":true,\"zerolinewidth\":2},\"scene\":{\"xaxis\":{\"backgroundcolor\":\"#E5ECF6\",\"gridcolor\":\"white\",\"linecolor\":\"white\",\"showbackground\":true,\"ticks\":\"\",\"zerolinecolor\":\"white\",\"gridwidth\":2},\"yaxis\":{\"backgroundcolor\":\"#E5ECF6\",\"gridcolor\":\"white\",\"linecolor\":\"white\",\"showbackground\":true,\"ticks\":\"\",\"zerolinecolor\":\"white\",\"gridwidth\":2},\"zaxis\":{\"backgroundcolor\":\"#E5ECF6\",\"gridcolor\":\"white\",\"linecolor\":\"white\",\"showbackground\":true,\"ticks\":\"\",\"zerolinecolor\":\"white\",\"gridwidth\":2}},\"shapedefaults\":{\"line\":{\"color\":\"#2a3f5f\"}},\"annotationdefaults\":{\"arrowcolor\":\"#2a3f5f\",\"arrowhead\":0,\"arrowwidth\":1},\"geo\":{\"bgcolor\":\"white\",\"landcolor\":\"#E5ECF6\",\"subunitcolor\":\"white\",\"showland\":true,\"showlakes\":true,\"lakecolor\":\"white\"},\"title\":{\"x\":0.05},\"mapbox\":{\"style\":\"light\"}}}},                        {\"responsive\": true}                    ).then(function(){\n",
       "                            \n",
       "var gd = document.getElementById('da3c731f-512f-498d-b394-78ea2811ceaf');\n",
       "var x = new MutationObserver(function (mutations, observer) {{\n",
       "        var display = window.getComputedStyle(gd).display;\n",
       "        if (!display || display === 'none') {{\n",
       "            console.log([gd, 'removed!']);\n",
       "            Plotly.purge(gd);\n",
       "            observer.disconnect();\n",
       "        }}\n",
       "}});\n",
       "\n",
       "// Listen for the removal of the full notebook cells\n",
       "var notebookContainer = gd.closest('#notebook-container');\n",
       "if (notebookContainer) {{\n",
       "    x.observe(notebookContainer, {childList: true});\n",
       "}}\n",
       "\n",
       "// Listen for the clearing of the current output cell\n",
       "var outputEl = gd.closest('.output');\n",
       "if (outputEl) {{\n",
       "    x.observe(outputEl, {childList: true});\n",
       "}}\n",
       "\n",
       "                        })                };                });            </script>        </div>"
      ]
     },
     "metadata": {},
     "output_type": "display_data"
    }
   ],
   "source": [
    "dataset_index = -1\n",
    "\n",
    "start_date = datetime(year=2023, month=10, day=29)\n",
    "end_date = datetime(year=2024, month=2, day=5)\n",
    "projection_date = ql.Date(9, 2, 2024)\n",
    "\n",
    "btest.create_backtest_data(\n",
    "   start_date,\n",
    "   end_date, \n",
    "   projection_date,\n",
    "   store_prices=True\n",
    ")\n",
    "\n",
    "\n",
    "btest.fit_model(dataset_index, lambda x,y: RegressionModel(x,y))\n",
    "\n",
    "\n",
    "yfit, ysigma = btest.predict(dataset_index) \n",
    "test_yfit , lower, upper = btest.create_bands(yfit, ysigma)\n",
    "training_f, lower_f, upper_f = btest.training_bands(dataset_index)\n",
    "\n",
    "\n",
    "\n",
    "prediction_markers = go.Scatter(x=btest.prediction_data[dataset_index], \n",
    "                            y=btest.prediction_data_price[dataset_index], \n",
    "                            mode='markers',\n",
    "                            marker=dict(color='red'),\n",
    "                            name='test_data')\n",
    "\n",
    "\n",
    "xt = btest.prediction_data[dataset_index]\n",
    "bands = [\n",
    "go.Scatter(x=xt, y=test_yfit, mode='lines', line=dict(color='black', width=2), name='test_fit'),\n",
    "go.Scatter(x=xt, y=upper, mode = 'lines', line=dict(color='black', width=2), name='Upper Band'),\n",
    "go.Scatter(x=xt, y=lower, mode = 'lines', line=dict(color='black', width=2), name='Lower Band'),\n",
    "go.Scatter(x=xt, y=upper, fill=None, mode='lines', line=dict(color='rgba(0,100,80,0.2)'),  name='Upper Band', showlegend=False),\n",
    "go.Scatter(x=xt, y=lower, fill='tonexty', mode='lines', line=dict(color='rgba(0,100,80,0.2)'), name='Lower Band', showlegend=False),\n",
    "]\n",
    "\n",
    "x = btest.data[dataset_index][0]\n",
    "training_fit_bands = [\n",
    "go.Scatter(x=x, y=training_f, name='training_fit', mode='lines'),\n",
    "go.Scatter(x=x, y=upper_f, line=dict(color='black', width=2), name='Upper Band'),\n",
    "go.Scatter(x=x, y=lower_f, line=dict(color='black', width=2), name='Lower Band'),\n",
    "go.Scatter(x=x, y=upper_f, fill=None, mode='lines', line=dict(color='rgba(0,100,80,0.2)'), showlegend=False),\n",
    "go.Scatter(x=x, y=lower_f, fill='tonexty', mode='lines', line=dict(color='rgba(0,100,80,0.2)'), showlegend=False),\n",
    "] \n",
    "\n",
    "figure_inputs = [prediction_markers, *bands]\n",
    "\n",
    "fig = go.Figure(figure_inputs)\n",
    "\n",
    "fig.show()"
   ]
  },
  {
   "cell_type": "code",
   "execution_count": 115,
   "metadata": {},
   "outputs": [],
   "source": [
    "from datetime import datetime, timedelta\n",
    "\n",
    "\n",
    "\n",
    "def shifted_dates(start_date_str, end_date_str, projection_day='Friday'):\n",
    "    # Convert input date strings to datetime objects\n",
    "    start_date = datetime.strptime(start_date_str, \"%Y-%m-%d\")\n",
    "    end_date = datetime.strptime(end_date_str, \"%Y-%m-%d\")\n",
    "\n",
    "    # Shift dates by 7 days\n",
    "    new_start_date = start_date + timedelta(days=7)\n",
    "    new_end_date = end_date + timedelta(days=7)\n",
    "\n",
    "    # Find the next specified day (Friday) after the new start date\n",
    "    day_of_week = new_start_date.weekday()\n",
    "    days_to_projection = (4 - day_of_week) % 7  # 4 is Friday\n",
    "    new_projection_date = new_end_date + timedelta(days=days_to_projection)\n",
    "\n",
    "    # Format dates to string\n",
    "    new_start_date_str = new_start_date\n",
    "    new_end_date_str = new_end_date\n",
    "    new_projection_date_str = new_projection_date\n",
    "\n",
    "    return new_start_date_str, new_end_date_str, new_projection_date_str\n",
    "\n"
   ]
  },
  {
   "cell_type": "code",
   "execution_count": 116,
   "metadata": {},
   "outputs": [
    {
     "name": "stderr",
     "output_type": "stream",
     "text": [
      "/usr/local/lib/python3.11/dist-packages/sklearn/gaussian_process/kernels.py:442: ConvergenceWarning:\n",
      "\n",
      "The optimal value found for dimension 0 of parameter k1__k1__k2__k1__constant_value is close to the specified lower bound 1e-05. Decreasing the bound and calling fit again may find a better value.\n",
      "\n",
      "/usr/local/lib/python3.11/dist-packages/sklearn/gaussian_process/kernels.py:442: ConvergenceWarning:\n",
      "\n",
      "The optimal value found for dimension 0 of parameter k1__k1__k2__k2__sigma_0 is close to the specified lower bound 1e-05. Decreasing the bound and calling fit again may find a better value.\n",
      "\n",
      "/usr/local/lib/python3.11/dist-packages/sklearn/gaussian_process/kernels.py:442: ConvergenceWarning:\n",
      "\n",
      "The optimal value found for dimension 0 of parameter k1__k1__k2__k1__constant_value is close to the specified lower bound 1e-05. Decreasing the bound and calling fit again may find a better value.\n",
      "\n",
      "/usr/local/lib/python3.11/dist-packages/sklearn/gaussian_process/kernels.py:442: ConvergenceWarning:\n",
      "\n",
      "The optimal value found for dimension 0 of parameter k1__k1__k2__k1__constant_value is close to the specified lower bound 1e-05. Decreasing the bound and calling fit again may find a better value.\n",
      "\n"
     ]
    }
   ],
   "source": [
    "date_format = '%Y-%m-%d'\n",
    "\n",
    "for i in range(14):\n",
    "    new_start_date, new_end_date, new_projected_date = shifted_dates(\n",
    "        start_date.strftime(date_format),\n",
    "        end_date.strftime(date_format),\n",
    "        btest.convert_ql_to_datetime(projection_date).strftime(date_format),\n",
    "    )\n",
    "\n",
    "\n",
    "    new_projected_date = btest.convert_datetime_to_ql(new_projected_date)\n",
    "\n",
    "    dataset_index = -1\n",
    "    btest.create_backtest_data(\n",
    "        new_start_date,\n",
    "        new_end_date, \n",
    "        new_projected_date, \n",
    "    store_prices=True\n",
    "    )\n",
    "\n",
    "    start_date = new_start_date\n",
    "    end_date = new_end_date\n",
    "    projection_date = new_projected_date\n",
    "\n",
    "    btest.fit_model(dataset_index, lambda x,y: RegressionModel(x,y))\n",
    "\n",
    "\n",
    "    yfit, ysigma = btest.predict(dataset_index) \n",
    "    test_yfit , lower, upper = btest.create_bands(yfit, ysigma)\n",
    "    training_f, lower_f, upper_f = btest.training_bands(dataset_index)\n",
    "\n",
    "\n",
    "\n",
    "    prediction_markers = go.Scatter(x=btest.prediction_data[dataset_index], \n",
    "                                y=btest.prediction_data_price[dataset_index], \n",
    "                                mode='markers',\n",
    "                                marker=dict(color='red'),\n",
    "                                name='test_data')\n",
    "\n",
    "\n",
    "    xt = btest.prediction_data[dataset_index]\n",
    "\n",
    "    bands = [\n",
    "    go.Scatter(x=xt, y=test_yfit, mode='lines', line=dict(color='black', width=2), name='test_fit'),\n",
    "    go.Scatter(x=xt, y=upper, mode = 'lines', line=dict(color='black', width=2), name='Upper Band'),\n",
    "    go.Scatter(x=xt, y=lower, mode = 'lines', line=dict(color='black', width=2), name='Lower Band'),\n",
    "    go.Scatter(x=xt, y=upper, fill=None, mode='lines', line=dict(color='rgba(0,100,80,0.2)'),  name='Upper Band', showlegend=False),\n",
    "    go.Scatter(x=xt, y=lower, fill='tonexty', mode='lines', line=dict(color='rgba(0,100,80,0.2)'), name='Lower Band', showlegend=False),\n",
    "    ]\n",
    "\n",
    "    x = btest.data[dataset_index][0]\n",
    "    training_fit_bands = [\n",
    "    go.Scatter(x=x, y=training_f, name='training_fit', mode='lines'),\n",
    "    go.Scatter(x=x, y=upper_f, line=dict(color='black', width=2), name='Upper Band'),\n",
    "    go.Scatter(x=x, y=lower_f, line=dict(color='black', width=2), name='Lower Band'),\n",
    "    go.Scatter(x=x, y=upper_f, fill=None, mode='lines', line=dict(color='rgba(0,100,80,0.2)'), showlegend=False),\n",
    "    go.Scatter(x=x, y=lower_f, fill='tonexty', mode='lines', line=dict(color='rgba(0,100,80,0.2)'), showlegend=False),\n",
    "    ] \n",
    "\n",
    "    figure_inputs += [prediction_markers, *bands]\n",
    "\n",
    "    fig = go.Figure(figure_inputs)"
   ]
  },
  {
   "cell_type": "code",
   "execution_count": 117,
   "metadata": {},
   "outputs": [
    {
     "data": {
      "application/vnd.plotly.v1+json": {
       "config": {
        "plotlyServerURL": "https://plot.ly"
       },
       "data": [
        {
         "marker": {
          "color": "red"
         },
         "mode": "markers",
         "name": "test_data",
         "type": "scatter",
         "x": [
          "2024-02-05T00:00:00",
          "2024-02-06T00:00:00",
          "2024-02-07T00:00:00",
          "2024-02-08T00:00:00",
          "2024-02-09T00:00:00"
         ],
         "y": [
          69.332,
          68.223,
          70.099,
          69.641,
          72.133
         ]
        },
        {
         "line": {
          "color": "black",
          "width": 2
         },
         "mode": "lines",
         "name": "test_fit",
         "type": "scatter",
         "x": [
          "2024-02-05T00:00:00",
          "2024-02-06T00:00:00",
          "2024-02-07T00:00:00",
          "2024-02-08T00:00:00",
          "2024-02-09T00:00:00"
         ],
         "y": [
          66.91892602134885,
          67.43563744305538,
          67.9006905446131,
          68.33161832559472,
          68.73787903004268
         ]
        },
        {
         "line": {
          "color": "black",
          "width": 2
         },
         "mode": "lines",
         "name": "Upper Band",
         "type": "scatter",
         "x": [
          "2024-02-05T00:00:00",
          "2024-02-06T00:00:00",
          "2024-02-07T00:00:00",
          "2024-02-08T00:00:00",
          "2024-02-09T00:00:00"
         ],
         "y": [
          69.3807492427973,
          70.55164869142062,
          71.63904707220571,
          72.66600274754244,
          73.64664997580955
         ]
        },
        {
         "line": {
          "color": "black",
          "width": 2
         },
         "mode": "lines",
         "name": "Lower Band",
         "type": "scatter",
         "x": [
          "2024-02-05T00:00:00",
          "2024-02-06T00:00:00",
          "2024-02-07T00:00:00",
          "2024-02-08T00:00:00",
          "2024-02-09T00:00:00"
         ],
         "y": [
          64.45710279990041,
          64.31962619469014,
          64.16233401702048,
          63.99723390364699,
          63.82910808427581
         ]
        },
        {
         "line": {
          "color": "rgba(0,100,80,0.2)"
         },
         "mode": "lines",
         "name": "Upper Band",
         "showlegend": false,
         "type": "scatter",
         "x": [
          "2024-02-05T00:00:00",
          "2024-02-06T00:00:00",
          "2024-02-07T00:00:00",
          "2024-02-08T00:00:00",
          "2024-02-09T00:00:00"
         ],
         "y": [
          69.3807492427973,
          70.55164869142062,
          71.63904707220571,
          72.66600274754244,
          73.64664997580955
         ]
        },
        {
         "fill": "tonexty",
         "line": {
          "color": "rgba(0,100,80,0.2)"
         },
         "mode": "lines",
         "name": "Lower Band",
         "showlegend": false,
         "type": "scatter",
         "x": [
          "2024-02-05T00:00:00",
          "2024-02-06T00:00:00",
          "2024-02-07T00:00:00",
          "2024-02-08T00:00:00",
          "2024-02-09T00:00:00"
         ],
         "y": [
          64.45710279990041,
          64.31962619469014,
          64.16233401702048,
          63.99723390364699,
          63.82910808427581
         ]
        },
        {
         "marker": {
          "color": "red"
         },
         "mode": "markers",
         "name": "test_data",
         "type": "scatter",
         "x": [
          "2024-02-12T00:00:00",
          "2024-02-13T00:00:00",
          "2024-02-14T00:00:00",
          "2024-02-15T00:00:00",
          "2024-02-16T00:00:00"
         ],
         "y": [
          72.248,
          72.128,
          73.9,
          72.658,
          72.613
         ]
        },
        {
         "line": {
          "color": "black",
          "width": 2
         },
         "mode": "lines",
         "name": "test_fit",
         "type": "scatter",
         "x": [
          "2024-02-12T00:00:00",
          "2024-02-13T00:00:00",
          "2024-02-14T00:00:00",
          "2024-02-15T00:00:00",
          "2024-02-16T00:00:00"
         ],
         "y": [
          72.82992274366575,
          73.34008626733157,
          73.81616517871748,
          74.26752397441396,
          74.69961405666731
         ]
        },
        {
         "line": {
          "color": "black",
          "width": 2
         },
         "mode": "lines",
         "name": "Upper Band",
         "type": "scatter",
         "x": [
          "2024-02-12T00:00:00",
          "2024-02-13T00:00:00",
          "2024-02-14T00:00:00",
          "2024-02-15T00:00:00",
          "2024-02-16T00:00:00"
         ],
         "y": [
          75.3206781075515,
          76.42670290795598,
          77.47644594743923,
          78.48118282257208,
          79.4491436145559
         ]
        },
        {
         "line": {
          "color": "black",
          "width": 2
         },
         "mode": "lines",
         "name": "Lower Band",
         "type": "scatter",
         "x": [
          "2024-02-12T00:00:00",
          "2024-02-13T00:00:00",
          "2024-02-14T00:00:00",
          "2024-02-15T00:00:00",
          "2024-02-16T00:00:00"
         ],
         "y": [
          70.33916737978,
          70.25346962670716,
          70.15588440999574,
          70.05386512625584,
          69.95008449877874
         ]
        },
        {
         "line": {
          "color": "rgba(0,100,80,0.2)"
         },
         "mode": "lines",
         "name": "Upper Band",
         "showlegend": false,
         "type": "scatter",
         "x": [
          "2024-02-12T00:00:00",
          "2024-02-13T00:00:00",
          "2024-02-14T00:00:00",
          "2024-02-15T00:00:00",
          "2024-02-16T00:00:00"
         ],
         "y": [
          75.3206781075515,
          76.42670290795598,
          77.47644594743923,
          78.48118282257208,
          79.4491436145559
         ]
        },
        {
         "fill": "tonexty",
         "line": {
          "color": "rgba(0,100,80,0.2)"
         },
         "mode": "lines",
         "name": "Lower Band",
         "showlegend": false,
         "type": "scatter",
         "x": [
          "2024-02-12T00:00:00",
          "2024-02-13T00:00:00",
          "2024-02-14T00:00:00",
          "2024-02-15T00:00:00",
          "2024-02-16T00:00:00"
         ],
         "y": [
          70.33916737978,
          70.25346962670716,
          70.15588440999574,
          70.05386512625584,
          69.95008449877874
         ]
        },
        {
         "marker": {
          "color": "red"
         },
         "mode": "markers",
         "name": "test_data",
         "type": "scatter",
         "x": [
          "2024-02-20T00:00:00",
          "2024-02-21T00:00:00",
          "2024-02-22T00:00:00",
          "2024-02-23T00:00:00"
         ],
         "y": [
          69.452,
          67.472,
          78.538,
          78.817
         ]
        },
        {
         "line": {
          "color": "black",
          "width": 2
         },
         "mode": "lines",
         "name": "test_fit",
         "type": "scatter",
         "x": [
          "2024-02-20T00:00:00",
          "2024-02-21T00:00:00",
          "2024-02-22T00:00:00",
          "2024-02-23T00:00:00"
         ],
         "y": [
          73.50652304281175,
          73.75070223744297,
          73.99763102586621,
          74.24538610976015
         ]
        },
        {
         "line": {
          "color": "black",
          "width": 2
         },
         "mode": "lines",
         "name": "Upper Band",
         "type": "scatter",
         "x": [
          "2024-02-20T00:00:00",
          "2024-02-21T00:00:00",
          "2024-02-22T00:00:00",
          "2024-02-23T00:00:00"
         ],
         "y": [
          76.75241130247939,
          77.55134866102445,
          78.33713499723652,
          79.10905801230655
         ]
        },
        {
         "line": {
          "color": "black",
          "width": 2
         },
         "mode": "lines",
         "name": "Lower Band",
         "type": "scatter",
         "x": [
          "2024-02-20T00:00:00",
          "2024-02-21T00:00:00",
          "2024-02-22T00:00:00",
          "2024-02-23T00:00:00"
         ],
         "y": [
          70.26063478314411,
          69.95005581386148,
          69.6581270544959,
          69.38171420721375
         ]
        },
        {
         "line": {
          "color": "rgba(0,100,80,0.2)"
         },
         "mode": "lines",
         "name": "Upper Band",
         "showlegend": false,
         "type": "scatter",
         "x": [
          "2024-02-20T00:00:00",
          "2024-02-21T00:00:00",
          "2024-02-22T00:00:00",
          "2024-02-23T00:00:00"
         ],
         "y": [
          76.75241130247939,
          77.55134866102445,
          78.33713499723652,
          79.10905801230655
         ]
        },
        {
         "fill": "tonexty",
         "line": {
          "color": "rgba(0,100,80,0.2)"
         },
         "mode": "lines",
         "name": "Lower Band",
         "showlegend": false,
         "type": "scatter",
         "x": [
          "2024-02-20T00:00:00",
          "2024-02-21T00:00:00",
          "2024-02-22T00:00:00",
          "2024-02-23T00:00:00"
         ],
         "y": [
          70.26063478314411,
          69.95005581386148,
          69.6581270544959,
          69.38171420721375
         ]
        },
        {
         "marker": {
          "color": "red"
         },
         "mode": "markers",
         "name": "test_data",
         "type": "scatter",
         "x": [
          "2024-02-26T00:00:00",
          "2024-02-27T00:00:00",
          "2024-02-28T00:00:00",
          "2024-02-29T00:00:00",
          "2024-03-01T00:00:00"
         ],
         "y": [
          79.092,
          78.701,
          77.663,
          79.112,
          82.279
         ]
        },
        {
         "line": {
          "color": "black",
          "width": 2
         },
         "mode": "lines",
         "name": "test_fit",
         "type": "scatter",
         "x": [
          "2024-02-26T00:00:00",
          "2024-02-27T00:00:00",
          "2024-02-28T00:00:00",
          "2024-02-29T00:00:00",
          "2024-03-01T00:00:00"
         ],
         "y": [
          79.52480455011327,
          80.13181874010569,
          80.65093300125565,
          81.10990188753657,
          81.52475087946323
         ]
        },
        {
         "line": {
          "color": "black",
          "width": 2
         },
         "mode": "lines",
         "name": "Upper Band",
         "type": "scatter",
         "x": [
          "2024-02-26T00:00:00",
          "2024-02-27T00:00:00",
          "2024-02-28T00:00:00",
          "2024-02-29T00:00:00",
          "2024-03-01T00:00:00"
         ],
         "y": [
          83.83901637504954,
          85.3171396352643,
          86.67880449647201,
          87.94998477961705,
          89.1485972391332
         ]
        },
        {
         "line": {
          "color": "black",
          "width": 2
         },
         "mode": "lines",
         "name": "Lower Band",
         "type": "scatter",
         "x": [
          "2024-02-26T00:00:00",
          "2024-02-27T00:00:00",
          "2024-02-28T00:00:00",
          "2024-02-29T00:00:00",
          "2024-03-01T00:00:00"
         ],
         "y": [
          75.21059272517701,
          74.94649784494707,
          74.62306150603929,
          74.26981899545608,
          73.90090451979326
         ]
        },
        {
         "line": {
          "color": "rgba(0,100,80,0.2)"
         },
         "mode": "lines",
         "name": "Upper Band",
         "showlegend": false,
         "type": "scatter",
         "x": [
          "2024-02-26T00:00:00",
          "2024-02-27T00:00:00",
          "2024-02-28T00:00:00",
          "2024-02-29T00:00:00",
          "2024-03-01T00:00:00"
         ],
         "y": [
          83.83901637504954,
          85.3171396352643,
          86.67880449647201,
          87.94998477961705,
          89.1485972391332
         ]
        },
        {
         "fill": "tonexty",
         "line": {
          "color": "rgba(0,100,80,0.2)"
         },
         "mode": "lines",
         "name": "Lower Band",
         "showlegend": false,
         "type": "scatter",
         "x": [
          "2024-02-26T00:00:00",
          "2024-02-27T00:00:00",
          "2024-02-28T00:00:00",
          "2024-02-29T00:00:00",
          "2024-03-01T00:00:00"
         ],
         "y": [
          75.21059272517701,
          74.94649784494707,
          74.62306150603929,
          74.26981899545608,
          73.90090451979326
         ]
        },
        {
         "marker": {
          "color": "red"
         },
         "mode": "markers",
         "name": "test_data",
         "type": "scatter",
         "x": [
          "2024-03-04T00:00:00",
          "2024-03-05T00:00:00",
          "2024-03-06T00:00:00",
          "2024-03-07T00:00:00",
          "2024-03-08T00:00:00"
         ],
         "y": [
          85.237,
          85.964,
          88.7,
          92.669,
          87.528
         ]
        },
        {
         "line": {
          "color": "black",
          "width": 2
         },
         "mode": "lines",
         "name": "test_fit",
         "type": "scatter",
         "x": [
          "2024-03-04T00:00:00",
          "2024-03-05T00:00:00",
          "2024-03-06T00:00:00",
          "2024-03-07T00:00:00",
          "2024-03-08T00:00:00"
         ],
         "y": [
          82.0168293897973,
          82.34769238185913,
          82.64135083582596,
          82.91142943751856,
          83.1657100691948
         ]
        },
        {
         "line": {
          "color": "black",
          "width": 2
         },
         "mode": "lines",
         "name": "Upper Band",
         "type": "scatter",
         "x": [
          "2024-03-04T00:00:00",
          "2024-03-05T00:00:00",
          "2024-03-06T00:00:00",
          "2024-03-07T00:00:00",
          "2024-03-08T00:00:00"
         ],
         "y": [
          86.34447513350877,
          87.47184468173295,
          88.51474883218329,
          89.48739193970599,
          90.40137644952232
         ]
        },
        {
         "line": {
          "color": "black",
          "width": 2
         },
         "mode": "lines",
         "name": "Lower Band",
         "type": "scatter",
         "x": [
          "2024-03-04T00:00:00",
          "2024-03-05T00:00:00",
          "2024-03-06T00:00:00",
          "2024-03-07T00:00:00",
          "2024-03-08T00:00:00"
         ],
         "y": [
          77.68918364608582,
          77.22354008198532,
          76.76795283946863,
          76.33546693533114,
          75.93004368886729
         ]
        },
        {
         "line": {
          "color": "rgba(0,100,80,0.2)"
         },
         "mode": "lines",
         "name": "Upper Band",
         "showlegend": false,
         "type": "scatter",
         "x": [
          "2024-03-04T00:00:00",
          "2024-03-05T00:00:00",
          "2024-03-06T00:00:00",
          "2024-03-07T00:00:00",
          "2024-03-08T00:00:00"
         ],
         "y": [
          86.34447513350877,
          87.47184468173295,
          88.51474883218329,
          89.48739193970599,
          90.40137644952232
         ]
        },
        {
         "fill": "tonexty",
         "line": {
          "color": "rgba(0,100,80,0.2)"
         },
         "mode": "lines",
         "name": "Lower Band",
         "showlegend": false,
         "type": "scatter",
         "x": [
          "2024-03-04T00:00:00",
          "2024-03-05T00:00:00",
          "2024-03-06T00:00:00",
          "2024-03-07T00:00:00",
          "2024-03-08T00:00:00"
         ],
         "y": [
          77.68918364608582,
          77.22354008198532,
          76.76795283946863,
          76.33546693533114,
          75.93004368886729
         ]
        },
        {
         "marker": {
          "color": "red"
         },
         "mode": "markers",
         "name": "test_data",
         "type": "scatter",
         "x": [
          "2024-03-11T00:00:00",
          "2024-03-12T00:00:00",
          "2024-03-13T00:00:00",
          "2024-03-14T00:00:00",
          "2024-03-15T00:00:00"
         ],
         "y": [
          85.774,
          91.913,
          90.888,
          87.944,
          87.8365
         ]
        },
        {
         "line": {
          "color": "black",
          "width": 2
         },
         "mode": "lines",
         "name": "test_fit",
         "type": "scatter",
         "x": [
          "2024-03-11T00:00:00",
          "2024-03-12T00:00:00",
          "2024-03-13T00:00:00",
          "2024-03-14T00:00:00",
          "2024-03-15T00:00:00"
         ],
         "y": [
          90.14389797105332,
          90.54422617622686,
          90.9344904206323,
          91.3149323157113,
          91.68703049828082
         ]
        },
        {
         "line": {
          "color": "black",
          "width": 2
         },
         "mode": "lines",
         "name": "Upper Band",
         "type": "scatter",
         "x": [
          "2024-03-11T00:00:00",
          "2024-03-12T00:00:00",
          "2024-03-13T00:00:00",
          "2024-03-14T00:00:00",
          "2024-03-15T00:00:00"
         ],
         "y": [
          94.70430568600135,
          95.81344934160367,
          96.88551685051335,
          97.91633970765362,
          98.90767100270381
         ]
        },
        {
         "line": {
          "color": "black",
          "width": 2
         },
         "mode": "lines",
         "name": "Lower Band",
         "type": "scatter",
         "x": [
          "2024-03-11T00:00:00",
          "2024-03-12T00:00:00",
          "2024-03-13T00:00:00",
          "2024-03-14T00:00:00",
          "2024-03-15T00:00:00"
         ],
         "y": [
          85.58349025610529,
          85.27500301085004,
          84.98346399075125,
          84.71352492376899,
          84.46638999385783
         ]
        },
        {
         "line": {
          "color": "rgba(0,100,80,0.2)"
         },
         "mode": "lines",
         "name": "Upper Band",
         "showlegend": false,
         "type": "scatter",
         "x": [
          "2024-03-11T00:00:00",
          "2024-03-12T00:00:00",
          "2024-03-13T00:00:00",
          "2024-03-14T00:00:00",
          "2024-03-15T00:00:00"
         ],
         "y": [
          94.70430568600135,
          95.81344934160367,
          96.88551685051335,
          97.91633970765362,
          98.90767100270381
         ]
        },
        {
         "fill": "tonexty",
         "line": {
          "color": "rgba(0,100,80,0.2)"
         },
         "mode": "lines",
         "name": "Lower Band",
         "showlegend": false,
         "type": "scatter",
         "x": [
          "2024-03-11T00:00:00",
          "2024-03-12T00:00:00",
          "2024-03-13T00:00:00",
          "2024-03-14T00:00:00",
          "2024-03-15T00:00:00"
         ],
         "y": [
          85.58349025610529,
          85.27500301085004,
          84.98346399075125,
          84.71352492376899,
          84.46638999385783
         ]
        },
        {
         "marker": {
          "color": "red"
         },
         "mode": "markers",
         "name": "test_data",
         "type": "scatter",
         "x": [
          "2024-03-18T00:00:00",
          "2024-03-19T00:00:00",
          "2024-03-20T00:00:00",
          "2024-03-21T00:00:00",
          "2024-03-22T00:00:00"
         ],
         "y": [
          88.455,
          89.398,
          90.372,
          91.435,
          94.289
         ]
        },
        {
         "line": {
          "color": "black",
          "width": 2
         },
         "mode": "lines",
         "name": "test_fit",
         "type": "scatter",
         "x": [
          "2024-03-18T00:00:00",
          "2024-03-19T00:00:00",
          "2024-03-20T00:00:00",
          "2024-03-21T00:00:00",
          "2024-03-22T00:00:00"
         ],
         "y": [
          89.03070132224684,
          89.32475219325215,
          89.64385588475034,
          89.98216707373194,
          90.33587169771499
         ]
        },
        {
         "line": {
          "color": "black",
          "width": 2
         },
         "mode": "lines",
         "name": "Upper Band",
         "type": "scatter",
         "x": [
          "2024-03-18T00:00:00",
          "2024-03-19T00:00:00",
          "2024-03-20T00:00:00",
          "2024-03-21T00:00:00",
          "2024-03-22T00:00:00"
         ],
         "y": [
          94.59773957685994,
          95.4948049264986,
          96.34816768335459,
          97.16081087281654,
          97.93733013187199
         ]
        },
        {
         "line": {
          "color": "black",
          "width": 2
         },
         "mode": "lines",
         "name": "Lower Band",
         "type": "scatter",
         "x": [
          "2024-03-18T00:00:00",
          "2024-03-19T00:00:00",
          "2024-03-20T00:00:00",
          "2024-03-21T00:00:00",
          "2024-03-22T00:00:00"
         ],
         "y": [
          83.46366306763375,
          83.1546994600057,
          82.93954408614609,
          82.80352327464735,
          82.734413263558
         ]
        },
        {
         "line": {
          "color": "rgba(0,100,80,0.2)"
         },
         "mode": "lines",
         "name": "Upper Band",
         "showlegend": false,
         "type": "scatter",
         "x": [
          "2024-03-18T00:00:00",
          "2024-03-19T00:00:00",
          "2024-03-20T00:00:00",
          "2024-03-21T00:00:00",
          "2024-03-22T00:00:00"
         ],
         "y": [
          94.59773957685994,
          95.4948049264986,
          96.34816768335459,
          97.16081087281654,
          97.93733013187199
         ]
        },
        {
         "fill": "tonexty",
         "line": {
          "color": "rgba(0,100,80,0.2)"
         },
         "mode": "lines",
         "name": "Lower Band",
         "showlegend": false,
         "type": "scatter",
         "x": [
          "2024-03-18T00:00:00",
          "2024-03-19T00:00:00",
          "2024-03-20T00:00:00",
          "2024-03-21T00:00:00",
          "2024-03-22T00:00:00"
         ],
         "y": [
          83.46366306763375,
          83.1546994600057,
          82.93954408614609,
          82.80352327464735,
          82.734413263558
         ]
        },
        {
         "marker": {
          "color": "red"
         },
         "mode": "markers",
         "name": "test_data",
         "type": "scatter",
         "x": [
          "2024-03-25T00:00:00",
          "2024-03-26T00:00:00",
          "2024-03-27T00:00:00",
          "2024-03-28T00:00:00"
         ],
         "y": [
          95.002,
          92.561,
          90.25,
          90.356
         ]
        },
        {
         "line": {
          "color": "black",
          "width": 2
         },
         "mode": "lines",
         "name": "test_fit",
         "type": "scatter",
         "x": [
          "2024-03-25T00:00:00",
          "2024-03-26T00:00:00",
          "2024-03-27T00:00:00",
          "2024-03-28T00:00:00"
         ],
         "y": [
          94.40279827791028,
          94.66267771561274,
          94.94895876020769,
          95.26469602081829
         ]
        },
        {
         "line": {
          "color": "black",
          "width": 2
         },
         "mode": "lines",
         "name": "Upper Band",
         "type": "scatter",
         "x": [
          "2024-03-25T00:00:00",
          "2024-03-26T00:00:00",
          "2024-03-27T00:00:00",
          "2024-03-28T00:00:00"
         ],
         "y": [
          100.12672084722577,
          100.88787750102126,
          101.55235252175851,
          102.15828410695127
         ]
        },
        {
         "line": {
          "color": "black",
          "width": 2
         },
         "mode": "lines",
         "name": "Lower Band",
         "type": "scatter",
         "x": [
          "2024-03-25T00:00:00",
          "2024-03-26T00:00:00",
          "2024-03-27T00:00:00",
          "2024-03-28T00:00:00"
         ],
         "y": [
          88.67887570859479,
          88.43747793020422,
          88.34556499865687,
          88.37110793468531
         ]
        },
        {
         "line": {
          "color": "rgba(0,100,80,0.2)"
         },
         "mode": "lines",
         "name": "Upper Band",
         "showlegend": false,
         "type": "scatter",
         "x": [
          "2024-03-25T00:00:00",
          "2024-03-26T00:00:00",
          "2024-03-27T00:00:00",
          "2024-03-28T00:00:00"
         ],
         "y": [
          100.12672084722577,
          100.88787750102126,
          101.55235252175851,
          102.15828410695127
         ]
        },
        {
         "fill": "tonexty",
         "line": {
          "color": "rgba(0,100,80,0.2)"
         },
         "mode": "lines",
         "name": "Lower Band",
         "showlegend": false,
         "type": "scatter",
         "x": [
          "2024-03-25T00:00:00",
          "2024-03-26T00:00:00",
          "2024-03-27T00:00:00",
          "2024-03-28T00:00:00"
         ],
         "y": [
          88.67887570859479,
          88.43747793020422,
          88.34556499865687,
          88.37110793468531
         ]
        },
        {
         "marker": {
          "color": "red"
         },
         "mode": "markers",
         "name": "test_data",
         "type": "scatter",
         "x": [
          "2024-04-01T00:00:00",
          "2024-04-02T00:00:00",
          "2024-04-03T00:00:00",
          "2024-04-04T00:00:00",
          "2024-04-05T00:00:00"
         ],
         "y": [
          90.363,
          89.452,
          88.964,
          85.905,
          88.008
         ]
        },
        {
         "line": {
          "color": "black",
          "width": 2
         },
         "mode": "lines",
         "name": "test_fit",
         "type": "scatter",
         "x": [
          "2024-04-01T00:00:00",
          "2024-04-02T00:00:00",
          "2024-04-03T00:00:00",
          "2024-04-04T00:00:00",
          "2024-04-05T00:00:00"
         ],
         "y": [
          96.66031773464455,
          97.4091753380328,
          98.05638707027727,
          98.64948180180585,
          99.21412262537034
         ]
        },
        {
         "line": {
          "color": "black",
          "width": 2
         },
         "mode": "lines",
         "name": "Upper Band",
         "type": "scatter",
         "x": [
          "2024-04-01T00:00:00",
          "2024-04-02T00:00:00",
          "2024-04-03T00:00:00",
          "2024-04-04T00:00:00",
          "2024-04-05T00:00:00"
         ],
         "y": [
          102.2336130981752,
          103.04930240032685,
          103.73421962884652,
          104.35270783778876,
          104.93718868522687
         ]
        },
        {
         "line": {
          "color": "black",
          "width": 2
         },
         "mode": "lines",
         "name": "Lower Band",
         "type": "scatter",
         "x": [
          "2024-04-01T00:00:00",
          "2024-04-02T00:00:00",
          "2024-04-03T00:00:00",
          "2024-04-04T00:00:00",
          "2024-04-05T00:00:00"
         ],
         "y": [
          91.0870223711139,
          91.76904827573874,
          92.37855451170802,
          92.94625576582294,
          93.4910565655138
         ]
        },
        {
         "line": {
          "color": "rgba(0,100,80,0.2)"
         },
         "mode": "lines",
         "name": "Upper Band",
         "showlegend": false,
         "type": "scatter",
         "x": [
          "2024-04-01T00:00:00",
          "2024-04-02T00:00:00",
          "2024-04-03T00:00:00",
          "2024-04-04T00:00:00",
          "2024-04-05T00:00:00"
         ],
         "y": [
          102.2336130981752,
          103.04930240032685,
          103.73421962884652,
          104.35270783778876,
          104.93718868522687
         ]
        },
        {
         "fill": "tonexty",
         "line": {
          "color": "rgba(0,100,80,0.2)"
         },
         "mode": "lines",
         "name": "Lower Band",
         "showlegend": false,
         "type": "scatter",
         "x": [
          "2024-04-01T00:00:00",
          "2024-04-02T00:00:00",
          "2024-04-03T00:00:00",
          "2024-04-04T00:00:00",
          "2024-04-05T00:00:00"
         ],
         "y": [
          91.0870223711139,
          91.76904827573874,
          92.37855451170802,
          92.94625576582294,
          93.4910565655138
         ]
        },
        {
         "marker": {
          "color": "red"
         },
         "mode": "markers",
         "name": "test_data",
         "type": "scatter",
         "x": [
          "2024-04-08T00:00:00",
          "2024-04-09T00:00:00",
          "2024-04-10T00:00:00",
          "2024-04-11T00:00:00",
          "2024-04-12T00:00:00"
         ],
         "y": [
          87.133,
          85.354,
          87.039,
          90.616,
          88.186
         ]
        },
        {
         "line": {
          "color": "black",
          "width": 2
         },
         "mode": "lines",
         "name": "test_fit",
         "type": "scatter",
         "x": [
          "2024-04-08T00:00:00",
          "2024-04-09T00:00:00",
          "2024-04-10T00:00:00",
          "2024-04-11T00:00:00",
          "2024-04-12T00:00:00"
         ],
         "y": [
          88.54133176803589,
          88.70425939559937,
          88.88875246047974,
          89.09081792831421,
          89.30755567550659
         ]
        },
        {
         "line": {
          "color": "black",
          "width": 2
         },
         "mode": "lines",
         "name": "Upper Band",
         "type": "scatter",
         "x": [
          "2024-04-08T00:00:00",
          "2024-04-09T00:00:00",
          "2024-04-10T00:00:00",
          "2024-04-11T00:00:00",
          "2024-04-12T00:00:00"
         ],
         "y": [
          94.62447564870824,
          95.30667864335209,
          96.02085652408,
          96.75792588333356,
          97.51192821215392
         ]
        },
        {
         "line": {
          "color": "black",
          "width": 2
         },
         "mode": "lines",
         "name": "Lower Band",
         "type": "scatter",
         "x": [
          "2024-04-08T00:00:00",
          "2024-04-09T00:00:00",
          "2024-04-10T00:00:00",
          "2024-04-11T00:00:00",
          "2024-04-12T00:00:00"
         ],
         "y": [
          82.45818788736354,
          82.10184014784664,
          81.75664839687947,
          81.42370997329486,
          81.10318313885927
         ]
        },
        {
         "line": {
          "color": "rgba(0,100,80,0.2)"
         },
         "mode": "lines",
         "name": "Upper Band",
         "showlegend": false,
         "type": "scatter",
         "x": [
          "2024-04-08T00:00:00",
          "2024-04-09T00:00:00",
          "2024-04-10T00:00:00",
          "2024-04-11T00:00:00",
          "2024-04-12T00:00:00"
         ],
         "y": [
          94.62447564870824,
          95.30667864335209,
          96.02085652408,
          96.75792588333356,
          97.51192821215392
         ]
        },
        {
         "fill": "tonexty",
         "line": {
          "color": "rgba(0,100,80,0.2)"
         },
         "mode": "lines",
         "name": "Lower Band",
         "showlegend": false,
         "type": "scatter",
         "x": [
          "2024-04-08T00:00:00",
          "2024-04-09T00:00:00",
          "2024-04-10T00:00:00",
          "2024-04-11T00:00:00",
          "2024-04-12T00:00:00"
         ],
         "y": [
          82.45818788736354,
          82.10184014784664,
          81.75664839687947,
          81.42370997329486,
          81.10318313885927
         ]
        },
        {
         "marker": {
          "color": "red"
         },
         "mode": "markers",
         "name": "test_data",
         "type": "scatter",
         "x": [
          "2024-04-15T00:00:00",
          "2024-04-16T00:00:00",
          "2024-04-17T00:00:00",
          "2024-04-18T00:00:00",
          "2024-04-19T00:00:00"
         ],
         "y": [
          86.001,
          87.415,
          84.035,
          84.671,
          76.2
         ]
        },
        {
         "line": {
          "color": "black",
          "width": 2
         },
         "mode": "lines",
         "name": "test_fit",
         "type": "scatter",
         "x": [
          "2024-04-15T00:00:00",
          "2024-04-16T00:00:00",
          "2024-04-17T00:00:00",
          "2024-04-18T00:00:00",
          "2024-04-19T00:00:00"
         ],
         "y": [
          89.21576145962513,
          89.41823073651994,
          89.62095689434773,
          89.82481899924778,
          90.03028529161998
         ]
        },
        {
         "line": {
          "color": "black",
          "width": 2
         },
         "mode": "lines",
         "name": "Upper Band",
         "type": "scatter",
         "x": [
          "2024-04-15T00:00:00",
          "2024-04-16T00:00:00",
          "2024-04-17T00:00:00",
          "2024-04-18T00:00:00",
          "2024-04-19T00:00:00"
         ],
         "y": [
          95.21353340609221,
          96.14551458725634,
          97.07215817721489,
          97.99041248144304,
          98.89927163807454
         ]
        },
        {
         "line": {
          "color": "black",
          "width": 2
         },
         "mode": "lines",
         "name": "Lower Band",
         "type": "scatter",
         "x": [
          "2024-04-15T00:00:00",
          "2024-04-16T00:00:00",
          "2024-04-17T00:00:00",
          "2024-04-18T00:00:00",
          "2024-04-19T00:00:00"
         ],
         "y": [
          83.21798951315805,
          82.69094688578355,
          82.16975561148057,
          81.65922551705252,
          81.16129894516541
         ]
        },
        {
         "line": {
          "color": "rgba(0,100,80,0.2)"
         },
         "mode": "lines",
         "name": "Upper Band",
         "showlegend": false,
         "type": "scatter",
         "x": [
          "2024-04-15T00:00:00",
          "2024-04-16T00:00:00",
          "2024-04-17T00:00:00",
          "2024-04-18T00:00:00",
          "2024-04-19T00:00:00"
         ],
         "y": [
          95.21353340609221,
          96.14551458725634,
          97.07215817721489,
          97.99041248144304,
          98.89927163807454
         ]
        },
        {
         "fill": "tonexty",
         "line": {
          "color": "rgba(0,100,80,0.2)"
         },
         "mode": "lines",
         "name": "Lower Band",
         "showlegend": false,
         "type": "scatter",
         "x": [
          "2024-04-15T00:00:00",
          "2024-04-16T00:00:00",
          "2024-04-17T00:00:00",
          "2024-04-18T00:00:00",
          "2024-04-19T00:00:00"
         ],
         "y": [
          83.21798951315805,
          82.69094688578355,
          82.16975561148057,
          81.65922551705252,
          81.16129894516541
         ]
        },
        {
         "marker": {
          "color": "red"
         },
         "mode": "markers",
         "name": "test_data",
         "type": "scatter",
         "x": [
          "2024-04-22T00:00:00",
          "2024-04-23T00:00:00",
          "2024-04-24T00:00:00",
          "2024-04-25T00:00:00",
          "2024-04-26T00:00:00"
         ],
         "y": [
          79.518,
          82.423,
          79.677,
          82.632,
          87.735
         ]
        },
        {
         "line": {
          "color": "black",
          "width": 2
         },
         "mode": "lines",
         "name": "test_fit",
         "type": "scatter",
         "x": [
          "2024-04-22T00:00:00",
          "2024-04-23T00:00:00",
          "2024-04-24T00:00:00",
          "2024-04-25T00:00:00",
          "2024-04-26T00:00:00"
         ],
         "y": [
          77.84023154153601,
          77.36491656101907,
          76.94449044776047,
          76.56462071068745,
          76.21616203517715
         ]
        },
        {
         "line": {
          "color": "black",
          "width": 2
         },
         "mode": "lines",
         "name": "Upper Band",
         "type": "scatter",
         "x": [
          "2024-04-22T00:00:00",
          "2024-04-23T00:00:00",
          "2024-04-24T00:00:00",
          "2024-04-25T00:00:00",
          "2024-04-26T00:00:00"
         ],
         "y": [
          84.76488821215182,
          85.21726652652082,
          85.70645642532799,
          86.2152955466073,
          86.73435585159305
         ]
        },
        {
         "line": {
          "color": "black",
          "width": 2
         },
         "mode": "lines",
         "name": "Lower Band",
         "type": "scatter",
         "x": [
          "2024-04-22T00:00:00",
          "2024-04-23T00:00:00",
          "2024-04-24T00:00:00",
          "2024-04-25T00:00:00",
          "2024-04-26T00:00:00"
         ],
         "y": [
          70.91557487092021,
          69.51256659551733,
          68.18252447019296,
          66.9139458747676,
          65.69796821876125
         ]
        },
        {
         "line": {
          "color": "rgba(0,100,80,0.2)"
         },
         "mode": "lines",
         "name": "Upper Band",
         "showlegend": false,
         "type": "scatter",
         "x": [
          "2024-04-22T00:00:00",
          "2024-04-23T00:00:00",
          "2024-04-24T00:00:00",
          "2024-04-25T00:00:00",
          "2024-04-26T00:00:00"
         ],
         "y": [
          84.76488821215182,
          85.21726652652082,
          85.70645642532799,
          86.2152955466073,
          86.73435585159305
         ]
        },
        {
         "fill": "tonexty",
         "line": {
          "color": "rgba(0,100,80,0.2)"
         },
         "mode": "lines",
         "name": "Lower Band",
         "showlegend": false,
         "type": "scatter",
         "x": [
          "2024-04-22T00:00:00",
          "2024-04-23T00:00:00",
          "2024-04-24T00:00:00",
          "2024-04-25T00:00:00",
          "2024-04-26T00:00:00"
         ],
         "y": [
          70.91557487092021,
          69.51256659551733,
          68.18252447019296,
          66.9139458747676,
          65.69796821876125
         ]
        },
        {
         "marker": {
          "color": "red"
         },
         "mode": "markers",
         "name": "test_data",
         "type": "scatter",
         "x": [
          "2024-04-29T00:00:00",
          "2024-04-30T00:00:00",
          "2024-05-01T00:00:00",
          "2024-05-02T00:00:00",
          "2024-05-03T00:00:00"
         ],
         "y": [
          87.757,
          86.402,
          83.041,
          85.817,
          88.789
         ]
        },
        {
         "line": {
          "color": "black",
          "width": 2
         },
         "mode": "lines",
         "name": "test_fit",
         "type": "scatter",
         "x": [
          "2024-04-29T00:00:00",
          "2024-04-30T00:00:00",
          "2024-05-01T00:00:00",
          "2024-05-02T00:00:00",
          "2024-05-03T00:00:00"
         ],
         "y": [
          85.69798765360156,
          85.83799819692649,
          85.9413303734218,
          86.01836653948976,
          86.07557440850906
         ]
        },
        {
         "line": {
          "color": "black",
          "width": 2
         },
         "mode": "lines",
         "name": "Upper Band",
         "type": "scatter",
         "x": [
          "2024-04-29T00:00:00",
          "2024-04-30T00:00:00",
          "2024-05-01T00:00:00",
          "2024-05-02T00:00:00",
          "2024-05-03T00:00:00"
         ],
         "y": [
          92.8710668170711,
          93.93685932953045,
          94.95106229482599,
          95.92044642911091,
          96.85064540937567
         ]
        },
        {
         "line": {
          "color": "black",
          "width": 2
         },
         "mode": "lines",
         "name": "Lower Band",
         "type": "scatter",
         "x": [
          "2024-04-29T00:00:00",
          "2024-04-30T00:00:00",
          "2024-05-01T00:00:00",
          "2024-05-02T00:00:00",
          "2024-05-03T00:00:00"
         ],
         "y": [
          78.52490849013202,
          77.73913706432253,
          76.93159845201762,
          76.11628664986861,
          75.30050340764244
         ]
        },
        {
         "line": {
          "color": "rgba(0,100,80,0.2)"
         },
         "mode": "lines",
         "name": "Upper Band",
         "showlegend": false,
         "type": "scatter",
         "x": [
          "2024-04-29T00:00:00",
          "2024-04-30T00:00:00",
          "2024-05-01T00:00:00",
          "2024-05-02T00:00:00",
          "2024-05-03T00:00:00"
         ],
         "y": [
          92.8710668170711,
          93.93685932953045,
          94.95106229482599,
          95.92044642911091,
          96.85064540937567
         ]
        },
        {
         "fill": "tonexty",
         "line": {
          "color": "rgba(0,100,80,0.2)"
         },
         "mode": "lines",
         "name": "Lower Band",
         "showlegend": false,
         "type": "scatter",
         "x": [
          "2024-04-29T00:00:00",
          "2024-04-30T00:00:00",
          "2024-05-01T00:00:00",
          "2024-05-02T00:00:00",
          "2024-05-03T00:00:00"
         ],
         "y": [
          78.52490849013202,
          77.73913706432253,
          76.93159845201762,
          76.11628664986861,
          75.30050340764244
         ]
        },
        {
         "marker": {
          "color": "red"
         },
         "mode": "markers",
         "name": "test_data",
         "type": "scatter",
         "x": [
          "2024-05-06T00:00:00",
          "2024-05-07T00:00:00",
          "2024-05-08T00:00:00",
          "2024-05-09T00:00:00",
          "2024-05-10T00:00:00"
         ],
         "y": [
          92.14,
          90.554,
          90.412,
          88.747,
          89.878
         ]
        },
        {
         "line": {
          "color": "black",
          "width": 2
         },
         "mode": "lines",
         "name": "test_fit",
         "type": "scatter",
         "x": [
          "2024-05-06T00:00:00",
          "2024-05-07T00:00:00",
          "2024-05-08T00:00:00",
          "2024-05-09T00:00:00",
          "2024-05-10T00:00:00"
         ],
         "y": [
          87.73305787101708,
          87.88719124684576,
          88.02644374767988,
          88.15452482022374,
          88.27380226364039
         ]
        },
        {
         "line": {
          "color": "black",
          "width": 2
         },
         "mode": "lines",
         "name": "Upper Band",
         "type": "scatter",
         "x": [
          "2024-05-06T00:00:00",
          "2024-05-07T00:00:00",
          "2024-05-08T00:00:00",
          "2024-05-09T00:00:00",
          "2024-05-10T00:00:00"
         ],
         "y": [
          94.87545344242868,
          95.8759929246789,
          96.85553952500801,
          97.81295529042177,
          98.74869330981721
         ]
        },
        {
         "line": {
          "color": "black",
          "width": 2
         },
         "mode": "lines",
         "name": "Lower Band",
         "type": "scatter",
         "x": [
          "2024-05-06T00:00:00",
          "2024-05-07T00:00:00",
          "2024-05-08T00:00:00",
          "2024-05-09T00:00:00",
          "2024-05-10T00:00:00"
         ],
         "y": [
          80.59066229960548,
          79.89838956901262,
          79.19734797035174,
          78.49609435002571,
          77.79891121746357
         ]
        },
        {
         "line": {
          "color": "rgba(0,100,80,0.2)"
         },
         "mode": "lines",
         "name": "Upper Band",
         "showlegend": false,
         "type": "scatter",
         "x": [
          "2024-05-06T00:00:00",
          "2024-05-07T00:00:00",
          "2024-05-08T00:00:00",
          "2024-05-09T00:00:00",
          "2024-05-10T00:00:00"
         ],
         "y": [
          94.87545344242868,
          95.8759929246789,
          96.85553952500801,
          97.81295529042177,
          98.74869330981721
         ]
        },
        {
         "fill": "tonexty",
         "line": {
          "color": "rgba(0,100,80,0.2)"
         },
         "mode": "lines",
         "name": "Lower Band",
         "showlegend": false,
         "type": "scatter",
         "x": [
          "2024-05-06T00:00:00",
          "2024-05-07T00:00:00",
          "2024-05-08T00:00:00",
          "2024-05-09T00:00:00",
          "2024-05-10T00:00:00"
         ],
         "y": [
          80.59066229960548,
          79.89838956901262,
          79.19734797035174,
          78.49609435002571,
          77.79891121746357
         ]
        },
        {
         "marker": {
          "color": "red"
         },
         "mode": "markers",
         "name": "test_data",
         "type": "scatter",
         "x": [
          "2024-05-13T00:00:00",
          "2024-05-14T00:00:00",
          "2024-05-15T00:00:00",
          "2024-05-16T00:00:00",
          "2024-05-17T00:00:00"
         ],
         "y": [
          90.399,
          91.356,
          94.63,
          94.359,
          92.479
         ]
        },
        {
         "line": {
          "color": "black",
          "width": 2
         },
         "mode": "lines",
         "name": "test_fit",
         "type": "scatter",
         "x": [
          "2024-05-13T00:00:00",
          "2024-05-14T00:00:00",
          "2024-05-15T00:00:00",
          "2024-05-16T00:00:00",
          "2024-05-17T00:00:00"
         ],
         "y": [
          89.9299024517959,
          89.95884652508539,
          89.98407447561385,
          90.0052084043009,
          90.02218336076112
         ]
        },
        {
         "line": {
          "color": "black",
          "width": 2
         },
         "mode": "lines",
         "name": "Upper Band",
         "type": "scatter",
         "x": [
          "2024-05-13T00:00:00",
          "2024-05-14T00:00:00",
          "2024-05-15T00:00:00",
          "2024-05-16T00:00:00",
          "2024-05-17T00:00:00"
         ],
         "y": [
          97.21145701248561,
          98.14445670212042,
          99.06192346987322,
          99.9592441982179,
          100.83503124775626
         ]
        },
        {
         "line": {
          "color": "black",
          "width": 2
         },
         "mode": "lines",
         "name": "Lower Band",
         "type": "scatter",
         "x": [
          "2024-05-13T00:00:00",
          "2024-05-14T00:00:00",
          "2024-05-15T00:00:00",
          "2024-05-16T00:00:00",
          "2024-05-17T00:00:00"
         ],
         "y": [
          82.64834789110618,
          81.77323634805036,
          80.90622548135448,
          80.0511726103839,
          79.20933547376598
         ]
        },
        {
         "line": {
          "color": "rgba(0,100,80,0.2)"
         },
         "mode": "lines",
         "name": "Upper Band",
         "showlegend": false,
         "type": "scatter",
         "x": [
          "2024-05-13T00:00:00",
          "2024-05-14T00:00:00",
          "2024-05-15T00:00:00",
          "2024-05-16T00:00:00",
          "2024-05-17T00:00:00"
         ],
         "y": [
          97.21145701248561,
          98.14445670212042,
          99.06192346987322,
          99.9592441982179,
          100.83503124775626
         ]
        },
        {
         "fill": "tonexty",
         "line": {
          "color": "rgba(0,100,80,0.2)"
         },
         "mode": "lines",
         "name": "Lower Band",
         "showlegend": false,
         "type": "scatter",
         "x": [
          "2024-05-13T00:00:00",
          "2024-05-14T00:00:00",
          "2024-05-15T00:00:00",
          "2024-05-16T00:00:00",
          "2024-05-17T00:00:00"
         ],
         "y": [
          82.64834789110618,
          81.77323634805036,
          80.90622548135448,
          80.0511726103839,
          79.20933547376598
         ]
        }
       ],
       "layout": {
        "template": {
         "data": {
          "bar": [
           {
            "error_x": {
             "color": "#2a3f5f"
            },
            "error_y": {
             "color": "#2a3f5f"
            },
            "marker": {
             "line": {
              "color": "#E5ECF6",
              "width": 0.5
             },
             "pattern": {
              "fillmode": "overlay",
              "size": 10,
              "solidity": 0.2
             }
            },
            "type": "bar"
           }
          ],
          "barpolar": [
           {
            "marker": {
             "line": {
              "color": "#E5ECF6",
              "width": 0.5
             },
             "pattern": {
              "fillmode": "overlay",
              "size": 10,
              "solidity": 0.2
             }
            },
            "type": "barpolar"
           }
          ],
          "carpet": [
           {
            "aaxis": {
             "endlinecolor": "#2a3f5f",
             "gridcolor": "white",
             "linecolor": "white",
             "minorgridcolor": "white",
             "startlinecolor": "#2a3f5f"
            },
            "baxis": {
             "endlinecolor": "#2a3f5f",
             "gridcolor": "white",
             "linecolor": "white",
             "minorgridcolor": "white",
             "startlinecolor": "#2a3f5f"
            },
            "type": "carpet"
           }
          ],
          "choropleth": [
           {
            "colorbar": {
             "outlinewidth": 0,
             "ticks": ""
            },
            "type": "choropleth"
           }
          ],
          "contour": [
           {
            "colorbar": {
             "outlinewidth": 0,
             "ticks": ""
            },
            "colorscale": [
             [
              0,
              "#0d0887"
             ],
             [
              0.1111111111111111,
              "#46039f"
             ],
             [
              0.2222222222222222,
              "#7201a8"
             ],
             [
              0.3333333333333333,
              "#9c179e"
             ],
             [
              0.4444444444444444,
              "#bd3786"
             ],
             [
              0.5555555555555556,
              "#d8576b"
             ],
             [
              0.6666666666666666,
              "#ed7953"
             ],
             [
              0.7777777777777778,
              "#fb9f3a"
             ],
             [
              0.8888888888888888,
              "#fdca26"
             ],
             [
              1,
              "#f0f921"
             ]
            ],
            "type": "contour"
           }
          ],
          "contourcarpet": [
           {
            "colorbar": {
             "outlinewidth": 0,
             "ticks": ""
            },
            "type": "contourcarpet"
           }
          ],
          "heatmap": [
           {
            "colorbar": {
             "outlinewidth": 0,
             "ticks": ""
            },
            "colorscale": [
             [
              0,
              "#0d0887"
             ],
             [
              0.1111111111111111,
              "#46039f"
             ],
             [
              0.2222222222222222,
              "#7201a8"
             ],
             [
              0.3333333333333333,
              "#9c179e"
             ],
             [
              0.4444444444444444,
              "#bd3786"
             ],
             [
              0.5555555555555556,
              "#d8576b"
             ],
             [
              0.6666666666666666,
              "#ed7953"
             ],
             [
              0.7777777777777778,
              "#fb9f3a"
             ],
             [
              0.8888888888888888,
              "#fdca26"
             ],
             [
              1,
              "#f0f921"
             ]
            ],
            "type": "heatmap"
           }
          ],
          "heatmapgl": [
           {
            "colorbar": {
             "outlinewidth": 0,
             "ticks": ""
            },
            "colorscale": [
             [
              0,
              "#0d0887"
             ],
             [
              0.1111111111111111,
              "#46039f"
             ],
             [
              0.2222222222222222,
              "#7201a8"
             ],
             [
              0.3333333333333333,
              "#9c179e"
             ],
             [
              0.4444444444444444,
              "#bd3786"
             ],
             [
              0.5555555555555556,
              "#d8576b"
             ],
             [
              0.6666666666666666,
              "#ed7953"
             ],
             [
              0.7777777777777778,
              "#fb9f3a"
             ],
             [
              0.8888888888888888,
              "#fdca26"
             ],
             [
              1,
              "#f0f921"
             ]
            ],
            "type": "heatmapgl"
           }
          ],
          "histogram": [
           {
            "marker": {
             "pattern": {
              "fillmode": "overlay",
              "size": 10,
              "solidity": 0.2
             }
            },
            "type": "histogram"
           }
          ],
          "histogram2d": [
           {
            "colorbar": {
             "outlinewidth": 0,
             "ticks": ""
            },
            "colorscale": [
             [
              0,
              "#0d0887"
             ],
             [
              0.1111111111111111,
              "#46039f"
             ],
             [
              0.2222222222222222,
              "#7201a8"
             ],
             [
              0.3333333333333333,
              "#9c179e"
             ],
             [
              0.4444444444444444,
              "#bd3786"
             ],
             [
              0.5555555555555556,
              "#d8576b"
             ],
             [
              0.6666666666666666,
              "#ed7953"
             ],
             [
              0.7777777777777778,
              "#fb9f3a"
             ],
             [
              0.8888888888888888,
              "#fdca26"
             ],
             [
              1,
              "#f0f921"
             ]
            ],
            "type": "histogram2d"
           }
          ],
          "histogram2dcontour": [
           {
            "colorbar": {
             "outlinewidth": 0,
             "ticks": ""
            },
            "colorscale": [
             [
              0,
              "#0d0887"
             ],
             [
              0.1111111111111111,
              "#46039f"
             ],
             [
              0.2222222222222222,
              "#7201a8"
             ],
             [
              0.3333333333333333,
              "#9c179e"
             ],
             [
              0.4444444444444444,
              "#bd3786"
             ],
             [
              0.5555555555555556,
              "#d8576b"
             ],
             [
              0.6666666666666666,
              "#ed7953"
             ],
             [
              0.7777777777777778,
              "#fb9f3a"
             ],
             [
              0.8888888888888888,
              "#fdca26"
             ],
             [
              1,
              "#f0f921"
             ]
            ],
            "type": "histogram2dcontour"
           }
          ],
          "mesh3d": [
           {
            "colorbar": {
             "outlinewidth": 0,
             "ticks": ""
            },
            "type": "mesh3d"
           }
          ],
          "parcoords": [
           {
            "line": {
             "colorbar": {
              "outlinewidth": 0,
              "ticks": ""
             }
            },
            "type": "parcoords"
           }
          ],
          "pie": [
           {
            "automargin": true,
            "type": "pie"
           }
          ],
          "scatter": [
           {
            "fillpattern": {
             "fillmode": "overlay",
             "size": 10,
             "solidity": 0.2
            },
            "type": "scatter"
           }
          ],
          "scatter3d": [
           {
            "line": {
             "colorbar": {
              "outlinewidth": 0,
              "ticks": ""
             }
            },
            "marker": {
             "colorbar": {
              "outlinewidth": 0,
              "ticks": ""
             }
            },
            "type": "scatter3d"
           }
          ],
          "scattercarpet": [
           {
            "marker": {
             "colorbar": {
              "outlinewidth": 0,
              "ticks": ""
             }
            },
            "type": "scattercarpet"
           }
          ],
          "scattergeo": [
           {
            "marker": {
             "colorbar": {
              "outlinewidth": 0,
              "ticks": ""
             }
            },
            "type": "scattergeo"
           }
          ],
          "scattergl": [
           {
            "marker": {
             "colorbar": {
              "outlinewidth": 0,
              "ticks": ""
             }
            },
            "type": "scattergl"
           }
          ],
          "scattermapbox": [
           {
            "marker": {
             "colorbar": {
              "outlinewidth": 0,
              "ticks": ""
             }
            },
            "type": "scattermapbox"
           }
          ],
          "scatterpolar": [
           {
            "marker": {
             "colorbar": {
              "outlinewidth": 0,
              "ticks": ""
             }
            },
            "type": "scatterpolar"
           }
          ],
          "scatterpolargl": [
           {
            "marker": {
             "colorbar": {
              "outlinewidth": 0,
              "ticks": ""
             }
            },
            "type": "scatterpolargl"
           }
          ],
          "scatterternary": [
           {
            "marker": {
             "colorbar": {
              "outlinewidth": 0,
              "ticks": ""
             }
            },
            "type": "scatterternary"
           }
          ],
          "surface": [
           {
            "colorbar": {
             "outlinewidth": 0,
             "ticks": ""
            },
            "colorscale": [
             [
              0,
              "#0d0887"
             ],
             [
              0.1111111111111111,
              "#46039f"
             ],
             [
              0.2222222222222222,
              "#7201a8"
             ],
             [
              0.3333333333333333,
              "#9c179e"
             ],
             [
              0.4444444444444444,
              "#bd3786"
             ],
             [
              0.5555555555555556,
              "#d8576b"
             ],
             [
              0.6666666666666666,
              "#ed7953"
             ],
             [
              0.7777777777777778,
              "#fb9f3a"
             ],
             [
              0.8888888888888888,
              "#fdca26"
             ],
             [
              1,
              "#f0f921"
             ]
            ],
            "type": "surface"
           }
          ],
          "table": [
           {
            "cells": {
             "fill": {
              "color": "#EBF0F8"
             },
             "line": {
              "color": "white"
             }
            },
            "header": {
             "fill": {
              "color": "#C8D4E3"
             },
             "line": {
              "color": "white"
             }
            },
            "type": "table"
           }
          ]
         },
         "layout": {
          "annotationdefaults": {
           "arrowcolor": "#2a3f5f",
           "arrowhead": 0,
           "arrowwidth": 1
          },
          "autotypenumbers": "strict",
          "coloraxis": {
           "colorbar": {
            "outlinewidth": 0,
            "ticks": ""
           }
          },
          "colorscale": {
           "diverging": [
            [
             0,
             "#8e0152"
            ],
            [
             0.1,
             "#c51b7d"
            ],
            [
             0.2,
             "#de77ae"
            ],
            [
             0.3,
             "#f1b6da"
            ],
            [
             0.4,
             "#fde0ef"
            ],
            [
             0.5,
             "#f7f7f7"
            ],
            [
             0.6,
             "#e6f5d0"
            ],
            [
             0.7,
             "#b8e186"
            ],
            [
             0.8,
             "#7fbc41"
            ],
            [
             0.9,
             "#4d9221"
            ],
            [
             1,
             "#276419"
            ]
           ],
           "sequential": [
            [
             0,
             "#0d0887"
            ],
            [
             0.1111111111111111,
             "#46039f"
            ],
            [
             0.2222222222222222,
             "#7201a8"
            ],
            [
             0.3333333333333333,
             "#9c179e"
            ],
            [
             0.4444444444444444,
             "#bd3786"
            ],
            [
             0.5555555555555556,
             "#d8576b"
            ],
            [
             0.6666666666666666,
             "#ed7953"
            ],
            [
             0.7777777777777778,
             "#fb9f3a"
            ],
            [
             0.8888888888888888,
             "#fdca26"
            ],
            [
             1,
             "#f0f921"
            ]
           ],
           "sequentialminus": [
            [
             0,
             "#0d0887"
            ],
            [
             0.1111111111111111,
             "#46039f"
            ],
            [
             0.2222222222222222,
             "#7201a8"
            ],
            [
             0.3333333333333333,
             "#9c179e"
            ],
            [
             0.4444444444444444,
             "#bd3786"
            ],
            [
             0.5555555555555556,
             "#d8576b"
            ],
            [
             0.6666666666666666,
             "#ed7953"
            ],
            [
             0.7777777777777778,
             "#fb9f3a"
            ],
            [
             0.8888888888888888,
             "#fdca26"
            ],
            [
             1,
             "#f0f921"
            ]
           ]
          },
          "colorway": [
           "#636efa",
           "#EF553B",
           "#00cc96",
           "#ab63fa",
           "#FFA15A",
           "#19d3f3",
           "#FF6692",
           "#B6E880",
           "#FF97FF",
           "#FECB52"
          ],
          "font": {
           "color": "#2a3f5f"
          },
          "geo": {
           "bgcolor": "white",
           "lakecolor": "white",
           "landcolor": "#E5ECF6",
           "showlakes": true,
           "showland": true,
           "subunitcolor": "white"
          },
          "hoverlabel": {
           "align": "left"
          },
          "hovermode": "closest",
          "mapbox": {
           "style": "light"
          },
          "paper_bgcolor": "white",
          "plot_bgcolor": "#E5ECF6",
          "polar": {
           "angularaxis": {
            "gridcolor": "white",
            "linecolor": "white",
            "ticks": ""
           },
           "bgcolor": "#E5ECF6",
           "radialaxis": {
            "gridcolor": "white",
            "linecolor": "white",
            "ticks": ""
           }
          },
          "scene": {
           "xaxis": {
            "backgroundcolor": "#E5ECF6",
            "gridcolor": "white",
            "gridwidth": 2,
            "linecolor": "white",
            "showbackground": true,
            "ticks": "",
            "zerolinecolor": "white"
           },
           "yaxis": {
            "backgroundcolor": "#E5ECF6",
            "gridcolor": "white",
            "gridwidth": 2,
            "linecolor": "white",
            "showbackground": true,
            "ticks": "",
            "zerolinecolor": "white"
           },
           "zaxis": {
            "backgroundcolor": "#E5ECF6",
            "gridcolor": "white",
            "gridwidth": 2,
            "linecolor": "white",
            "showbackground": true,
            "ticks": "",
            "zerolinecolor": "white"
           }
          },
          "shapedefaults": {
           "line": {
            "color": "#2a3f5f"
           }
          },
          "ternary": {
           "aaxis": {
            "gridcolor": "white",
            "linecolor": "white",
            "ticks": ""
           },
           "baxis": {
            "gridcolor": "white",
            "linecolor": "white",
            "ticks": ""
           },
           "bgcolor": "#E5ECF6",
           "caxis": {
            "gridcolor": "white",
            "linecolor": "white",
            "ticks": ""
           }
          },
          "title": {
           "x": 0.05
          },
          "xaxis": {
           "automargin": true,
           "gridcolor": "white",
           "linecolor": "white",
           "ticks": "",
           "title": {
            "standoff": 15
           },
           "zerolinecolor": "white",
           "zerolinewidth": 2
          },
          "yaxis": {
           "automargin": true,
           "gridcolor": "white",
           "linecolor": "white",
           "ticks": "",
           "title": {
            "standoff": 15
           },
           "zerolinecolor": "white",
           "zerolinewidth": 2
          }
         }
        }
       }
      },
      "text/html": [
       "<div>                            <div id=\"bb8b9f82-6c5d-408a-a07a-2ec5090858e5\" class=\"plotly-graph-div\" style=\"height:525px; width:100%;\"></div>            <script type=\"text/javascript\">                require([\"plotly\"], function(Plotly) {                    window.PLOTLYENV=window.PLOTLYENV || {};                                    if (document.getElementById(\"bb8b9f82-6c5d-408a-a07a-2ec5090858e5\")) {                    Plotly.newPlot(                        \"bb8b9f82-6c5d-408a-a07a-2ec5090858e5\",                        [{\"marker\":{\"color\":\"red\"},\"mode\":\"markers\",\"name\":\"test_data\",\"x\":[\"2024-02-05T00:00:00\",\"2024-02-06T00:00:00\",\"2024-02-07T00:00:00\",\"2024-02-08T00:00:00\",\"2024-02-09T00:00:00\"],\"y\":[69.332,68.223,70.099,69.641,72.133],\"type\":\"scatter\"},{\"line\":{\"color\":\"black\",\"width\":2},\"mode\":\"lines\",\"name\":\"test_fit\",\"x\":[\"2024-02-05T00:00:00\",\"2024-02-06T00:00:00\",\"2024-02-07T00:00:00\",\"2024-02-08T00:00:00\",\"2024-02-09T00:00:00\"],\"y\":[66.91892602134885,67.43563744305538,67.9006905446131,68.33161832559472,68.73787903004268],\"type\":\"scatter\"},{\"line\":{\"color\":\"black\",\"width\":2},\"mode\":\"lines\",\"name\":\"Upper Band\",\"x\":[\"2024-02-05T00:00:00\",\"2024-02-06T00:00:00\",\"2024-02-07T00:00:00\",\"2024-02-08T00:00:00\",\"2024-02-09T00:00:00\"],\"y\":[69.3807492427973,70.55164869142062,71.63904707220571,72.66600274754244,73.64664997580955],\"type\":\"scatter\"},{\"line\":{\"color\":\"black\",\"width\":2},\"mode\":\"lines\",\"name\":\"Lower Band\",\"x\":[\"2024-02-05T00:00:00\",\"2024-02-06T00:00:00\",\"2024-02-07T00:00:00\",\"2024-02-08T00:00:00\",\"2024-02-09T00:00:00\"],\"y\":[64.45710279990041,64.31962619469014,64.16233401702048,63.99723390364699,63.82910808427581],\"type\":\"scatter\"},{\"line\":{\"color\":\"rgba(0,100,80,0.2)\"},\"mode\":\"lines\",\"name\":\"Upper Band\",\"showlegend\":false,\"x\":[\"2024-02-05T00:00:00\",\"2024-02-06T00:00:00\",\"2024-02-07T00:00:00\",\"2024-02-08T00:00:00\",\"2024-02-09T00:00:00\"],\"y\":[69.3807492427973,70.55164869142062,71.63904707220571,72.66600274754244,73.64664997580955],\"type\":\"scatter\"},{\"fill\":\"tonexty\",\"line\":{\"color\":\"rgba(0,100,80,0.2)\"},\"mode\":\"lines\",\"name\":\"Lower Band\",\"showlegend\":false,\"x\":[\"2024-02-05T00:00:00\",\"2024-02-06T00:00:00\",\"2024-02-07T00:00:00\",\"2024-02-08T00:00:00\",\"2024-02-09T00:00:00\"],\"y\":[64.45710279990041,64.31962619469014,64.16233401702048,63.99723390364699,63.82910808427581],\"type\":\"scatter\"},{\"marker\":{\"color\":\"red\"},\"mode\":\"markers\",\"name\":\"test_data\",\"x\":[\"2024-02-12T00:00:00\",\"2024-02-13T00:00:00\",\"2024-02-14T00:00:00\",\"2024-02-15T00:00:00\",\"2024-02-16T00:00:00\"],\"y\":[72.248,72.128,73.9,72.658,72.613],\"type\":\"scatter\"},{\"line\":{\"color\":\"black\",\"width\":2},\"mode\":\"lines\",\"name\":\"test_fit\",\"x\":[\"2024-02-12T00:00:00\",\"2024-02-13T00:00:00\",\"2024-02-14T00:00:00\",\"2024-02-15T00:00:00\",\"2024-02-16T00:00:00\"],\"y\":[72.82992274366575,73.34008626733157,73.81616517871748,74.26752397441396,74.69961405666731],\"type\":\"scatter\"},{\"line\":{\"color\":\"black\",\"width\":2},\"mode\":\"lines\",\"name\":\"Upper Band\",\"x\":[\"2024-02-12T00:00:00\",\"2024-02-13T00:00:00\",\"2024-02-14T00:00:00\",\"2024-02-15T00:00:00\",\"2024-02-16T00:00:00\"],\"y\":[75.3206781075515,76.42670290795598,77.47644594743923,78.48118282257208,79.4491436145559],\"type\":\"scatter\"},{\"line\":{\"color\":\"black\",\"width\":2},\"mode\":\"lines\",\"name\":\"Lower Band\",\"x\":[\"2024-02-12T00:00:00\",\"2024-02-13T00:00:00\",\"2024-02-14T00:00:00\",\"2024-02-15T00:00:00\",\"2024-02-16T00:00:00\"],\"y\":[70.33916737978,70.25346962670716,70.15588440999574,70.05386512625584,69.95008449877874],\"type\":\"scatter\"},{\"line\":{\"color\":\"rgba(0,100,80,0.2)\"},\"mode\":\"lines\",\"name\":\"Upper Band\",\"showlegend\":false,\"x\":[\"2024-02-12T00:00:00\",\"2024-02-13T00:00:00\",\"2024-02-14T00:00:00\",\"2024-02-15T00:00:00\",\"2024-02-16T00:00:00\"],\"y\":[75.3206781075515,76.42670290795598,77.47644594743923,78.48118282257208,79.4491436145559],\"type\":\"scatter\"},{\"fill\":\"tonexty\",\"line\":{\"color\":\"rgba(0,100,80,0.2)\"},\"mode\":\"lines\",\"name\":\"Lower Band\",\"showlegend\":false,\"x\":[\"2024-02-12T00:00:00\",\"2024-02-13T00:00:00\",\"2024-02-14T00:00:00\",\"2024-02-15T00:00:00\",\"2024-02-16T00:00:00\"],\"y\":[70.33916737978,70.25346962670716,70.15588440999574,70.05386512625584,69.95008449877874],\"type\":\"scatter\"},{\"marker\":{\"color\":\"red\"},\"mode\":\"markers\",\"name\":\"test_data\",\"x\":[\"2024-02-20T00:00:00\",\"2024-02-21T00:00:00\",\"2024-02-22T00:00:00\",\"2024-02-23T00:00:00\"],\"y\":[69.452,67.472,78.538,78.817],\"type\":\"scatter\"},{\"line\":{\"color\":\"black\",\"width\":2},\"mode\":\"lines\",\"name\":\"test_fit\",\"x\":[\"2024-02-20T00:00:00\",\"2024-02-21T00:00:00\",\"2024-02-22T00:00:00\",\"2024-02-23T00:00:00\"],\"y\":[73.50652304281175,73.75070223744297,73.99763102586621,74.24538610976015],\"type\":\"scatter\"},{\"line\":{\"color\":\"black\",\"width\":2},\"mode\":\"lines\",\"name\":\"Upper Band\",\"x\":[\"2024-02-20T00:00:00\",\"2024-02-21T00:00:00\",\"2024-02-22T00:00:00\",\"2024-02-23T00:00:00\"],\"y\":[76.75241130247939,77.55134866102445,78.33713499723652,79.10905801230655],\"type\":\"scatter\"},{\"line\":{\"color\":\"black\",\"width\":2},\"mode\":\"lines\",\"name\":\"Lower Band\",\"x\":[\"2024-02-20T00:00:00\",\"2024-02-21T00:00:00\",\"2024-02-22T00:00:00\",\"2024-02-23T00:00:00\"],\"y\":[70.26063478314411,69.95005581386148,69.6581270544959,69.38171420721375],\"type\":\"scatter\"},{\"line\":{\"color\":\"rgba(0,100,80,0.2)\"},\"mode\":\"lines\",\"name\":\"Upper Band\",\"showlegend\":false,\"x\":[\"2024-02-20T00:00:00\",\"2024-02-21T00:00:00\",\"2024-02-22T00:00:00\",\"2024-02-23T00:00:00\"],\"y\":[76.75241130247939,77.55134866102445,78.33713499723652,79.10905801230655],\"type\":\"scatter\"},{\"fill\":\"tonexty\",\"line\":{\"color\":\"rgba(0,100,80,0.2)\"},\"mode\":\"lines\",\"name\":\"Lower Band\",\"showlegend\":false,\"x\":[\"2024-02-20T00:00:00\",\"2024-02-21T00:00:00\",\"2024-02-22T00:00:00\",\"2024-02-23T00:00:00\"],\"y\":[70.26063478314411,69.95005581386148,69.6581270544959,69.38171420721375],\"type\":\"scatter\"},{\"marker\":{\"color\":\"red\"},\"mode\":\"markers\",\"name\":\"test_data\",\"x\":[\"2024-02-26T00:00:00\",\"2024-02-27T00:00:00\",\"2024-02-28T00:00:00\",\"2024-02-29T00:00:00\",\"2024-03-01T00:00:00\"],\"y\":[79.092,78.701,77.663,79.112,82.279],\"type\":\"scatter\"},{\"line\":{\"color\":\"black\",\"width\":2},\"mode\":\"lines\",\"name\":\"test_fit\",\"x\":[\"2024-02-26T00:00:00\",\"2024-02-27T00:00:00\",\"2024-02-28T00:00:00\",\"2024-02-29T00:00:00\",\"2024-03-01T00:00:00\"],\"y\":[79.52480455011327,80.13181874010569,80.65093300125565,81.10990188753657,81.52475087946323],\"type\":\"scatter\"},{\"line\":{\"color\":\"black\",\"width\":2},\"mode\":\"lines\",\"name\":\"Upper Band\",\"x\":[\"2024-02-26T00:00:00\",\"2024-02-27T00:00:00\",\"2024-02-28T00:00:00\",\"2024-02-29T00:00:00\",\"2024-03-01T00:00:00\"],\"y\":[83.83901637504954,85.3171396352643,86.67880449647201,87.94998477961705,89.1485972391332],\"type\":\"scatter\"},{\"line\":{\"color\":\"black\",\"width\":2},\"mode\":\"lines\",\"name\":\"Lower Band\",\"x\":[\"2024-02-26T00:00:00\",\"2024-02-27T00:00:00\",\"2024-02-28T00:00:00\",\"2024-02-29T00:00:00\",\"2024-03-01T00:00:00\"],\"y\":[75.21059272517701,74.94649784494707,74.62306150603929,74.26981899545608,73.90090451979326],\"type\":\"scatter\"},{\"line\":{\"color\":\"rgba(0,100,80,0.2)\"},\"mode\":\"lines\",\"name\":\"Upper Band\",\"showlegend\":false,\"x\":[\"2024-02-26T00:00:00\",\"2024-02-27T00:00:00\",\"2024-02-28T00:00:00\",\"2024-02-29T00:00:00\",\"2024-03-01T00:00:00\"],\"y\":[83.83901637504954,85.3171396352643,86.67880449647201,87.94998477961705,89.1485972391332],\"type\":\"scatter\"},{\"fill\":\"tonexty\",\"line\":{\"color\":\"rgba(0,100,80,0.2)\"},\"mode\":\"lines\",\"name\":\"Lower Band\",\"showlegend\":false,\"x\":[\"2024-02-26T00:00:00\",\"2024-02-27T00:00:00\",\"2024-02-28T00:00:00\",\"2024-02-29T00:00:00\",\"2024-03-01T00:00:00\"],\"y\":[75.21059272517701,74.94649784494707,74.62306150603929,74.26981899545608,73.90090451979326],\"type\":\"scatter\"},{\"marker\":{\"color\":\"red\"},\"mode\":\"markers\",\"name\":\"test_data\",\"x\":[\"2024-03-04T00:00:00\",\"2024-03-05T00:00:00\",\"2024-03-06T00:00:00\",\"2024-03-07T00:00:00\",\"2024-03-08T00:00:00\"],\"y\":[85.237,85.964,88.7,92.669,87.528],\"type\":\"scatter\"},{\"line\":{\"color\":\"black\",\"width\":2},\"mode\":\"lines\",\"name\":\"test_fit\",\"x\":[\"2024-03-04T00:00:00\",\"2024-03-05T00:00:00\",\"2024-03-06T00:00:00\",\"2024-03-07T00:00:00\",\"2024-03-08T00:00:00\"],\"y\":[82.0168293897973,82.34769238185913,82.64135083582596,82.91142943751856,83.1657100691948],\"type\":\"scatter\"},{\"line\":{\"color\":\"black\",\"width\":2},\"mode\":\"lines\",\"name\":\"Upper Band\",\"x\":[\"2024-03-04T00:00:00\",\"2024-03-05T00:00:00\",\"2024-03-06T00:00:00\",\"2024-03-07T00:00:00\",\"2024-03-08T00:00:00\"],\"y\":[86.34447513350877,87.47184468173295,88.51474883218329,89.48739193970599,90.40137644952232],\"type\":\"scatter\"},{\"line\":{\"color\":\"black\",\"width\":2},\"mode\":\"lines\",\"name\":\"Lower Band\",\"x\":[\"2024-03-04T00:00:00\",\"2024-03-05T00:00:00\",\"2024-03-06T00:00:00\",\"2024-03-07T00:00:00\",\"2024-03-08T00:00:00\"],\"y\":[77.68918364608582,77.22354008198532,76.76795283946863,76.33546693533114,75.93004368886729],\"type\":\"scatter\"},{\"line\":{\"color\":\"rgba(0,100,80,0.2)\"},\"mode\":\"lines\",\"name\":\"Upper Band\",\"showlegend\":false,\"x\":[\"2024-03-04T00:00:00\",\"2024-03-05T00:00:00\",\"2024-03-06T00:00:00\",\"2024-03-07T00:00:00\",\"2024-03-08T00:00:00\"],\"y\":[86.34447513350877,87.47184468173295,88.51474883218329,89.48739193970599,90.40137644952232],\"type\":\"scatter\"},{\"fill\":\"tonexty\",\"line\":{\"color\":\"rgba(0,100,80,0.2)\"},\"mode\":\"lines\",\"name\":\"Lower Band\",\"showlegend\":false,\"x\":[\"2024-03-04T00:00:00\",\"2024-03-05T00:00:00\",\"2024-03-06T00:00:00\",\"2024-03-07T00:00:00\",\"2024-03-08T00:00:00\"],\"y\":[77.68918364608582,77.22354008198532,76.76795283946863,76.33546693533114,75.93004368886729],\"type\":\"scatter\"},{\"marker\":{\"color\":\"red\"},\"mode\":\"markers\",\"name\":\"test_data\",\"x\":[\"2024-03-11T00:00:00\",\"2024-03-12T00:00:00\",\"2024-03-13T00:00:00\",\"2024-03-14T00:00:00\",\"2024-03-15T00:00:00\"],\"y\":[85.774,91.913,90.888,87.944,87.8365],\"type\":\"scatter\"},{\"line\":{\"color\":\"black\",\"width\":2},\"mode\":\"lines\",\"name\":\"test_fit\",\"x\":[\"2024-03-11T00:00:00\",\"2024-03-12T00:00:00\",\"2024-03-13T00:00:00\",\"2024-03-14T00:00:00\",\"2024-03-15T00:00:00\"],\"y\":[90.14389797105332,90.54422617622686,90.9344904206323,91.3149323157113,91.68703049828082],\"type\":\"scatter\"},{\"line\":{\"color\":\"black\",\"width\":2},\"mode\":\"lines\",\"name\":\"Upper Band\",\"x\":[\"2024-03-11T00:00:00\",\"2024-03-12T00:00:00\",\"2024-03-13T00:00:00\",\"2024-03-14T00:00:00\",\"2024-03-15T00:00:00\"],\"y\":[94.70430568600135,95.81344934160367,96.88551685051335,97.91633970765362,98.90767100270381],\"type\":\"scatter\"},{\"line\":{\"color\":\"black\",\"width\":2},\"mode\":\"lines\",\"name\":\"Lower Band\",\"x\":[\"2024-03-11T00:00:00\",\"2024-03-12T00:00:00\",\"2024-03-13T00:00:00\",\"2024-03-14T00:00:00\",\"2024-03-15T00:00:00\"],\"y\":[85.58349025610529,85.27500301085004,84.98346399075125,84.71352492376899,84.46638999385783],\"type\":\"scatter\"},{\"line\":{\"color\":\"rgba(0,100,80,0.2)\"},\"mode\":\"lines\",\"name\":\"Upper Band\",\"showlegend\":false,\"x\":[\"2024-03-11T00:00:00\",\"2024-03-12T00:00:00\",\"2024-03-13T00:00:00\",\"2024-03-14T00:00:00\",\"2024-03-15T00:00:00\"],\"y\":[94.70430568600135,95.81344934160367,96.88551685051335,97.91633970765362,98.90767100270381],\"type\":\"scatter\"},{\"fill\":\"tonexty\",\"line\":{\"color\":\"rgba(0,100,80,0.2)\"},\"mode\":\"lines\",\"name\":\"Lower Band\",\"showlegend\":false,\"x\":[\"2024-03-11T00:00:00\",\"2024-03-12T00:00:00\",\"2024-03-13T00:00:00\",\"2024-03-14T00:00:00\",\"2024-03-15T00:00:00\"],\"y\":[85.58349025610529,85.27500301085004,84.98346399075125,84.71352492376899,84.46638999385783],\"type\":\"scatter\"},{\"marker\":{\"color\":\"red\"},\"mode\":\"markers\",\"name\":\"test_data\",\"x\":[\"2024-03-18T00:00:00\",\"2024-03-19T00:00:00\",\"2024-03-20T00:00:00\",\"2024-03-21T00:00:00\",\"2024-03-22T00:00:00\"],\"y\":[88.455,89.398,90.372,91.435,94.289],\"type\":\"scatter\"},{\"line\":{\"color\":\"black\",\"width\":2},\"mode\":\"lines\",\"name\":\"test_fit\",\"x\":[\"2024-03-18T00:00:00\",\"2024-03-19T00:00:00\",\"2024-03-20T00:00:00\",\"2024-03-21T00:00:00\",\"2024-03-22T00:00:00\"],\"y\":[89.03070132224684,89.32475219325215,89.64385588475034,89.98216707373194,90.33587169771499],\"type\":\"scatter\"},{\"line\":{\"color\":\"black\",\"width\":2},\"mode\":\"lines\",\"name\":\"Upper Band\",\"x\":[\"2024-03-18T00:00:00\",\"2024-03-19T00:00:00\",\"2024-03-20T00:00:00\",\"2024-03-21T00:00:00\",\"2024-03-22T00:00:00\"],\"y\":[94.59773957685994,95.4948049264986,96.34816768335459,97.16081087281654,97.93733013187199],\"type\":\"scatter\"},{\"line\":{\"color\":\"black\",\"width\":2},\"mode\":\"lines\",\"name\":\"Lower Band\",\"x\":[\"2024-03-18T00:00:00\",\"2024-03-19T00:00:00\",\"2024-03-20T00:00:00\",\"2024-03-21T00:00:00\",\"2024-03-22T00:00:00\"],\"y\":[83.46366306763375,83.1546994600057,82.93954408614609,82.80352327464735,82.734413263558],\"type\":\"scatter\"},{\"line\":{\"color\":\"rgba(0,100,80,0.2)\"},\"mode\":\"lines\",\"name\":\"Upper Band\",\"showlegend\":false,\"x\":[\"2024-03-18T00:00:00\",\"2024-03-19T00:00:00\",\"2024-03-20T00:00:00\",\"2024-03-21T00:00:00\",\"2024-03-22T00:00:00\"],\"y\":[94.59773957685994,95.4948049264986,96.34816768335459,97.16081087281654,97.93733013187199],\"type\":\"scatter\"},{\"fill\":\"tonexty\",\"line\":{\"color\":\"rgba(0,100,80,0.2)\"},\"mode\":\"lines\",\"name\":\"Lower Band\",\"showlegend\":false,\"x\":[\"2024-03-18T00:00:00\",\"2024-03-19T00:00:00\",\"2024-03-20T00:00:00\",\"2024-03-21T00:00:00\",\"2024-03-22T00:00:00\"],\"y\":[83.46366306763375,83.1546994600057,82.93954408614609,82.80352327464735,82.734413263558],\"type\":\"scatter\"},{\"marker\":{\"color\":\"red\"},\"mode\":\"markers\",\"name\":\"test_data\",\"x\":[\"2024-03-25T00:00:00\",\"2024-03-26T00:00:00\",\"2024-03-27T00:00:00\",\"2024-03-28T00:00:00\"],\"y\":[95.002,92.561,90.25,90.356],\"type\":\"scatter\"},{\"line\":{\"color\":\"black\",\"width\":2},\"mode\":\"lines\",\"name\":\"test_fit\",\"x\":[\"2024-03-25T00:00:00\",\"2024-03-26T00:00:00\",\"2024-03-27T00:00:00\",\"2024-03-28T00:00:00\"],\"y\":[94.40279827791028,94.66267771561274,94.94895876020769,95.26469602081829],\"type\":\"scatter\"},{\"line\":{\"color\":\"black\",\"width\":2},\"mode\":\"lines\",\"name\":\"Upper Band\",\"x\":[\"2024-03-25T00:00:00\",\"2024-03-26T00:00:00\",\"2024-03-27T00:00:00\",\"2024-03-28T00:00:00\"],\"y\":[100.12672084722577,100.88787750102126,101.55235252175851,102.15828410695127],\"type\":\"scatter\"},{\"line\":{\"color\":\"black\",\"width\":2},\"mode\":\"lines\",\"name\":\"Lower Band\",\"x\":[\"2024-03-25T00:00:00\",\"2024-03-26T00:00:00\",\"2024-03-27T00:00:00\",\"2024-03-28T00:00:00\"],\"y\":[88.67887570859479,88.43747793020422,88.34556499865687,88.37110793468531],\"type\":\"scatter\"},{\"line\":{\"color\":\"rgba(0,100,80,0.2)\"},\"mode\":\"lines\",\"name\":\"Upper Band\",\"showlegend\":false,\"x\":[\"2024-03-25T00:00:00\",\"2024-03-26T00:00:00\",\"2024-03-27T00:00:00\",\"2024-03-28T00:00:00\"],\"y\":[100.12672084722577,100.88787750102126,101.55235252175851,102.15828410695127],\"type\":\"scatter\"},{\"fill\":\"tonexty\",\"line\":{\"color\":\"rgba(0,100,80,0.2)\"},\"mode\":\"lines\",\"name\":\"Lower Band\",\"showlegend\":false,\"x\":[\"2024-03-25T00:00:00\",\"2024-03-26T00:00:00\",\"2024-03-27T00:00:00\",\"2024-03-28T00:00:00\"],\"y\":[88.67887570859479,88.43747793020422,88.34556499865687,88.37110793468531],\"type\":\"scatter\"},{\"marker\":{\"color\":\"red\"},\"mode\":\"markers\",\"name\":\"test_data\",\"x\":[\"2024-04-01T00:00:00\",\"2024-04-02T00:00:00\",\"2024-04-03T00:00:00\",\"2024-04-04T00:00:00\",\"2024-04-05T00:00:00\"],\"y\":[90.363,89.452,88.964,85.905,88.008],\"type\":\"scatter\"},{\"line\":{\"color\":\"black\",\"width\":2},\"mode\":\"lines\",\"name\":\"test_fit\",\"x\":[\"2024-04-01T00:00:00\",\"2024-04-02T00:00:00\",\"2024-04-03T00:00:00\",\"2024-04-04T00:00:00\",\"2024-04-05T00:00:00\"],\"y\":[96.66031773464455,97.4091753380328,98.05638707027727,98.64948180180585,99.21412262537034],\"type\":\"scatter\"},{\"line\":{\"color\":\"black\",\"width\":2},\"mode\":\"lines\",\"name\":\"Upper Band\",\"x\":[\"2024-04-01T00:00:00\",\"2024-04-02T00:00:00\",\"2024-04-03T00:00:00\",\"2024-04-04T00:00:00\",\"2024-04-05T00:00:00\"],\"y\":[102.2336130981752,103.04930240032685,103.73421962884652,104.35270783778876,104.93718868522687],\"type\":\"scatter\"},{\"line\":{\"color\":\"black\",\"width\":2},\"mode\":\"lines\",\"name\":\"Lower Band\",\"x\":[\"2024-04-01T00:00:00\",\"2024-04-02T00:00:00\",\"2024-04-03T00:00:00\",\"2024-04-04T00:00:00\",\"2024-04-05T00:00:00\"],\"y\":[91.0870223711139,91.76904827573874,92.37855451170802,92.94625576582294,93.4910565655138],\"type\":\"scatter\"},{\"line\":{\"color\":\"rgba(0,100,80,0.2)\"},\"mode\":\"lines\",\"name\":\"Upper Band\",\"showlegend\":false,\"x\":[\"2024-04-01T00:00:00\",\"2024-04-02T00:00:00\",\"2024-04-03T00:00:00\",\"2024-04-04T00:00:00\",\"2024-04-05T00:00:00\"],\"y\":[102.2336130981752,103.04930240032685,103.73421962884652,104.35270783778876,104.93718868522687],\"type\":\"scatter\"},{\"fill\":\"tonexty\",\"line\":{\"color\":\"rgba(0,100,80,0.2)\"},\"mode\":\"lines\",\"name\":\"Lower Band\",\"showlegend\":false,\"x\":[\"2024-04-01T00:00:00\",\"2024-04-02T00:00:00\",\"2024-04-03T00:00:00\",\"2024-04-04T00:00:00\",\"2024-04-05T00:00:00\"],\"y\":[91.0870223711139,91.76904827573874,92.37855451170802,92.94625576582294,93.4910565655138],\"type\":\"scatter\"},{\"marker\":{\"color\":\"red\"},\"mode\":\"markers\",\"name\":\"test_data\",\"x\":[\"2024-04-08T00:00:00\",\"2024-04-09T00:00:00\",\"2024-04-10T00:00:00\",\"2024-04-11T00:00:00\",\"2024-04-12T00:00:00\"],\"y\":[87.133,85.354,87.039,90.616,88.186],\"type\":\"scatter\"},{\"line\":{\"color\":\"black\",\"width\":2},\"mode\":\"lines\",\"name\":\"test_fit\",\"x\":[\"2024-04-08T00:00:00\",\"2024-04-09T00:00:00\",\"2024-04-10T00:00:00\",\"2024-04-11T00:00:00\",\"2024-04-12T00:00:00\"],\"y\":[88.54133176803589,88.70425939559937,88.88875246047974,89.09081792831421,89.30755567550659],\"type\":\"scatter\"},{\"line\":{\"color\":\"black\",\"width\":2},\"mode\":\"lines\",\"name\":\"Upper Band\",\"x\":[\"2024-04-08T00:00:00\",\"2024-04-09T00:00:00\",\"2024-04-10T00:00:00\",\"2024-04-11T00:00:00\",\"2024-04-12T00:00:00\"],\"y\":[94.62447564870824,95.30667864335209,96.02085652408,96.75792588333356,97.51192821215392],\"type\":\"scatter\"},{\"line\":{\"color\":\"black\",\"width\":2},\"mode\":\"lines\",\"name\":\"Lower Band\",\"x\":[\"2024-04-08T00:00:00\",\"2024-04-09T00:00:00\",\"2024-04-10T00:00:00\",\"2024-04-11T00:00:00\",\"2024-04-12T00:00:00\"],\"y\":[82.45818788736354,82.10184014784664,81.75664839687947,81.42370997329486,81.10318313885927],\"type\":\"scatter\"},{\"line\":{\"color\":\"rgba(0,100,80,0.2)\"},\"mode\":\"lines\",\"name\":\"Upper Band\",\"showlegend\":false,\"x\":[\"2024-04-08T00:00:00\",\"2024-04-09T00:00:00\",\"2024-04-10T00:00:00\",\"2024-04-11T00:00:00\",\"2024-04-12T00:00:00\"],\"y\":[94.62447564870824,95.30667864335209,96.02085652408,96.75792588333356,97.51192821215392],\"type\":\"scatter\"},{\"fill\":\"tonexty\",\"line\":{\"color\":\"rgba(0,100,80,0.2)\"},\"mode\":\"lines\",\"name\":\"Lower Band\",\"showlegend\":false,\"x\":[\"2024-04-08T00:00:00\",\"2024-04-09T00:00:00\",\"2024-04-10T00:00:00\",\"2024-04-11T00:00:00\",\"2024-04-12T00:00:00\"],\"y\":[82.45818788736354,82.10184014784664,81.75664839687947,81.42370997329486,81.10318313885927],\"type\":\"scatter\"},{\"marker\":{\"color\":\"red\"},\"mode\":\"markers\",\"name\":\"test_data\",\"x\":[\"2024-04-15T00:00:00\",\"2024-04-16T00:00:00\",\"2024-04-17T00:00:00\",\"2024-04-18T00:00:00\",\"2024-04-19T00:00:00\"],\"y\":[86.001,87.415,84.035,84.671,76.2],\"type\":\"scatter\"},{\"line\":{\"color\":\"black\",\"width\":2},\"mode\":\"lines\",\"name\":\"test_fit\",\"x\":[\"2024-04-15T00:00:00\",\"2024-04-16T00:00:00\",\"2024-04-17T00:00:00\",\"2024-04-18T00:00:00\",\"2024-04-19T00:00:00\"],\"y\":[89.21576145962513,89.41823073651994,89.62095689434773,89.82481899924778,90.03028529161998],\"type\":\"scatter\"},{\"line\":{\"color\":\"black\",\"width\":2},\"mode\":\"lines\",\"name\":\"Upper Band\",\"x\":[\"2024-04-15T00:00:00\",\"2024-04-16T00:00:00\",\"2024-04-17T00:00:00\",\"2024-04-18T00:00:00\",\"2024-04-19T00:00:00\"],\"y\":[95.21353340609221,96.14551458725634,97.07215817721489,97.99041248144304,98.89927163807454],\"type\":\"scatter\"},{\"line\":{\"color\":\"black\",\"width\":2},\"mode\":\"lines\",\"name\":\"Lower Band\",\"x\":[\"2024-04-15T00:00:00\",\"2024-04-16T00:00:00\",\"2024-04-17T00:00:00\",\"2024-04-18T00:00:00\",\"2024-04-19T00:00:00\"],\"y\":[83.21798951315805,82.69094688578355,82.16975561148057,81.65922551705252,81.16129894516541],\"type\":\"scatter\"},{\"line\":{\"color\":\"rgba(0,100,80,0.2)\"},\"mode\":\"lines\",\"name\":\"Upper Band\",\"showlegend\":false,\"x\":[\"2024-04-15T00:00:00\",\"2024-04-16T00:00:00\",\"2024-04-17T00:00:00\",\"2024-04-18T00:00:00\",\"2024-04-19T00:00:00\"],\"y\":[95.21353340609221,96.14551458725634,97.07215817721489,97.99041248144304,98.89927163807454],\"type\":\"scatter\"},{\"fill\":\"tonexty\",\"line\":{\"color\":\"rgba(0,100,80,0.2)\"},\"mode\":\"lines\",\"name\":\"Lower Band\",\"showlegend\":false,\"x\":[\"2024-04-15T00:00:00\",\"2024-04-16T00:00:00\",\"2024-04-17T00:00:00\",\"2024-04-18T00:00:00\",\"2024-04-19T00:00:00\"],\"y\":[83.21798951315805,82.69094688578355,82.16975561148057,81.65922551705252,81.16129894516541],\"type\":\"scatter\"},{\"marker\":{\"color\":\"red\"},\"mode\":\"markers\",\"name\":\"test_data\",\"x\":[\"2024-04-22T00:00:00\",\"2024-04-23T00:00:00\",\"2024-04-24T00:00:00\",\"2024-04-25T00:00:00\",\"2024-04-26T00:00:00\"],\"y\":[79.518,82.423,79.677,82.632,87.735],\"type\":\"scatter\"},{\"line\":{\"color\":\"black\",\"width\":2},\"mode\":\"lines\",\"name\":\"test_fit\",\"x\":[\"2024-04-22T00:00:00\",\"2024-04-23T00:00:00\",\"2024-04-24T00:00:00\",\"2024-04-25T00:00:00\",\"2024-04-26T00:00:00\"],\"y\":[77.84023154153601,77.36491656101907,76.94449044776047,76.56462071068745,76.21616203517715],\"type\":\"scatter\"},{\"line\":{\"color\":\"black\",\"width\":2},\"mode\":\"lines\",\"name\":\"Upper Band\",\"x\":[\"2024-04-22T00:00:00\",\"2024-04-23T00:00:00\",\"2024-04-24T00:00:00\",\"2024-04-25T00:00:00\",\"2024-04-26T00:00:00\"],\"y\":[84.76488821215182,85.21726652652082,85.70645642532799,86.2152955466073,86.73435585159305],\"type\":\"scatter\"},{\"line\":{\"color\":\"black\",\"width\":2},\"mode\":\"lines\",\"name\":\"Lower Band\",\"x\":[\"2024-04-22T00:00:00\",\"2024-04-23T00:00:00\",\"2024-04-24T00:00:00\",\"2024-04-25T00:00:00\",\"2024-04-26T00:00:00\"],\"y\":[70.91557487092021,69.51256659551733,68.18252447019296,66.9139458747676,65.69796821876125],\"type\":\"scatter\"},{\"line\":{\"color\":\"rgba(0,100,80,0.2)\"},\"mode\":\"lines\",\"name\":\"Upper Band\",\"showlegend\":false,\"x\":[\"2024-04-22T00:00:00\",\"2024-04-23T00:00:00\",\"2024-04-24T00:00:00\",\"2024-04-25T00:00:00\",\"2024-04-26T00:00:00\"],\"y\":[84.76488821215182,85.21726652652082,85.70645642532799,86.2152955466073,86.73435585159305],\"type\":\"scatter\"},{\"fill\":\"tonexty\",\"line\":{\"color\":\"rgba(0,100,80,0.2)\"},\"mode\":\"lines\",\"name\":\"Lower Band\",\"showlegend\":false,\"x\":[\"2024-04-22T00:00:00\",\"2024-04-23T00:00:00\",\"2024-04-24T00:00:00\",\"2024-04-25T00:00:00\",\"2024-04-26T00:00:00\"],\"y\":[70.91557487092021,69.51256659551733,68.18252447019296,66.9139458747676,65.69796821876125],\"type\":\"scatter\"},{\"marker\":{\"color\":\"red\"},\"mode\":\"markers\",\"name\":\"test_data\",\"x\":[\"2024-04-29T00:00:00\",\"2024-04-30T00:00:00\",\"2024-05-01T00:00:00\",\"2024-05-02T00:00:00\",\"2024-05-03T00:00:00\"],\"y\":[87.757,86.402,83.041,85.817,88.789],\"type\":\"scatter\"},{\"line\":{\"color\":\"black\",\"width\":2},\"mode\":\"lines\",\"name\":\"test_fit\",\"x\":[\"2024-04-29T00:00:00\",\"2024-04-30T00:00:00\",\"2024-05-01T00:00:00\",\"2024-05-02T00:00:00\",\"2024-05-03T00:00:00\"],\"y\":[85.69798765360156,85.83799819692649,85.9413303734218,86.01836653948976,86.07557440850906],\"type\":\"scatter\"},{\"line\":{\"color\":\"black\",\"width\":2},\"mode\":\"lines\",\"name\":\"Upper Band\",\"x\":[\"2024-04-29T00:00:00\",\"2024-04-30T00:00:00\",\"2024-05-01T00:00:00\",\"2024-05-02T00:00:00\",\"2024-05-03T00:00:00\"],\"y\":[92.8710668170711,93.93685932953045,94.95106229482599,95.92044642911091,96.85064540937567],\"type\":\"scatter\"},{\"line\":{\"color\":\"black\",\"width\":2},\"mode\":\"lines\",\"name\":\"Lower Band\",\"x\":[\"2024-04-29T00:00:00\",\"2024-04-30T00:00:00\",\"2024-05-01T00:00:00\",\"2024-05-02T00:00:00\",\"2024-05-03T00:00:00\"],\"y\":[78.52490849013202,77.73913706432253,76.93159845201762,76.11628664986861,75.30050340764244],\"type\":\"scatter\"},{\"line\":{\"color\":\"rgba(0,100,80,0.2)\"},\"mode\":\"lines\",\"name\":\"Upper Band\",\"showlegend\":false,\"x\":[\"2024-04-29T00:00:00\",\"2024-04-30T00:00:00\",\"2024-05-01T00:00:00\",\"2024-05-02T00:00:00\",\"2024-05-03T00:00:00\"],\"y\":[92.8710668170711,93.93685932953045,94.95106229482599,95.92044642911091,96.85064540937567],\"type\":\"scatter\"},{\"fill\":\"tonexty\",\"line\":{\"color\":\"rgba(0,100,80,0.2)\"},\"mode\":\"lines\",\"name\":\"Lower Band\",\"showlegend\":false,\"x\":[\"2024-04-29T00:00:00\",\"2024-04-30T00:00:00\",\"2024-05-01T00:00:00\",\"2024-05-02T00:00:00\",\"2024-05-03T00:00:00\"],\"y\":[78.52490849013202,77.73913706432253,76.93159845201762,76.11628664986861,75.30050340764244],\"type\":\"scatter\"},{\"marker\":{\"color\":\"red\"},\"mode\":\"markers\",\"name\":\"test_data\",\"x\":[\"2024-05-06T00:00:00\",\"2024-05-07T00:00:00\",\"2024-05-08T00:00:00\",\"2024-05-09T00:00:00\",\"2024-05-10T00:00:00\"],\"y\":[92.14,90.554,90.412,88.747,89.878],\"type\":\"scatter\"},{\"line\":{\"color\":\"black\",\"width\":2},\"mode\":\"lines\",\"name\":\"test_fit\",\"x\":[\"2024-05-06T00:00:00\",\"2024-05-07T00:00:00\",\"2024-05-08T00:00:00\",\"2024-05-09T00:00:00\",\"2024-05-10T00:00:00\"],\"y\":[87.73305787101708,87.88719124684576,88.02644374767988,88.15452482022374,88.27380226364039],\"type\":\"scatter\"},{\"line\":{\"color\":\"black\",\"width\":2},\"mode\":\"lines\",\"name\":\"Upper Band\",\"x\":[\"2024-05-06T00:00:00\",\"2024-05-07T00:00:00\",\"2024-05-08T00:00:00\",\"2024-05-09T00:00:00\",\"2024-05-10T00:00:00\"],\"y\":[94.87545344242868,95.8759929246789,96.85553952500801,97.81295529042177,98.74869330981721],\"type\":\"scatter\"},{\"line\":{\"color\":\"black\",\"width\":2},\"mode\":\"lines\",\"name\":\"Lower Band\",\"x\":[\"2024-05-06T00:00:00\",\"2024-05-07T00:00:00\",\"2024-05-08T00:00:00\",\"2024-05-09T00:00:00\",\"2024-05-10T00:00:00\"],\"y\":[80.59066229960548,79.89838956901262,79.19734797035174,78.49609435002571,77.79891121746357],\"type\":\"scatter\"},{\"line\":{\"color\":\"rgba(0,100,80,0.2)\"},\"mode\":\"lines\",\"name\":\"Upper Band\",\"showlegend\":false,\"x\":[\"2024-05-06T00:00:00\",\"2024-05-07T00:00:00\",\"2024-05-08T00:00:00\",\"2024-05-09T00:00:00\",\"2024-05-10T00:00:00\"],\"y\":[94.87545344242868,95.8759929246789,96.85553952500801,97.81295529042177,98.74869330981721],\"type\":\"scatter\"},{\"fill\":\"tonexty\",\"line\":{\"color\":\"rgba(0,100,80,0.2)\"},\"mode\":\"lines\",\"name\":\"Lower Band\",\"showlegend\":false,\"x\":[\"2024-05-06T00:00:00\",\"2024-05-07T00:00:00\",\"2024-05-08T00:00:00\",\"2024-05-09T00:00:00\",\"2024-05-10T00:00:00\"],\"y\":[80.59066229960548,79.89838956901262,79.19734797035174,78.49609435002571,77.79891121746357],\"type\":\"scatter\"},{\"marker\":{\"color\":\"red\"},\"mode\":\"markers\",\"name\":\"test_data\",\"x\":[\"2024-05-13T00:00:00\",\"2024-05-14T00:00:00\",\"2024-05-15T00:00:00\",\"2024-05-16T00:00:00\",\"2024-05-17T00:00:00\"],\"y\":[90.399,91.356,94.63,94.359,92.479],\"type\":\"scatter\"},{\"line\":{\"color\":\"black\",\"width\":2},\"mode\":\"lines\",\"name\":\"test_fit\",\"x\":[\"2024-05-13T00:00:00\",\"2024-05-14T00:00:00\",\"2024-05-15T00:00:00\",\"2024-05-16T00:00:00\",\"2024-05-17T00:00:00\"],\"y\":[89.9299024517959,89.95884652508539,89.98407447561385,90.0052084043009,90.02218336076112],\"type\":\"scatter\"},{\"line\":{\"color\":\"black\",\"width\":2},\"mode\":\"lines\",\"name\":\"Upper Band\",\"x\":[\"2024-05-13T00:00:00\",\"2024-05-14T00:00:00\",\"2024-05-15T00:00:00\",\"2024-05-16T00:00:00\",\"2024-05-17T00:00:00\"],\"y\":[97.21145701248561,98.14445670212042,99.06192346987322,99.9592441982179,100.83503124775626],\"type\":\"scatter\"},{\"line\":{\"color\":\"black\",\"width\":2},\"mode\":\"lines\",\"name\":\"Lower Band\",\"x\":[\"2024-05-13T00:00:00\",\"2024-05-14T00:00:00\",\"2024-05-15T00:00:00\",\"2024-05-16T00:00:00\",\"2024-05-17T00:00:00\"],\"y\":[82.64834789110618,81.77323634805036,80.90622548135448,80.0511726103839,79.20933547376598],\"type\":\"scatter\"},{\"line\":{\"color\":\"rgba(0,100,80,0.2)\"},\"mode\":\"lines\",\"name\":\"Upper Band\",\"showlegend\":false,\"x\":[\"2024-05-13T00:00:00\",\"2024-05-14T00:00:00\",\"2024-05-15T00:00:00\",\"2024-05-16T00:00:00\",\"2024-05-17T00:00:00\"],\"y\":[97.21145701248561,98.14445670212042,99.06192346987322,99.9592441982179,100.83503124775626],\"type\":\"scatter\"},{\"fill\":\"tonexty\",\"line\":{\"color\":\"rgba(0,100,80,0.2)\"},\"mode\":\"lines\",\"name\":\"Lower Band\",\"showlegend\":false,\"x\":[\"2024-05-13T00:00:00\",\"2024-05-14T00:00:00\",\"2024-05-15T00:00:00\",\"2024-05-16T00:00:00\",\"2024-05-17T00:00:00\"],\"y\":[82.64834789110618,81.77323634805036,80.90622548135448,80.0511726103839,79.20933547376598],\"type\":\"scatter\"}],                        {\"template\":{\"data\":{\"histogram2dcontour\":[{\"type\":\"histogram2dcontour\",\"colorbar\":{\"outlinewidth\":0,\"ticks\":\"\"},\"colorscale\":[[0.0,\"#0d0887\"],[0.1111111111111111,\"#46039f\"],[0.2222222222222222,\"#7201a8\"],[0.3333333333333333,\"#9c179e\"],[0.4444444444444444,\"#bd3786\"],[0.5555555555555556,\"#d8576b\"],[0.6666666666666666,\"#ed7953\"],[0.7777777777777778,\"#fb9f3a\"],[0.8888888888888888,\"#fdca26\"],[1.0,\"#f0f921\"]]}],\"choropleth\":[{\"type\":\"choropleth\",\"colorbar\":{\"outlinewidth\":0,\"ticks\":\"\"}}],\"histogram2d\":[{\"type\":\"histogram2d\",\"colorbar\":{\"outlinewidth\":0,\"ticks\":\"\"},\"colorscale\":[[0.0,\"#0d0887\"],[0.1111111111111111,\"#46039f\"],[0.2222222222222222,\"#7201a8\"],[0.3333333333333333,\"#9c179e\"],[0.4444444444444444,\"#bd3786\"],[0.5555555555555556,\"#d8576b\"],[0.6666666666666666,\"#ed7953\"],[0.7777777777777778,\"#fb9f3a\"],[0.8888888888888888,\"#fdca26\"],[1.0,\"#f0f921\"]]}],\"heatmap\":[{\"type\":\"heatmap\",\"colorbar\":{\"outlinewidth\":0,\"ticks\":\"\"},\"colorscale\":[[0.0,\"#0d0887\"],[0.1111111111111111,\"#46039f\"],[0.2222222222222222,\"#7201a8\"],[0.3333333333333333,\"#9c179e\"],[0.4444444444444444,\"#bd3786\"],[0.5555555555555556,\"#d8576b\"],[0.6666666666666666,\"#ed7953\"],[0.7777777777777778,\"#fb9f3a\"],[0.8888888888888888,\"#fdca26\"],[1.0,\"#f0f921\"]]}],\"heatmapgl\":[{\"type\":\"heatmapgl\",\"colorbar\":{\"outlinewidth\":0,\"ticks\":\"\"},\"colorscale\":[[0.0,\"#0d0887\"],[0.1111111111111111,\"#46039f\"],[0.2222222222222222,\"#7201a8\"],[0.3333333333333333,\"#9c179e\"],[0.4444444444444444,\"#bd3786\"],[0.5555555555555556,\"#d8576b\"],[0.6666666666666666,\"#ed7953\"],[0.7777777777777778,\"#fb9f3a\"],[0.8888888888888888,\"#fdca26\"],[1.0,\"#f0f921\"]]}],\"contourcarpet\":[{\"type\":\"contourcarpet\",\"colorbar\":{\"outlinewidth\":0,\"ticks\":\"\"}}],\"contour\":[{\"type\":\"contour\",\"colorbar\":{\"outlinewidth\":0,\"ticks\":\"\"},\"colorscale\":[[0.0,\"#0d0887\"],[0.1111111111111111,\"#46039f\"],[0.2222222222222222,\"#7201a8\"],[0.3333333333333333,\"#9c179e\"],[0.4444444444444444,\"#bd3786\"],[0.5555555555555556,\"#d8576b\"],[0.6666666666666666,\"#ed7953\"],[0.7777777777777778,\"#fb9f3a\"],[0.8888888888888888,\"#fdca26\"],[1.0,\"#f0f921\"]]}],\"surface\":[{\"type\":\"surface\",\"colorbar\":{\"outlinewidth\":0,\"ticks\":\"\"},\"colorscale\":[[0.0,\"#0d0887\"],[0.1111111111111111,\"#46039f\"],[0.2222222222222222,\"#7201a8\"],[0.3333333333333333,\"#9c179e\"],[0.4444444444444444,\"#bd3786\"],[0.5555555555555556,\"#d8576b\"],[0.6666666666666666,\"#ed7953\"],[0.7777777777777778,\"#fb9f3a\"],[0.8888888888888888,\"#fdca26\"],[1.0,\"#f0f921\"]]}],\"mesh3d\":[{\"type\":\"mesh3d\",\"colorbar\":{\"outlinewidth\":0,\"ticks\":\"\"}}],\"scatter\":[{\"fillpattern\":{\"fillmode\":\"overlay\",\"size\":10,\"solidity\":0.2},\"type\":\"scatter\"}],\"parcoords\":[{\"type\":\"parcoords\",\"line\":{\"colorbar\":{\"outlinewidth\":0,\"ticks\":\"\"}}}],\"scatterpolargl\":[{\"type\":\"scatterpolargl\",\"marker\":{\"colorbar\":{\"outlinewidth\":0,\"ticks\":\"\"}}}],\"bar\":[{\"error_x\":{\"color\":\"#2a3f5f\"},\"error_y\":{\"color\":\"#2a3f5f\"},\"marker\":{\"line\":{\"color\":\"#E5ECF6\",\"width\":0.5},\"pattern\":{\"fillmode\":\"overlay\",\"size\":10,\"solidity\":0.2}},\"type\":\"bar\"}],\"scattergeo\":[{\"type\":\"scattergeo\",\"marker\":{\"colorbar\":{\"outlinewidth\":0,\"ticks\":\"\"}}}],\"scatterpolar\":[{\"type\":\"scatterpolar\",\"marker\":{\"colorbar\":{\"outlinewidth\":0,\"ticks\":\"\"}}}],\"histogram\":[{\"marker\":{\"pattern\":{\"fillmode\":\"overlay\",\"size\":10,\"solidity\":0.2}},\"type\":\"histogram\"}],\"scattergl\":[{\"type\":\"scattergl\",\"marker\":{\"colorbar\":{\"outlinewidth\":0,\"ticks\":\"\"}}}],\"scatter3d\":[{\"type\":\"scatter3d\",\"line\":{\"colorbar\":{\"outlinewidth\":0,\"ticks\":\"\"}},\"marker\":{\"colorbar\":{\"outlinewidth\":0,\"ticks\":\"\"}}}],\"scattermapbox\":[{\"type\":\"scattermapbox\",\"marker\":{\"colorbar\":{\"outlinewidth\":0,\"ticks\":\"\"}}}],\"scatterternary\":[{\"type\":\"scatterternary\",\"marker\":{\"colorbar\":{\"outlinewidth\":0,\"ticks\":\"\"}}}],\"scattercarpet\":[{\"type\":\"scattercarpet\",\"marker\":{\"colorbar\":{\"outlinewidth\":0,\"ticks\":\"\"}}}],\"carpet\":[{\"aaxis\":{\"endlinecolor\":\"#2a3f5f\",\"gridcolor\":\"white\",\"linecolor\":\"white\",\"minorgridcolor\":\"white\",\"startlinecolor\":\"#2a3f5f\"},\"baxis\":{\"endlinecolor\":\"#2a3f5f\",\"gridcolor\":\"white\",\"linecolor\":\"white\",\"minorgridcolor\":\"white\",\"startlinecolor\":\"#2a3f5f\"},\"type\":\"carpet\"}],\"table\":[{\"cells\":{\"fill\":{\"color\":\"#EBF0F8\"},\"line\":{\"color\":\"white\"}},\"header\":{\"fill\":{\"color\":\"#C8D4E3\"},\"line\":{\"color\":\"white\"}},\"type\":\"table\"}],\"barpolar\":[{\"marker\":{\"line\":{\"color\":\"#E5ECF6\",\"width\":0.5},\"pattern\":{\"fillmode\":\"overlay\",\"size\":10,\"solidity\":0.2}},\"type\":\"barpolar\"}],\"pie\":[{\"automargin\":true,\"type\":\"pie\"}]},\"layout\":{\"autotypenumbers\":\"strict\",\"colorway\":[\"#636efa\",\"#EF553B\",\"#00cc96\",\"#ab63fa\",\"#FFA15A\",\"#19d3f3\",\"#FF6692\",\"#B6E880\",\"#FF97FF\",\"#FECB52\"],\"font\":{\"color\":\"#2a3f5f\"},\"hovermode\":\"closest\",\"hoverlabel\":{\"align\":\"left\"},\"paper_bgcolor\":\"white\",\"plot_bgcolor\":\"#E5ECF6\",\"polar\":{\"bgcolor\":\"#E5ECF6\",\"angularaxis\":{\"gridcolor\":\"white\",\"linecolor\":\"white\",\"ticks\":\"\"},\"radialaxis\":{\"gridcolor\":\"white\",\"linecolor\":\"white\",\"ticks\":\"\"}},\"ternary\":{\"bgcolor\":\"#E5ECF6\",\"aaxis\":{\"gridcolor\":\"white\",\"linecolor\":\"white\",\"ticks\":\"\"},\"baxis\":{\"gridcolor\":\"white\",\"linecolor\":\"white\",\"ticks\":\"\"},\"caxis\":{\"gridcolor\":\"white\",\"linecolor\":\"white\",\"ticks\":\"\"}},\"coloraxis\":{\"colorbar\":{\"outlinewidth\":0,\"ticks\":\"\"}},\"colorscale\":{\"sequential\":[[0.0,\"#0d0887\"],[0.1111111111111111,\"#46039f\"],[0.2222222222222222,\"#7201a8\"],[0.3333333333333333,\"#9c179e\"],[0.4444444444444444,\"#bd3786\"],[0.5555555555555556,\"#d8576b\"],[0.6666666666666666,\"#ed7953\"],[0.7777777777777778,\"#fb9f3a\"],[0.8888888888888888,\"#fdca26\"],[1.0,\"#f0f921\"]],\"sequentialminus\":[[0.0,\"#0d0887\"],[0.1111111111111111,\"#46039f\"],[0.2222222222222222,\"#7201a8\"],[0.3333333333333333,\"#9c179e\"],[0.4444444444444444,\"#bd3786\"],[0.5555555555555556,\"#d8576b\"],[0.6666666666666666,\"#ed7953\"],[0.7777777777777778,\"#fb9f3a\"],[0.8888888888888888,\"#fdca26\"],[1.0,\"#f0f921\"]],\"diverging\":[[0,\"#8e0152\"],[0.1,\"#c51b7d\"],[0.2,\"#de77ae\"],[0.3,\"#f1b6da\"],[0.4,\"#fde0ef\"],[0.5,\"#f7f7f7\"],[0.6,\"#e6f5d0\"],[0.7,\"#b8e186\"],[0.8,\"#7fbc41\"],[0.9,\"#4d9221\"],[1,\"#276419\"]]},\"xaxis\":{\"gridcolor\":\"white\",\"linecolor\":\"white\",\"ticks\":\"\",\"title\":{\"standoff\":15},\"zerolinecolor\":\"white\",\"automargin\":true,\"zerolinewidth\":2},\"yaxis\":{\"gridcolor\":\"white\",\"linecolor\":\"white\",\"ticks\":\"\",\"title\":{\"standoff\":15},\"zerolinecolor\":\"white\",\"automargin\":true,\"zerolinewidth\":2},\"scene\":{\"xaxis\":{\"backgroundcolor\":\"#E5ECF6\",\"gridcolor\":\"white\",\"linecolor\":\"white\",\"showbackground\":true,\"ticks\":\"\",\"zerolinecolor\":\"white\",\"gridwidth\":2},\"yaxis\":{\"backgroundcolor\":\"#E5ECF6\",\"gridcolor\":\"white\",\"linecolor\":\"white\",\"showbackground\":true,\"ticks\":\"\",\"zerolinecolor\":\"white\",\"gridwidth\":2},\"zaxis\":{\"backgroundcolor\":\"#E5ECF6\",\"gridcolor\":\"white\",\"linecolor\":\"white\",\"showbackground\":true,\"ticks\":\"\",\"zerolinecolor\":\"white\",\"gridwidth\":2}},\"shapedefaults\":{\"line\":{\"color\":\"#2a3f5f\"}},\"annotationdefaults\":{\"arrowcolor\":\"#2a3f5f\",\"arrowhead\":0,\"arrowwidth\":1},\"geo\":{\"bgcolor\":\"white\",\"landcolor\":\"#E5ECF6\",\"subunitcolor\":\"white\",\"showland\":true,\"showlakes\":true,\"lakecolor\":\"white\"},\"title\":{\"x\":0.05},\"mapbox\":{\"style\":\"light\"}}}},                        {\"responsive\": true}                    ).then(function(){\n",
       "                            \n",
       "var gd = document.getElementById('bb8b9f82-6c5d-408a-a07a-2ec5090858e5');\n",
       "var x = new MutationObserver(function (mutations, observer) {{\n",
       "        var display = window.getComputedStyle(gd).display;\n",
       "        if (!display || display === 'none') {{\n",
       "            console.log([gd, 'removed!']);\n",
       "            Plotly.purge(gd);\n",
       "            observer.disconnect();\n",
       "        }}\n",
       "}});\n",
       "\n",
       "// Listen for the removal of the full notebook cells\n",
       "var notebookContainer = gd.closest('#notebook-container');\n",
       "if (notebookContainer) {{\n",
       "    x.observe(notebookContainer, {childList: true});\n",
       "}}\n",
       "\n",
       "// Listen for the clearing of the current output cell\n",
       "var outputEl = gd.closest('.output');\n",
       "if (outputEl) {{\n",
       "    x.observe(outputEl, {childList: true});\n",
       "}}\n",
       "\n",
       "                        })                };                });            </script>        </div>"
      ]
     },
     "metadata": {},
     "output_type": "display_data"
    }
   ],
   "source": [
    "fig.show()"
   ]
  },
  {
   "cell_type": "code",
   "execution_count": null,
   "metadata": {},
   "outputs": [],
   "source": []
  }
 ],
 "metadata": {
  "kernelspec": {
   "display_name": "Python 3 (ipykernel)",
   "language": "python",
   "name": "python3"
  },
  "language_info": {
   "codemirror_mode": {
    "name": "ipython",
    "version": 3
   },
   "file_extension": ".py",
   "mimetype": "text/x-python",
   "name": "python",
   "nbconvert_exporter": "python",
   "pygments_lexer": "ipython3",
   "version": "3.11.9"
  }
 },
 "nbformat": 4,
 "nbformat_minor": 2
}
