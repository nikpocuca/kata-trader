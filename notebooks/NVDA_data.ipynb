{
 "cells": [
  {
   "cell_type": "markdown",
   "id": "42e35adc-6ddf-4a42-8f93-265055534b9c",
   "metadata": {},
   "source": [
    "# NVIDIA Data Visualization\n"
   ]
  },
  {
   "cell_type": "code",
   "execution_count": 125,
   "id": "cd81993b-1e39-4e38-9c6a-27bcb8d82b74",
   "metadata": {
    "scrolled": true
   },
   "outputs": [],
   "source": [
    "# use alpaca as data api \n",
    "import os \n",
    "from typing import List\n",
    "import pandas as pd\n",
    "import numpy as np\n",
    "from datetime import datetime\n",
    "from sklearn.gaussian_process import GaussianProcessRegressor\n",
    "import sklearn.gaussian_process.kernels as K \n",
    "import matplotlib.pyplot as plt \n",
    "from io import StringIO\n",
    "\n",
    "from matplotlib.pyplot import figure\n",
    "from alpaca.data.historical import StockHistoricalDataClient\n",
    "from alpaca.data.requests import StockBarsRequest\n",
    "from alpaca.data.timeframe import TimeFrame\n",
    "\n",
    "import yaml\n",
    "import redis\n",
    "import json\n",
    "import pyarrow as pa\n",
    "\n",
    "def acquire_credentials(secret_path: str = None):\n",
    "    \"\"\"\n",
    "    looks for the credentials in a secret file\n",
    "    \"\"\"\n",
    "    if secret_path is None:\n",
    "        secret_path = PATH_SECRETS\n",
    "    else:\n",
    "        pass\n",
    "\n",
    "    if os.path.exists(secret_path):\n",
    "\n",
    "        # open file to secrets\n",
    "        with open(secret_path, \"r\") as f:\n",
    "\n",
    "            # use yaml to safely load\n",
    "            key_information = yaml.safe_load(f)\n",
    "            return key_information[\"api_key\"], key_information[\"api_secret\"]\n",
    "\n",
    "    else:\n",
    "        logger.critical(\"Secrets file not found\")\n",
    "        raise FileNotFoundError(f\"File not found for {secret_path}\")\n"
   ]
  },
  {
   "cell_type": "code",
   "execution_count": 126,
   "id": "2337b7ee-2495-4bd9-b019-42113c410a3c",
   "metadata": {},
   "outputs": [],
   "source": [
    "# download data functions \n",
    "\n",
    "def download_data(secrets_path, start_date):\n",
    "    \"\"\"\n",
    "    downloads data from the alpaca \n",
    "    \"\"\"\n",
    "    api_key , api_secret = acquire_credentials(secrets_path)\n",
    "\n",
    "    client = StockHistoricalDataClient(api_key=api_key,\n",
    "                                       secret_key=api_secret)\n",
    "\n",
    "    request_params = StockBarsRequest(\n",
    "        symbol_or_symbols=\"NVDA\",\n",
    "        timeframe=TimeFrame.Day,\n",
    "        start=datetime.strptime(start_date, '%Y-%m-%d')\n",
    "    )\n",
    "\n",
    "    bars = client.get_stock_bars(request_params)\n",
    "    df = bars.df \n",
    "    timestamps = df.index.map(lambda x : x[1]).values\n",
    "    closing_prices = df['close'].values\n",
    "\n",
    "    interim_df = pd.DataFrame({'timestamp':timestamps, \n",
    "                               'price': closing_prices})\n",
    "    \n",
    "    return interim_df        "
   ]
  },
  {
   "cell_type": "code",
   "execution_count": 127,
   "id": "f097a432-7db1-4a14-b01f-7415be7cfbc5",
   "metadata": {},
   "outputs": [],
   "source": [
    "SECRETS_PATH = \"../src/.secrets\"\n",
    "START_DATE = \"2024-01-04\""
   ]
  },
  {
   "cell_type": "code",
   "execution_count": 128,
   "id": "f39a79a1-705d-47b4-aec1-feb7c98e4f87",
   "metadata": {},
   "outputs": [],
   "source": [
    "df = download_data(SECRETS_PATH, START_DATE)"
   ]
  },
  {
   "cell_type": "code",
   "execution_count": 129,
   "id": "e6802ff1-6514-4b89-b8f1-572d6008b53c",
   "metadata": {},
   "outputs": [],
   "source": [
    "# save raw data to redis \n",
    "connection =  redis.Redis(host='red', port=6379)"
   ]
  },
  {
   "cell_type": "code",
   "execution_count": 130,
   "id": "66b8b646-4544-4405-81ec-4fea7896c414",
   "metadata": {},
   "outputs": [],
   "source": [
    "# stock list \n",
    "\n",
    "stock_list = connection.get('_STOCKS')\n",
    "\n",
    "if stock_list is None:\n",
    "    connection.set('_STOCKS', json.dumps(['NVDA']))\n",
    "else:\n",
    "    stock_list = json.loads(stock_list)\n",
    "    if 'NVDA' not in stock_list:\n",
    "        stock_list.append('NVDA')\n",
    "        connection.set('_STOCKS', json.dumps(stock_list))\n"
   ]
  },
  {
   "cell_type": "code",
   "execution_count": 131,
   "id": "40d547f0-4363-41b4-99ee-82266fc1ba77",
   "metadata": {},
   "outputs": [],
   "source": [
    "df_json = df.to_json()"
   ]
  },
  {
   "cell_type": "code",
   "execution_count": 132,
   "id": "0c6e5340-ba3a-4e93-98a7-f3c8ca4d68f4",
   "metadata": {},
   "outputs": [
    {
     "data": {
      "text/plain": [
       "True"
      ]
     },
     "execution_count": 132,
     "metadata": {},
     "output_type": "execute_result"
    }
   ],
   "source": [
    "connection.set('_NVDA', json.dumps({\n",
    "    '2024-01-04/present':['table',df_json]\n",
    "}))"
   ]
  },
  {
   "cell_type": "code",
   "execution_count": 133,
   "id": "c9a7f9c4-515a-4619-b689-cc5d52306df2",
   "metadata": {},
   "outputs": [
    {
     "data": {
      "text/plain": [
       "1"
      ]
     },
     "execution_count": 133,
     "metadata": {},
     "output_type": "execute_result"
    }
   ],
   "source": [
    "connection.exists('_STOCKS')"
   ]
  },
  {
   "cell_type": "code",
   "execution_count": 134,
   "id": "4a83220f-d9fe-4947-9617-e52378e6621f",
   "metadata": {
    "scrolled": true
   },
   "outputs": [],
   "source": [
    "df_new = pd.read_json(StringIO(json.loads(connection.get('_NVDA'))['2024-01-04/present'][1]))"
   ]
  },
  {
   "cell_type": "code",
   "execution_count": 135,
   "id": "90b5db00-2eac-4c71-8c74-264fedcdcab1",
   "metadata": {},
   "outputs": [],
   "source": [
    "class RedisTableUtility:\n",
    "\n",
    "    def __init__(self, connection):\n",
    "        self.connection = connection\n",
    "\n",
    "    def check(self, key, date_key):\n",
    "        if connection.exists(key):\n",
    "            try:\n",
    "                result = json.loads(connection.get(key))[date_key]\n",
    "                return result[0] == 'table'\n",
    "            except:\n",
    "                return False\n",
    "        else:\n",
    "            return False\n",
    "\n",
    "    def get(self, key, date_key):\n",
    "        if self.check(key, date_key):\n",
    "            \n",
    "            result = json.loads(connection.get(key))[date_key]\n",
    "\n",
    "            return pd.read_json(StringIO(result[1]))\n",
    "        else:\n",
    "            raise Exception(f\"key:{key}{date_key} not found\")\n",
    "            \n",
    "    def set(self, key, date_key, df_inbound):\n",
    "        try:\n",
    "            df_json = df_inbound.to_json()\n",
    "\n",
    "            result = connection.set(key, \n",
    "                json.dumps({\n",
    "                    date_key:['table', df_json]}\n",
    "                          ))\n",
    "\n",
    "            return result\n",
    "        except:\n",
    "            raise Exception(f\"key:{key}{date_key} failed to set\")"
   ]
  },
  {
   "cell_type": "code",
   "execution_count": 136,
   "id": "8aff0b47-4c16-447a-963f-0b0919b907a1",
   "metadata": {},
   "outputs": [],
   "source": [
    "red_table = RedisTableUtility(connection)"
   ]
  },
  {
   "cell_type": "code",
   "execution_count": 137,
   "id": "e3f15c60-b609-41cf-8e33-7fd67f28c3d4",
   "metadata": {},
   "outputs": [
    {
     "data": {
      "text/plain": [
       "True"
      ]
     },
     "execution_count": 137,
     "metadata": {},
     "output_type": "execute_result"
    }
   ],
   "source": [
    "red_table.check('_NVDA', '2024-01-04/present')"
   ]
  },
  {
   "cell_type": "code",
   "execution_count": 138,
   "id": "cae1a9f2-f4e6-4bf2-a18e-f910209ad06d",
   "metadata": {},
   "outputs": [],
   "source": [
    "table = red_table.get('_NVDA', '2024-01-04/present')"
   ]
  },
  {
   "cell_type": "code",
   "execution_count": 140,
   "id": "a6d37429-2717-4ed9-bae9-422227046cb9",
   "metadata": {},
   "outputs": [
    {
     "data": {
      "text/plain": [
       "<matplotlib.collections.PathCollection at 0x73c740574cd0>"
      ]
     },
     "execution_count": 140,
     "metadata": {},
     "output_type": "execute_result"
    },
    {
     "data": {
      "image/png": "[encoded data removed]",
      "text/plain": [
       "<Figure size 640x480 with 1 Axes>"
      ]
     },
     "metadata": {},
     "output_type": "display_data"
    }
   ],
   "source": [
    "plt.scatter(df['timestamp'],df['price'], s=10)"
   ]
  },
  {
   "cell_type": "code",
   "execution_count": 141,
   "id": "18726a29-f294-48dc-9679-9a56decab9f2",
   "metadata": {},
   "outputs": [],
   "source": [
    "\n",
    "close = df['price'].values\n",
    "timestamps = df['timestamp'].values\n",
    "\n",
    "try: \n",
    "    datetime_array = np.array([datetime.strptime(date, '%Y-%m-%d %H:%M:%S') for date in timestamps])\n",
    "except: \n",
    "    datetime_array = np.array([datetime.strptime(str(date), '%Y-%m-%dT%H:%M:%S.%f000000') for date in timestamps])\n",
    "\n",
    "stock_split_for_nvidia_date = datetime.strptime('2024-06-08','%Y-%m-%d')\n",
    "split_check = datetime_array <= stock_split_for_nvidia_date\n",
    "\n",
    "\n",
    "close[split_check] = close[split_check] / 10\n"
   ]
  },
  {
   "cell_type": "code",
   "execution_count": 142,
   "id": "dabff2d1-3f56-4db9-acef-02aee77f1f66",
   "metadata": {},
   "outputs": [],
   "source": [
    "df['price'] = close"
   ]
  },
  {
   "cell_type": "code",
   "execution_count": 146,
   "id": "6ddc6730-6b28-41c8-b10c-0aa33f85c9be",
   "metadata": {},
   "outputs": [
    {
     "data": {
      "text/plain": [
       "True"
      ]
     },
     "execution_count": 146,
     "metadata": {},
     "output_type": "execute_result"
    }
   ],
   "source": [
    "red_table.set('_NVDA','2024-01-04/present', df)"
   ]
  },
  {
   "cell_type": "code",
   "execution_count": 147,
   "id": "373c3004-7313-4423-bf11-228ffa9ca819",
   "metadata": {},
   "outputs": [],
   "source": [
    "table = red_table.get('_NVDA', '2024-01-04/present')"
   ]
  },
  {
   "cell_type": "code",
   "execution_count": 149,
   "id": "be0890a8-3402-466a-9c04-1df6ed0af5e8",
   "metadata": {
    "scrolled": true
   },
   "outputs": [],
   "source": [
    "fig = go.Figure([go.Scatter(x=table['timestamp'], \n",
    "                            y=df['price'], mode='markers')])\n"
   ]
  },
  {
   "cell_type": "code",
   "execution_count": 150,
   "id": "042ad98a-754a-4836-8449-44ca3a74f306",
   "metadata": {},
   "outputs": [
    {
     "data": {
      "application/vnd.plotly.v1+json": {
       "config": {
        "plotlyServerURL": "https://plot.ly"
       },
       "data": [
        {
         "mode": "markers",
         "type": "scatter",
         "x": [
          "2024-01-04T05:00:00",
          "2024-01-05T05:00:00",
          "2024-01-08T05:00:00",
          "2024-01-09T05:00:00",
          "2024-01-10T05:00:00",
          "2024-01-11T05:00:00",
          "2024-01-12T05:00:00",
          "2024-01-16T05:00:00",
          "2024-01-17T05:00:00",
          "2024-01-18T05:00:00",
          "2024-01-19T05:00:00",
          "2024-01-22T05:00:00",
          "2024-01-23T05:00:00",
          "2024-01-24T05:00:00",
          "2024-01-25T05:00:00",
          "2024-01-26T05:00:00",
          "2024-01-29T05:00:00",
          "2024-01-30T05:00:00",
          "2024-01-31T05:00:00",
          "2024-02-01T05:00:00",
          "2024-02-02T05:00:00",
          "2024-02-05T05:00:00",
          "2024-02-06T05:00:00",
          "2024-02-07T05:00:00",
          "2024-02-08T05:00:00",
          "2024-02-09T05:00:00",
          "2024-02-12T05:00:00",
          "2024-02-13T05:00:00",
          "2024-02-14T05:00:00",
          "2024-02-15T05:00:00",
          "2024-02-16T05:00:00",
          "2024-02-20T05:00:00",
          "2024-02-21T05:00:00",
          "2024-02-22T05:00:00",
          "2024-02-23T05:00:00",
          "2024-02-26T05:00:00",
          "2024-02-27T05:00:00",
          "2024-02-28T05:00:00",
          "2024-02-29T05:00:00",
          "2024-03-01T05:00:00",
          "2024-03-04T05:00:00",
          "2024-03-05T05:00:00",
          "2024-03-06T05:00:00",
          "2024-03-07T05:00:00",
          "2024-03-08T05:00:00",
          "2024-03-11T04:00:00",
          "2024-03-12T04:00:00",
          "2024-03-13T04:00:00",
          "2024-03-14T04:00:00",
          "2024-03-15T04:00:00",
          "2024-03-18T04:00:00",
          "2024-03-19T04:00:00",
          "2024-03-20T04:00:00",
          "2024-03-21T04:00:00",
          "2024-03-22T04:00:00",
          "2024-03-25T04:00:00",
          "2024-03-26T04:00:00",
          "2024-03-27T04:00:00",
          "2024-03-28T04:00:00",
          "2024-04-01T04:00:00",
          "2024-04-02T04:00:00",
          "2024-04-03T04:00:00",
          "2024-04-04T04:00:00",
          "2024-04-05T04:00:00",
          "2024-04-08T04:00:00",
          "2024-04-09T04:00:00",
          "2024-04-10T04:00:00",
          "2024-04-11T04:00:00",
          "2024-04-12T04:00:00",
          "2024-04-15T04:00:00",
          "2024-04-16T04:00:00",
          "2024-04-17T04:00:00",
          "2024-04-18T04:00:00",
          "2024-04-19T04:00:00",
          "2024-04-22T04:00:00",
          "2024-04-23T04:00:00",
          "2024-04-24T04:00:00",
          "2024-04-25T04:00:00",
          "2024-04-26T04:00:00",
          "2024-04-29T04:00:00",
          "2024-04-30T04:00:00",
          "2024-05-01T04:00:00",
          "2024-05-02T04:00:00",
          "2024-05-03T04:00:00",
          "2024-05-06T04:00:00",
          "2024-05-07T04:00:00",
          "2024-05-08T04:00:00",
          "2024-05-09T04:00:00",
          "2024-05-10T04:00:00",
          "2024-05-13T04:00:00",
          "2024-05-14T04:00:00",
          "2024-05-15T04:00:00",
          "2024-05-16T04:00:00",
          "2024-05-17T04:00:00",
          "2024-05-20T04:00:00",
          "2024-05-21T04:00:00",
          "2024-05-22T04:00:00",
          "2024-05-23T04:00:00",
          "2024-05-24T04:00:00",
          "2024-05-28T04:00:00",
          "2024-05-29T04:00:00",
          "2024-05-30T04:00:00",
          "2024-05-31T04:00:00",
          "2024-06-03T04:00:00",
          "2024-06-04T04:00:00",
          "2024-06-05T04:00:00",
          "2024-06-06T04:00:00",
          "2024-06-07T04:00:00",
          "2024-06-10T04:00:00",
          "2024-06-11T04:00:00",
          "2024-06-12T04:00:00",
          "2024-06-13T04:00:00",
          "2024-06-14T04:00:00",
          "2024-06-17T04:00:00",
          "2024-06-18T04:00:00",
          "2024-06-20T04:00:00",
          "2024-06-21T04:00:00",
          "2024-06-24T04:00:00",
          "2024-06-25T04:00:00",
          "2024-06-26T04:00:00",
          "2024-06-27T04:00:00",
          "2024-06-28T04:00:00",
          "2024-07-01T04:00:00",
          "2024-07-02T04:00:00",
          "2024-07-03T04:00:00",
          "2024-07-05T04:00:00",
          "2024-07-08T04:00:00",
          "2024-07-09T04:00:00",
          "2024-07-10T04:00:00",
          "2024-07-11T04:00:00",
          "2024-07-12T04:00:00",
          "2024-07-15T04:00:00",
          "2024-07-16T04:00:00",
          "2024-07-17T04:00:00",
          "2024-07-18T04:00:00",
          "2024-07-19T04:00:00",
          "2024-07-22T04:00:00",
          "2024-07-23T04:00:00",
          "2024-07-24T04:00:00"
         ],
         "y": [
          47.998000000000005,
          49.097,
          52.253,
          53.14,
          54.35,
          54.822,
          54.71,
          56.382000000000005,
          56.053,
          57.107000000000006,
          59.491,
          59.653999999999996,
          59.873000000000005,
          61.362,
          61.617,
          61.03099999999999,
          62.464999999999996,
          62.774,
          61.527,
          63.027,
          66.16,
          69.33200000000001,
          68.223,
          70.099,
          69.64099999999999,
          72.13300000000001,
          72.248,
          72.128,
          73.9,
          72.658,
          72.613,
          69.452,
          67.47200000000001,
          78.538,
          78.817,
          79.092,
          78.701,
          77.663,
          79.112,
          82.279,
          85.237,
          85.964,
          88.7,
          92.66900000000001,
          87.52799999999999,
          85.774,
          91.913,
          90.888,
          87.944,
          87.8365,
          88.455,
          89.398,
          90.372,
          91.435,
          94.289,
          95.002,
          92.561,
          90.25,
          90.356,
          90.363,
          89.452,
          88.964,
          85.905,
          88.00800000000001,
          87.13300000000001,
          85.354,
          87.039,
          90.616,
          88.186,
          86.001,
          87.41499999999999,
          84.035,
          84.671,
          76.2,
          79.518,
          82.423,
          79.67699999999999,
          82.632,
          87.735,
          87.757,
          86.402,
          83.041,
          85.817,
          88.789,
          92.14,
          90.554,
          90.412,
          88.747,
          89.878,
          90.399,
          91.356,
          94.63,
          94.35900000000001,
          92.479,
          94.78,
          95.386,
          94.95,
          103.799,
          106.46900000000001,
          113.901,
          114.825,
          110.5,
          109.633,
          115,
          116.43699999999998,
          122.44000000000001,
          120.998,
          120.888,
          121.79,
          120.91,
          125.2,
          129.61,
          131.88,
          130.98,
          135.58,
          130.78,
          126.57,
          118.11,
          126.09,
          126.4,
          123.99,
          123.54,
          124.3,
          122.67,
          128.28,
          125.83,
          128.2,
          131.38,
          134.91,
          127.4,
          129.24,
          128.44,
          126.36,
          117.99,
          121.09,
          117.93,
          123.54,
          122.59,
          114.25
         ]
        }
       ],
       "layout": {
        "autosize": true,
        "template": {
         "data": {
          "bar": [
           {
            "error_x": {
             "color": "#2a3f5f"
            },
            "error_y": {
             "color": "#2a3f5f"
            },
            "marker": {
             "line": {
              "color": "#E5ECF6",
              "width": 0.5
             },
             "pattern": {
              "fillmode": "overlay",
              "size": 10,
              "solidity": 0.2
             }
            },
            "type": "bar"
           }
          ],
          "barpolar": [
           {
            "marker": {
             "line": {
              "color": "#E5ECF6",
              "width": 0.5
             },
             "pattern": {
              "fillmode": "overlay",
              "size": 10,
              "solidity": 0.2
             }
            },
            "type": "barpolar"
           }
          ],
          "carpet": [
           {
            "aaxis": {
             "endlinecolor": "#2a3f5f",
             "gridcolor": "white",
             "linecolor": "white",
             "minorgridcolor": "white",
             "startlinecolor": "#2a3f5f"
            },
            "baxis": {
             "endlinecolor": "#2a3f5f",
             "gridcolor": "white",
             "linecolor": "white",
             "minorgridcolor": "white",
             "startlinecolor": "#2a3f5f"
            },
            "type": "carpet"
           }
          ],
          "choropleth": [
           {
            "colorbar": {
             "outlinewidth": 0,
             "ticks": ""
            },
            "type": "choropleth"
           }
          ],
          "contour": [
           {
            "colorbar": {
             "outlinewidth": 0,
             "ticks": ""
            },
            "colorscale": [
             [
              0,
              "#0d0887"
             ],
             [
              0.1111111111111111,
              "#46039f"
             ],
             [
              0.2222222222222222,
              "#7201a8"
             ],
             [
              0.3333333333333333,
              "#9c179e"
             ],
             [
              0.4444444444444444,
              "#bd3786"
             ],
             [
              0.5555555555555556,
              "#d8576b"
             ],
             [
              0.6666666666666666,
              "#ed7953"
             ],
             [
              0.7777777777777778,
              "#fb9f3a"
             ],
             [
              0.8888888888888888,
              "#fdca26"
             ],
             [
              1,
              "#f0f921"
             ]
            ],
            "type": "contour"
           }
          ],
          "contourcarpet": [
           {
            "colorbar": {
             "outlinewidth": 0,
             "ticks": ""
            },
            "type": "contourcarpet"
           }
          ],
          "heatmap": [
           {
            "colorbar": {
             "outlinewidth": 0,
             "ticks": ""
            },
            "colorscale": [
             [
              0,
              "#0d0887"
             ],
             [
              0.1111111111111111,
              "#46039f"
             ],
             [
              0.2222222222222222,
              "#7201a8"
             ],
             [
              0.3333333333333333,
              "#9c179e"
             ],
             [
              0.4444444444444444,
              "#bd3786"
             ],
             [
              0.5555555555555556,
              "#d8576b"
             ],
             [
              0.6666666666666666,
              "#ed7953"
             ],
             [
              0.7777777777777778,
              "#fb9f3a"
             ],
             [
              0.8888888888888888,
              "#fdca26"
             ],
             [
              1,
              "#f0f921"
             ]
            ],
            "type": "heatmap"
           }
          ],
          "heatmapgl": [
           {
            "colorbar": {
             "outlinewidth": 0,
             "ticks": ""
            },
            "colorscale": [
             [
              0,
              "#0d0887"
             ],
             [
              0.1111111111111111,
              "#46039f"
             ],
             [
              0.2222222222222222,
              "#7201a8"
             ],
             [
              0.3333333333333333,
              "#9c179e"
             ],
             [
              0.4444444444444444,
              "#bd3786"
             ],
             [
              0.5555555555555556,
              "#d8576b"
             ],
             [
              0.6666666666666666,
              "#ed7953"
             ],
             [
              0.7777777777777778,
              "#fb9f3a"
             ],
             [
              0.8888888888888888,
              "#fdca26"
             ],
             [
              1,
              "#f0f921"
             ]
            ],
            "type": "heatmapgl"
           }
          ],
          "histogram": [
           {
            "marker": {
             "pattern": {
              "fillmode": "overlay",
              "size": 10,
              "solidity": 0.2
             }
            },
            "type": "histogram"
           }
          ],
          "histogram2d": [
           {
            "colorbar": {
             "outlinewidth": 0,
             "ticks": ""
            },
            "colorscale": [
             [
              0,
              "#0d0887"
             ],
             [
              0.1111111111111111,
              "#46039f"
             ],
             [
              0.2222222222222222,
              "#7201a8"
             ],
             [
              0.3333333333333333,
              "#9c179e"
             ],
             [
              0.4444444444444444,
              "#bd3786"
             ],
             [
              0.5555555555555556,
              "#d8576b"
             ],
             [
              0.6666666666666666,
              "#ed7953"
             ],
             [
              0.7777777777777778,
              "#fb9f3a"
             ],
             [
              0.8888888888888888,
              "#fdca26"
             ],
             [
              1,
              "#f0f921"
             ]
            ],
            "type": "histogram2d"
           }
          ],
          "histogram2dcontour": [
           {
            "colorbar": {
             "outlinewidth": 0,
             "ticks": ""
            },
            "colorscale": [
             [
              0,
              "#0d0887"
             ],
             [
              0.1111111111111111,
              "#46039f"
             ],
             [
              0.2222222222222222,
              "#7201a8"
             ],
             [
              0.3333333333333333,
              "#9c179e"
             ],
             [
              0.4444444444444444,
              "#bd3786"
             ],
             [
              0.5555555555555556,
              "#d8576b"
             ],
             [
              0.6666666666666666,
              "#ed7953"
             ],
             [
              0.7777777777777778,
              "#fb9f3a"
             ],
             [
              0.8888888888888888,
              "#fdca26"
             ],
             [
              1,
              "#f0f921"
             ]
            ],
            "type": "histogram2dcontour"
           }
          ],
          "mesh3d": [
           {
            "colorbar": {
             "outlinewidth": 0,
             "ticks": ""
            },
            "type": "mesh3d"
           }
          ],
          "parcoords": [
           {
            "line": {
             "colorbar": {
              "outlinewidth": 0,
              "ticks": ""
             }
            },
            "type": "parcoords"
           }
          ],
          "pie": [
           {
            "automargin": true,
            "type": "pie"
           }
          ],
          "scatter": [
           {
            "fillpattern": {
             "fillmode": "overlay",
             "size": 10,
             "solidity": 0.2
            },
            "type": "scatter"
           }
          ],
          "scatter3d": [
           {
            "line": {
             "colorbar": {
              "outlinewidth": 0,
              "ticks": ""
             }
            },
            "marker": {
             "colorbar": {
              "outlinewidth": 0,
              "ticks": ""
             }
            },
            "type": "scatter3d"
           }
          ],
          "scattercarpet": [
           {
            "marker": {
             "colorbar": {
              "outlinewidth": 0,
              "ticks": ""
             }
            },
            "type": "scattercarpet"
           }
          ],
          "scattergeo": [
           {
            "marker": {
             "colorbar": {
              "outlinewidth": 0,
              "ticks": ""
             }
            },
            "type": "scattergeo"
           }
          ],
          "scattergl": [
           {
            "marker": {
             "colorbar": {
              "outlinewidth": 0,
              "ticks": ""
             }
            },
            "type": "scattergl"
           }
          ],
          "scattermapbox": [
           {
            "marker": {
             "colorbar": {
              "outlinewidth": 0,
              "ticks": ""
             }
            },
            "type": "scattermapbox"
           }
          ],
          "scatterpolar": [
           {
            "marker": {
             "colorbar": {
              "outlinewidth": 0,
              "ticks": ""
             }
            },
            "type": "scatterpolar"
           }
          ],
          "scatterpolargl": [
           {
            "marker": {
             "colorbar": {
              "outlinewidth": 0,
              "ticks": ""
             }
            },
            "type": "scatterpolargl"
           }
          ],
          "scatterternary": [
           {
            "marker": {
             "colorbar": {
              "outlinewidth": 0,
              "ticks": ""
             }
            },
            "type": "scatterternary"
           }
          ],
          "surface": [
           {
            "colorbar": {
             "outlinewidth": 0,
             "ticks": ""
            },
            "colorscale": [
             [
              0,
              "#0d0887"
             ],
             [
              0.1111111111111111,
              "#46039f"
             ],
             [
              0.2222222222222222,
              "#7201a8"
             ],
             [
              0.3333333333333333,
              "#9c179e"
             ],
             [
              0.4444444444444444,
              "#bd3786"
             ],
             [
              0.5555555555555556,
              "#d8576b"
             ],
             [
              0.6666666666666666,
              "#ed7953"
             ],
             [
              0.7777777777777778,
              "#fb9f3a"
             ],
             [
              0.8888888888888888,
              "#fdca26"
             ],
             [
              1,
              "#f0f921"
             ]
            ],
            "type": "surface"
           }
          ],
          "table": [
           {
            "cells": {
             "fill": {
              "color": "#EBF0F8"
             },
             "line": {
              "color": "white"
             }
            },
            "header": {
             "fill": {
              "color": "#C8D4E3"
             },
             "line": {
              "color": "white"
             }
            },
            "type": "table"
           }
          ]
         },
         "layout": {
          "annotationdefaults": {
           "arrowcolor": "#2a3f5f",
           "arrowhead": 0,
           "arrowwidth": 1
          },
          "autotypenumbers": "strict",
          "coloraxis": {
           "colorbar": {
            "outlinewidth": 0,
            "ticks": ""
           }
          },
          "colorscale": {
           "diverging": [
            [
             0,
             "#8e0152"
            ],
            [
             0.1,
             "#c51b7d"
            ],
            [
             0.2,
             "#de77ae"
            ],
            [
             0.3,
             "#f1b6da"
            ],
            [
             0.4,
             "#fde0ef"
            ],
            [
             0.5,
             "#f7f7f7"
            ],
            [
             0.6,
             "#e6f5d0"
            ],
            [
             0.7,
             "#b8e186"
            ],
            [
             0.8,
             "#7fbc41"
            ],
            [
             0.9,
             "#4d9221"
            ],
            [
             1,
             "#276419"
            ]
           ],
           "sequential": [
            [
             0,
             "#0d0887"
            ],
            [
             0.1111111111111111,
             "#46039f"
            ],
            [
             0.2222222222222222,
             "#7201a8"
            ],
            [
             0.3333333333333333,
             "#9c179e"
            ],
            [
             0.4444444444444444,
             "#bd3786"
            ],
            [
             0.5555555555555556,
             "#d8576b"
            ],
            [
             0.6666666666666666,
             "#ed7953"
            ],
            [
             0.7777777777777778,
             "#fb9f3a"
            ],
            [
             0.8888888888888888,
             "#fdca26"
            ],
            [
             1,
             "#f0f921"
            ]
           ],
           "sequentialminus": [
            [
             0,
             "#0d0887"
            ],
            [
             0.1111111111111111,
             "#46039f"
            ],
            [
             0.2222222222222222,
             "#7201a8"
            ],
            [
             0.3333333333333333,
             "#9c179e"
            ],
            [
             0.4444444444444444,
             "#bd3786"
            ],
            [
             0.5555555555555556,
             "#d8576b"
            ],
            [
             0.6666666666666666,
             "#ed7953"
            ],
            [
             0.7777777777777778,
             "#fb9f3a"
            ],
            [
             0.8888888888888888,
             "#fdca26"
            ],
            [
             1,
             "#f0f921"
            ]
           ]
          },
          "colorway": [
           "#636efa",
           "#EF553B",
           "#00cc96",
           "#ab63fa",
           "#FFA15A",
           "#19d3f3",
           "#FF6692",
           "#B6E880",
           "#FF97FF",
           "#FECB52"
          ],
          "font": {
           "color": "#2a3f5f"
          },
          "geo": {
           "bgcolor": "white",
           "lakecolor": "white",
           "landcolor": "#E5ECF6",
           "showlakes": true,
           "showland": true,
           "subunitcolor": "white"
          },
          "hoverlabel": {
           "align": "left"
          },
          "hovermode": "closest",
          "mapbox": {
           "style": "light"
          },
          "paper_bgcolor": "white",
          "plot_bgcolor": "#E5ECF6",
          "polar": {
           "angularaxis": {
            "gridcolor": "white",
            "linecolor": "white",
            "ticks": ""
           },
           "bgcolor": "#E5ECF6",
           "radialaxis": {
            "gridcolor": "white",
            "linecolor": "white",
            "ticks": ""
           }
          },
          "scene": {
           "xaxis": {
            "backgroundcolor": "#E5ECF6",
            "gridcolor": "white",
            "gridwidth": 2,
            "linecolor": "white",
            "showbackground": true,
            "ticks": "",
            "zerolinecolor": "white"
           },
           "yaxis": {
            "backgroundcolor": "#E5ECF6",
            "gridcolor": "white",
            "gridwidth": 2,
            "linecolor": "white",
            "showbackground": true,
            "ticks": "",
            "zerolinecolor": "white"
           },
           "zaxis": {
            "backgroundcolor": "#E5ECF6",
            "gridcolor": "white",
            "gridwidth": 2,
            "linecolor": "white",
            "showbackground": true,
            "ticks": "",
            "zerolinecolor": "white"
           }
          },
          "shapedefaults": {
           "line": {
            "color": "#2a3f5f"
           }
          },
          "ternary": {
           "aaxis": {
            "gridcolor": "white",
            "linecolor": "white",
            "ticks": ""
           },
           "baxis": {
            "gridcolor": "white",
            "linecolor": "white",
            "ticks": ""
           },
           "bgcolor": "#E5ECF6",
           "caxis": {
            "gridcolor": "white",
            "linecolor": "white",
            "ticks": ""
           }
          },
          "title": {
           "x": 0.05
          },
          "xaxis": {
           "automargin": true,
           "gridcolor": "white",
           "linecolor": "white",
           "ticks": "",
           "title": {
            "standoff": 15
           },
           "zerolinecolor": "white",
           "zerolinewidth": 2
          },
          "yaxis": {
           "automargin": true,
           "gridcolor": "white",
           "linecolor": "white",
           "ticks": "",
           "title": {
            "standoff": 15
           },
           "zerolinecolor": "white",
           "zerolinewidth": 2
          }
         }
        },
        "xaxis": {
         "autorange": true,
         "range": [
          "2023-12-22 23:48:58.2102",
          "2024-08-05 09:11:01.7898"
         ],
         "type": "date"
        },
        "yaxis": {
         "autorange": true,
         "range": [
          40.77035922330097,
          142.80764077669903
         ],
         "type": "linear"
        }
       }
      },
      "image/png": "[encoded data removed]",
      "text/html": [
       "<div>                            <div id=\"a197040c-4a7c-4846-bd26-9fd2f4d78744\" class=\"plotly-graph-div\" style=\"height:525px; width:100%;\"></div>            <script type=\"text/javascript\">                require([\"plotly\"], function(Plotly) {                    window.PLOTLYENV=window.PLOTLYENV || {};                                    if (document.getElementById(\"a197040c-4a7c-4846-bd26-9fd2f4d78744\")) {                    Plotly.newPlot(                        \"a197040c-4a7c-4846-bd26-9fd2f4d78744\",                        [{\"mode\":\"markers\",\"x\":[\"2024-01-04T05:00:00\",\"2024-01-05T05:00:00\",\"2024-01-08T05:00:00\",\"2024-01-09T05:00:00\",\"2024-01-10T05:00:00\",\"2024-01-11T05:00:00\",\"2024-01-12T05:00:00\",\"2024-01-16T05:00:00\",\"2024-01-17T05:00:00\",\"2024-01-18T05:00:00\",\"2024-01-19T05:00:00\",\"2024-01-22T05:00:00\",\"2024-01-23T05:00:00\",\"2024-01-24T05:00:00\",\"2024-01-25T05:00:00\",\"2024-01-26T05:00:00\",\"2024-01-29T05:00:00\",\"2024-01-30T05:00:00\",\"2024-01-31T05:00:00\",\"2024-02-01T05:00:00\",\"2024-02-02T05:00:00\",\"2024-02-05T05:00:00\",\"2024-02-06T05:00:00\",\"2024-02-07T05:00:00\",\"2024-02-08T05:00:00\",\"2024-02-09T05:00:00\",\"2024-02-12T05:00:00\",\"2024-02-13T05:00:00\",\"2024-02-14T05:00:00\",\"2024-02-15T05:00:00\",\"2024-02-16T05:00:00\",\"2024-02-20T05:00:00\",\"2024-02-21T05:00:00\",\"2024-02-22T05:00:00\",\"2024-02-23T05:00:00\",\"2024-02-26T05:00:00\",\"2024-02-27T05:00:00\",\"2024-02-28T05:00:00\",\"2024-02-29T05:00:00\",\"2024-03-01T05:00:00\",\"2024-03-04T05:00:00\",\"2024-03-05T05:00:00\",\"2024-03-06T05:00:00\",\"2024-03-07T05:00:00\",\"2024-03-08T05:00:00\",\"2024-03-11T04:00:00\",\"2024-03-12T04:00:00\",\"2024-03-13T04:00:00\",\"2024-03-14T04:00:00\",\"2024-03-15T04:00:00\",\"2024-03-18T04:00:00\",\"2024-03-19T04:00:00\",\"2024-03-20T04:00:00\",\"2024-03-21T04:00:00\",\"2024-03-22T04:00:00\",\"2024-03-25T04:00:00\",\"2024-03-26T04:00:00\",\"2024-03-27T04:00:00\",\"2024-03-28T04:00:00\",\"2024-04-01T04:00:00\",\"2024-04-02T04:00:00\",\"2024-04-03T04:00:00\",\"2024-04-04T04:00:00\",\"2024-04-05T04:00:00\",\"2024-04-08T04:00:00\",\"2024-04-09T04:00:00\",\"2024-04-10T04:00:00\",\"2024-04-11T04:00:00\",\"2024-04-12T04:00:00\",\"2024-04-15T04:00:00\",\"2024-04-16T04:00:00\",\"2024-04-17T04:00:00\",\"2024-04-18T04:00:00\",\"2024-04-19T04:00:00\",\"2024-04-22T04:00:00\",\"2024-04-23T04:00:00\",\"2024-04-24T04:00:00\",\"2024-04-25T04:00:00\",\"2024-04-26T04:00:00\",\"2024-04-29T04:00:00\",\"2024-04-30T04:00:00\",\"2024-05-01T04:00:00\",\"2024-05-02T04:00:00\",\"2024-05-03T04:00:00\",\"2024-05-06T04:00:00\",\"2024-05-07T04:00:00\",\"2024-05-08T04:00:00\",\"2024-05-09T04:00:00\",\"2024-05-10T04:00:00\",\"2024-05-13T04:00:00\",\"2024-05-14T04:00:00\",\"2024-05-15T04:00:00\",\"2024-05-16T04:00:00\",\"2024-05-17T04:00:00\",\"2024-05-20T04:00:00\",\"2024-05-21T04:00:00\",\"2024-05-22T04:00:00\",\"2024-05-23T04:00:00\",\"2024-05-24T04:00:00\",\"2024-05-28T04:00:00\",\"2024-05-29T04:00:00\",\"2024-05-30T04:00:00\",\"2024-05-31T04:00:00\",\"2024-06-03T04:00:00\",\"2024-06-04T04:00:00\",\"2024-06-05T04:00:00\",\"2024-06-06T04:00:00\",\"2024-06-07T04:00:00\",\"2024-06-10T04:00:00\",\"2024-06-11T04:00:00\",\"2024-06-12T04:00:00\",\"2024-06-13T04:00:00\",\"2024-06-14T04:00:00\",\"2024-06-17T04:00:00\",\"2024-06-18T04:00:00\",\"2024-06-20T04:00:00\",\"2024-06-21T04:00:00\",\"2024-06-24T04:00:00\",\"2024-06-25T04:00:00\",\"2024-06-26T04:00:00\",\"2024-06-27T04:00:00\",\"2024-06-28T04:00:00\",\"2024-07-01T04:00:00\",\"2024-07-02T04:00:00\",\"2024-07-03T04:00:00\",\"2024-07-05T04:00:00\",\"2024-07-08T04:00:00\",\"2024-07-09T04:00:00\",\"2024-07-10T04:00:00\",\"2024-07-11T04:00:00\",\"2024-07-12T04:00:00\",\"2024-07-15T04:00:00\",\"2024-07-16T04:00:00\",\"2024-07-17T04:00:00\",\"2024-07-18T04:00:00\",\"2024-07-19T04:00:00\",\"2024-07-22T04:00:00\",\"2024-07-23T04:00:00\",\"2024-07-24T04:00:00\"],\"y\":[47.998000000000005,49.097,52.253,53.14,54.35,54.822,54.71,56.382000000000005,56.053,57.107000000000006,59.491,59.653999999999996,59.873000000000005,61.362,61.617,61.03099999999999,62.464999999999996,62.774,61.527,63.027,66.16,69.33200000000001,68.223,70.099,69.64099999999999,72.13300000000001,72.248,72.128,73.9,72.658,72.613,69.452,67.47200000000001,78.538,78.817,79.092,78.701,77.663,79.112,82.279,85.237,85.964,88.7,92.66900000000001,87.52799999999999,85.774,91.913,90.888,87.944,87.8365,88.455,89.398,90.372,91.435,94.289,95.002,92.561,90.25,90.356,90.363,89.452,88.964,85.905,88.00800000000001,87.13300000000001,85.354,87.039,90.616,88.186,86.001,87.41499999999999,84.035,84.671,76.2,79.518,82.423,79.67699999999999,82.632,87.735,87.757,86.402,83.041,85.817,88.789,92.14,90.554,90.412,88.747,89.878,90.399,91.356,94.63,94.35900000000001,92.479,94.78,95.386,94.95,103.799,106.46900000000001,113.901,114.825,110.5,109.633,115.0,116.43699999999998,122.44000000000001,120.998,120.888,121.79,120.91,125.2,129.61,131.88,130.98,135.58,130.78,126.57,118.11,126.09,126.4,123.99,123.54,124.3,122.67,128.28,125.83,128.2,131.38,134.91,127.4,129.24,128.44,126.36,117.99,121.09,117.93,123.54,122.59,114.25],\"type\":\"scatter\"}],                        {\"template\":{\"data\":{\"histogram2dcontour\":[{\"type\":\"histogram2dcontour\",\"colorbar\":{\"outlinewidth\":0,\"ticks\":\"\"},\"colorscale\":[[0.0,\"#0d0887\"],[0.1111111111111111,\"#46039f\"],[0.2222222222222222,\"#7201a8\"],[0.3333333333333333,\"#9c179e\"],[0.4444444444444444,\"#bd3786\"],[0.5555555555555556,\"#d8576b\"],[0.6666666666666666,\"#ed7953\"],[0.7777777777777778,\"#fb9f3a\"],[0.8888888888888888,\"#fdca26\"],[1.0,\"#f0f921\"]]}],\"choropleth\":[{\"type\":\"choropleth\",\"colorbar\":{\"outlinewidth\":0,\"ticks\":\"\"}}],\"histogram2d\":[{\"type\":\"histogram2d\",\"colorbar\":{\"outlinewidth\":0,\"ticks\":\"\"},\"colorscale\":[[0.0,\"#0d0887\"],[0.1111111111111111,\"#46039f\"],[0.2222222222222222,\"#7201a8\"],[0.3333333333333333,\"#9c179e\"],[0.4444444444444444,\"#bd3786\"],[0.5555555555555556,\"#d8576b\"],[0.6666666666666666,\"#ed7953\"],[0.7777777777777778,\"#fb9f3a\"],[0.8888888888888888,\"#fdca26\"],[1.0,\"#f0f921\"]]}],\"heatmap\":[{\"type\":\"heatmap\",\"colorbar\":{\"outlinewidth\":0,\"ticks\":\"\"},\"colorscale\":[[0.0,\"#0d0887\"],[0.1111111111111111,\"#46039f\"],[0.2222222222222222,\"#7201a8\"],[0.3333333333333333,\"#9c179e\"],[0.4444444444444444,\"#bd3786\"],[0.5555555555555556,\"#d8576b\"],[0.6666666666666666,\"#ed7953\"],[0.7777777777777778,\"#fb9f3a\"],[0.8888888888888888,\"#fdca26\"],[1.0,\"#f0f921\"]]}],\"heatmapgl\":[{\"type\":\"heatmapgl\",\"colorbar\":{\"outlinewidth\":0,\"ticks\":\"\"},\"colorscale\":[[0.0,\"#0d0887\"],[0.1111111111111111,\"#46039f\"],[0.2222222222222222,\"#7201a8\"],[0.3333333333333333,\"#9c179e\"],[0.4444444444444444,\"#bd3786\"],[0.5555555555555556,\"#d8576b\"],[0.6666666666666666,\"#ed7953\"],[0.7777777777777778,\"#fb9f3a\"],[0.8888888888888888,\"#fdca26\"],[1.0,\"#f0f921\"]]}],\"contourcarpet\":[{\"type\":\"contourcarpet\",\"colorbar\":{\"outlinewidth\":0,\"ticks\":\"\"}}],\"contour\":[{\"type\":\"contour\",\"colorbar\":{\"outlinewidth\":0,\"ticks\":\"\"},\"colorscale\":[[0.0,\"#0d0887\"],[0.1111111111111111,\"#46039f\"],[0.2222222222222222,\"#7201a8\"],[0.3333333333333333,\"#9c179e\"],[0.4444444444444444,\"#bd3786\"],[0.5555555555555556,\"#d8576b\"],[0.6666666666666666,\"#ed7953\"],[0.7777777777777778,\"#fb9f3a\"],[0.8888888888888888,\"#fdca26\"],[1.0,\"#f0f921\"]]}],\"surface\":[{\"type\":\"surface\",\"colorbar\":{\"outlinewidth\":0,\"ticks\":\"\"},\"colorscale\":[[0.0,\"#0d0887\"],[0.1111111111111111,\"#46039f\"],[0.2222222222222222,\"#7201a8\"],[0.3333333333333333,\"#9c179e\"],[0.4444444444444444,\"#bd3786\"],[0.5555555555555556,\"#d8576b\"],[0.6666666666666666,\"#ed7953\"],[0.7777777777777778,\"#fb9f3a\"],[0.8888888888888888,\"#fdca26\"],[1.0,\"#f0f921\"]]}],\"mesh3d\":[{\"type\":\"mesh3d\",\"colorbar\":{\"outlinewidth\":0,\"ticks\":\"\"}}],\"scatter\":[{\"fillpattern\":{\"fillmode\":\"overlay\",\"size\":10,\"solidity\":0.2},\"type\":\"scatter\"}],\"parcoords\":[{\"type\":\"parcoords\",\"line\":{\"colorbar\":{\"outlinewidth\":0,\"ticks\":\"\"}}}],\"scatterpolargl\":[{\"type\":\"scatterpolargl\",\"marker\":{\"colorbar\":{\"outlinewidth\":0,\"ticks\":\"\"}}}],\"bar\":[{\"error_x\":{\"color\":\"#2a3f5f\"},\"error_y\":{\"color\":\"#2a3f5f\"},\"marker\":{\"line\":{\"color\":\"#E5ECF6\",\"width\":0.5},\"pattern\":{\"fillmode\":\"overlay\",\"size\":10,\"solidity\":0.2}},\"type\":\"bar\"}],\"scattergeo\":[{\"type\":\"scattergeo\",\"marker\":{\"colorbar\":{\"outlinewidth\":0,\"ticks\":\"\"}}}],\"scatterpolar\":[{\"type\":\"scatterpolar\",\"marker\":{\"colorbar\":{\"outlinewidth\":0,\"ticks\":\"\"}}}],\"histogram\":[{\"marker\":{\"pattern\":{\"fillmode\":\"overlay\",\"size\":10,\"solidity\":0.2}},\"type\":\"histogram\"}],\"scattergl\":[{\"type\":\"scattergl\",\"marker\":{\"colorbar\":{\"outlinewidth\":0,\"ticks\":\"\"}}}],\"scatter3d\":[{\"type\":\"scatter3d\",\"line\":{\"colorbar\":{\"outlinewidth\":0,\"ticks\":\"\"}},\"marker\":{\"colorbar\":{\"outlinewidth\":0,\"ticks\":\"\"}}}],\"scattermapbox\":[{\"type\":\"scattermapbox\",\"marker\":{\"colorbar\":{\"outlinewidth\":0,\"ticks\":\"\"}}}],\"scatterternary\":[{\"type\":\"scatterternary\",\"marker\":{\"colorbar\":{\"outlinewidth\":0,\"ticks\":\"\"}}}],\"scattercarpet\":[{\"type\":\"scattercarpet\",\"marker\":{\"colorbar\":{\"outlinewidth\":0,\"ticks\":\"\"}}}],\"carpet\":[{\"aaxis\":{\"endlinecolor\":\"#2a3f5f\",\"gridcolor\":\"white\",\"linecolor\":\"white\",\"minorgridcolor\":\"white\",\"startlinecolor\":\"#2a3f5f\"},\"baxis\":{\"endlinecolor\":\"#2a3f5f\",\"gridcolor\":\"white\",\"linecolor\":\"white\",\"minorgridcolor\":\"white\",\"startlinecolor\":\"#2a3f5f\"},\"type\":\"carpet\"}],\"table\":[{\"cells\":{\"fill\":{\"color\":\"#EBF0F8\"},\"line\":{\"color\":\"white\"}},\"header\":{\"fill\":{\"color\":\"#C8D4E3\"},\"line\":{\"color\":\"white\"}},\"type\":\"table\"}],\"barpolar\":[{\"marker\":{\"line\":{\"color\":\"#E5ECF6\",\"width\":0.5},\"pattern\":{\"fillmode\":\"overlay\",\"size\":10,\"solidity\":0.2}},\"type\":\"barpolar\"}],\"pie\":[{\"automargin\":true,\"type\":\"pie\"}]},\"layout\":{\"autotypenumbers\":\"strict\",\"colorway\":[\"#636efa\",\"#EF553B\",\"#00cc96\",\"#ab63fa\",\"#FFA15A\",\"#19d3f3\",\"#FF6692\",\"#B6E880\",\"#FF97FF\",\"#FECB52\"],\"font\":{\"color\":\"#2a3f5f\"},\"hovermode\":\"closest\",\"hoverlabel\":{\"align\":\"left\"},\"paper_bgcolor\":\"white\",\"plot_bgcolor\":\"#E5ECF6\",\"polar\":{\"bgcolor\":\"#E5ECF6\",\"angularaxis\":{\"gridcolor\":\"white\",\"linecolor\":\"white\",\"ticks\":\"\"},\"radialaxis\":{\"gridcolor\":\"white\",\"linecolor\":\"white\",\"ticks\":\"\"}},\"ternary\":{\"bgcolor\":\"#E5ECF6\",\"aaxis\":{\"gridcolor\":\"white\",\"linecolor\":\"white\",\"ticks\":\"\"},\"baxis\":{\"gridcolor\":\"white\",\"linecolor\":\"white\",\"ticks\":\"\"},\"caxis\":{\"gridcolor\":\"white\",\"linecolor\":\"white\",\"ticks\":\"\"}},\"coloraxis\":{\"colorbar\":{\"outlinewidth\":0,\"ticks\":\"\"}},\"colorscale\":{\"sequential\":[[0.0,\"#0d0887\"],[0.1111111111111111,\"#46039f\"],[0.2222222222222222,\"#7201a8\"],[0.3333333333333333,\"#9c179e\"],[0.4444444444444444,\"#bd3786\"],[0.5555555555555556,\"#d8576b\"],[0.6666666666666666,\"#ed7953\"],[0.7777777777777778,\"#fb9f3a\"],[0.8888888888888888,\"#fdca26\"],[1.0,\"#f0f921\"]],\"sequentialminus\":[[0.0,\"#0d0887\"],[0.1111111111111111,\"#46039f\"],[0.2222222222222222,\"#7201a8\"],[0.3333333333333333,\"#9c179e\"],[0.4444444444444444,\"#bd3786\"],[0.5555555555555556,\"#d8576b\"],[0.6666666666666666,\"#ed7953\"],[0.7777777777777778,\"#fb9f3a\"],[0.8888888888888888,\"#fdca26\"],[1.0,\"#f0f921\"]],\"diverging\":[[0,\"#8e0152\"],[0.1,\"#c51b7d\"],[0.2,\"#de77ae\"],[0.3,\"#f1b6da\"],[0.4,\"#fde0ef\"],[0.5,\"#f7f7f7\"],[0.6,\"#e6f5d0\"],[0.7,\"#b8e186\"],[0.8,\"#7fbc41\"],[0.9,\"#4d9221\"],[1,\"#276419\"]]},\"xaxis\":{\"gridcolor\":\"white\",\"linecolor\":\"white\",\"ticks\":\"\",\"title\":{\"standoff\":15},\"zerolinecolor\":\"white\",\"automargin\":true,\"zerolinewidth\":2},\"yaxis\":{\"gridcolor\":\"white\",\"linecolor\":\"white\",\"ticks\":\"\",\"title\":{\"standoff\":15},\"zerolinecolor\":\"white\",\"automargin\":true,\"zerolinewidth\":2},\"scene\":{\"xaxis\":{\"backgroundcolor\":\"#E5ECF6\",\"gridcolor\":\"white\",\"linecolor\":\"white\",\"showbackground\":true,\"ticks\":\"\",\"zerolinecolor\":\"white\",\"gridwidth\":2},\"yaxis\":{\"backgroundcolor\":\"#E5ECF6\",\"gridcolor\":\"white\",\"linecolor\":\"white\",\"showbackground\":true,\"ticks\":\"\",\"zerolinecolor\":\"white\",\"gridwidth\":2},\"zaxis\":{\"backgroundcolor\":\"#E5ECF6\",\"gridcolor\":\"white\",\"linecolor\":\"white\",\"showbackground\":true,\"ticks\":\"\",\"zerolinecolor\":\"white\",\"gridwidth\":2}},\"shapedefaults\":{\"line\":{\"color\":\"#2a3f5f\"}},\"annotationdefaults\":{\"arrowcolor\":\"#2a3f5f\",\"arrowhead\":0,\"arrowwidth\":1},\"geo\":{\"bgcolor\":\"white\",\"landcolor\":\"#E5ECF6\",\"subunitcolor\":\"white\",\"showland\":true,\"showlakes\":true,\"lakecolor\":\"white\"},\"title\":{\"x\":0.05},\"mapbox\":{\"style\":\"light\"}}}},                        {\"responsive\": true}                    ).then(function(){\n",
       "                            \n",
       "var gd = document.getElementById('a197040c-4a7c-4846-bd26-9fd2f4d78744');\n",
       "var x = new MutationObserver(function (mutations, observer) {{\n",
       "        var display = window.getComputedStyle(gd).display;\n",
       "        if (!display || display === 'none') {{\n",
       "            console.log([gd, 'removed!']);\n",
       "            Plotly.purge(gd);\n",
       "            observer.disconnect();\n",
       "        }}\n",
       "}});\n",
       "\n",
       "// Listen for the removal of the full notebook cells\n",
       "var notebookContainer = gd.closest('#notebook-container');\n",
       "if (notebookContainer) {{\n",
       "    x.observe(notebookContainer, {childList: true});\n",
       "}}\n",
       "\n",
       "// Listen for the clearing of the current output cell\n",
       "var outputEl = gd.closest('.output');\n",
       "if (outputEl) {{\n",
       "    x.observe(outputEl, {childList: true});\n",
       "}}\n",
       "\n",
       "                        })                };                });            </script>        </div>"
      ]
     },
     "metadata": {},
     "output_type": "display_data"
    }
   ],
   "source": [
    "fig.show()"
   ]
  }
 ],
 "metadata": {
  "kernelspec": {
   "display_name": "Python 3 (ipykernel)",
   "language": "python",
   "name": "python3"
  },
  "language_info": {
   "codemirror_mode": {
    "name": "ipython",
    "version": 3
   },
   "file_extension": ".py",
   "mimetype": "text/x-python",
   "name": "python",
   "nbconvert_exporter": "python",
   "pygments_lexer": "ipython3",
   "version": "3.11.9"
  }
 },
 "nbformat": 4,
 "nbformat_minor": 5
}
