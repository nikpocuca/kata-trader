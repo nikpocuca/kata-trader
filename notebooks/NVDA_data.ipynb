{
 "cells": [
  {
   "cell_type": "markdown",
   "id": "42e35adc-6ddf-4a42-8f93-265055534b9c",
   "metadata": {},
   "source": [
    "# NVIDIA Data Visualization\n"
   ]
  },
  {
   "cell_type": "code",
   "execution_count": 1,
   "id": "cd81993b-1e39-4e38-9c6a-27bcb8d82b74",
   "metadata": {},
   "outputs": [],
   "source": [
    "# use alpaca as data api \n",
    "import os \n",
    "from typing import List\n",
    "import pandas as pd\n",
    "import numpy as np\n",
    "from datetime import datetime\n",
    "from sklearn.gaussian_process import GaussianProcessRegressor\n",
    "import sklearn.gaussian_process.kernels as K \n",
    "import matplotlib.pyplot as plt \n",
    "\n",
    "from matplotlib.pyplot import figure\n",
    "from alpaca.data.historical import StockHistoricalDataClient\n",
    "from alpaca.data.requests import StockBarsRequest\n",
    "from alpaca.data.timeframe import TimeFrame\n",
    "\n",
    "import yaml\n",
    "import redis\n",
    "import json\n",
    "\n",
    "def acquire_credentials(secret_path: str = None):\n",
    "    \"\"\"\n",
    "    looks for the credentials in a secret file\n",
    "    \"\"\"\n",
    "    if secret_path is None:\n",
    "        secret_path = PATH_SECRETS\n",
    "    else:\n",
    "        pass\n",
    "\n",
    "    if os.path.exists(secret_path):\n",
    "\n",
    "        # open file to secrets\n",
    "        with open(secret_path, \"r\") as f:\n",
    "\n",
    "            # use yaml to safely load\n",
    "            key_information = yaml.safe_load(f)\n",
    "            return key_information[\"api_key\"], key_information[\"api_secret\"]\n",
    "\n",
    "    else:\n",
    "        logger.critical(\"Secrets file not found\")\n",
    "        raise FileNotFoundError(f\"File not found for {secret_path}\")\n"
   ]
  },
  {
   "cell_type": "code",
   "execution_count": 2,
   "id": "2337b7ee-2495-4bd9-b019-42113c410a3c",
   "metadata": {},
   "outputs": [],
   "source": [
    "# download data functions \n",
    "\n",
    "def download_data(secrets_path, start_date):\n",
    "    \"\"\"\n",
    "    downloads data from the alpaca \n",
    "    \"\"\"\n",
    "    api_key , api_secret = acquire_credentials(secrets_path)\n",
    "\n",
    "    client = StockHistoricalDataClient(api_key=api_key,\n",
    "                                       secret_key=api_secret)\n",
    "\n",
    "    request_params = StockBarsRequest(\n",
    "        symbol_or_symbols=\"NVDA\",\n",
    "        timeframe=TimeFrame.Day,\n",
    "        start=datetime.strptime(start_date, '%Y-%m-%d')\n",
    "    )\n",
    "\n",
    "    bars = client.get_stock_bars(request_params)\n",
    "    df = bars.df \n",
    "    timestamps = df.index.map(lambda x : x[1]).values\n",
    "    closing_prices = df['close'].values\n",
    "\n",
    "    interim_df = pd.DataFrame({'timestamp':timestamps, \n",
    "                               'price': closing_prices})\n",
    "    \n",
    "    return interim_df        "
   ]
  },
  {
   "cell_type": "code",
   "execution_count": 3,
   "id": "f097a432-7db1-4a14-b01f-7415be7cfbc5",
   "metadata": {},
   "outputs": [],
   "source": [
    "SECRETS_PATH = \"../src/.secrets\"\n",
    "START_DATE = \"2024-01-04\""
   ]
  },
  {
   "cell_type": "code",
   "execution_count": 4,
   "id": "f39a79a1-705d-47b4-aec1-feb7c98e4f87",
   "metadata": {},
   "outputs": [],
   "source": [
    "df = download_data(SECRETS_PATH, START_DATE)"
   ]
  },
  {
   "cell_type": "code",
   "execution_count": 5,
   "id": "e6802ff1-6514-4b89-b8f1-572d6008b53c",
   "metadata": {},
   "outputs": [],
   "source": [
    "# save raw data to redis \n",
    "connection =  redis.Redis(host='red', port=6379)"
   ]
  },
  {
   "cell_type": "code",
   "execution_count": 6,
   "id": "66b8b646-4544-4405-81ec-4fea7896c414",
   "metadata": {},
   "outputs": [],
   "source": [
    "# stock list \n",
    "\n",
    "stock_list = connection.get('_STOCKS')\n",
    "\n",
    "if stock_list is None:\n",
    "    connection.set('_STOCKS', json.dumps(['NVDA']))\n",
    "else:\n",
    "    stock_list = json.loads(stock_list)\n",
    "    if 'NVDA' not in stock_list:\n",
    "        stock_list.append('NVDA')\n",
    "        connection.set('_STOCKS', json.dumps(stock_list))\n"
   ]
  },
  {
   "cell_type": "code",
   "execution_count": 8,
   "id": "99f2dff8-3dea-4541-adee-36b4d47d6e68",
   "metadata": {},
   "outputs": [
    {
     "data": {
      "text/plain": [
       "b'[\"NVDA\"]'"
      ]
     },
     "execution_count": 8,
     "metadata": {},
     "output_type": "execute_result"
    }
   ],
   "source": []
  },
  {
   "cell_type": "code",
   "execution_count": null,
   "id": "28d29cbe-e912-431e-a03b-c785ea5a3bc0",
   "metadata": {},
   "outputs": [],
   "source": []
  }
 ],
 "metadata": {
  "kernelspec": {
   "display_name": "Python 3 (ipykernel)",
   "language": "python",
   "name": "python3"
  },
  "language_info": {
   "codemirror_mode": {
    "name": "ipython",
    "version": 3
   },
   "file_extension": ".py",
   "mimetype": "text/x-python",
   "name": "python",
   "nbconvert_exporter": "python",
   "pygments_lexer": "ipython3",
   "version": "3.11.9"
  }
 },
 "nbformat": 4,
 "nbformat_minor": 5
}
